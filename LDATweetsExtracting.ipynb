{
 "metadata": {
  "name": "",
  "signature": "sha256:ec214d7abb524c120c99fc328ab705e2151f09f17ae2668785afcfc69fb3a44d"
 },
 "nbformat": 3,
 "nbformat_minor": 0,
 "worksheets": [
  {
   "cells": [
    {
     "cell_type": "code",
     "collapsed": false,
     "input": [
      "import sys\n",
      "print(sys.version)\n",
      "import pandas as pd\n",
      "import math\n",
      "import numpy as np\n",
      "import matplotlib.pyplot as plt\n",
      "import datetime\n",
      "from collections import Counter\n",
      "%matplotlib inline"
     ],
     "language": "python",
     "metadata": {},
     "outputs": [
      {
       "output_type": "stream",
       "stream": "stdout",
       "text": [
        "3.3.5 |Anaconda 2.1.0 (64-bit)| (default, Mar 10 2014, 11:25:04) [MSC v.1600 64 bit (AMD64)]\n"
       ]
      }
     ],
     "prompt_number": 20
    },
    {
     "cell_type": "code",
     "collapsed": false,
     "input": [
      "import bson\n",
      "import gzip\n",
      "\n",
      "class open_bson:\n",
      "    def __init__(self, path):\n",
      "        self.path = path\n",
      "    \n",
      "    def __enter__(self):\n",
      "        open_file_func = open\n",
      "        if \".gz\" == fileName[-3:]:\n",
      "            open_file_func = gzip.open\n",
      "        self.f = open_file_func(fileName, 'rb')\n",
      "        return bson.decode_file_iter(self.f)\n",
      "    \n",
      "    def __exit__(self, *exc_info):\n",
      "        self.f.close()\n",
      "        del self.f"
     ],
     "language": "python",
     "metadata": {},
     "outputs": [],
     "prompt_number": 21
    },
    {
     "cell_type": "code",
     "collapsed": false,
     "input": [
      "fileName = \"C:/Users/dkorolev/Downloads/twitter-analysis_last_last/Tweets.bson\"\n",
      "file_handlers = dict()\n",
      "count = 0\n",
      "with open_bson(fileName) as f:\n",
      "    for dict_data in f:\n",
      "        if count % 500000 == 0:\n",
      "            print(count)\n",
      "        #if count == 100:\n",
      "        #    break\n",
      "        count += 1\n",
      "        tweet = dict_data\n",
      "        if 'tweet_object' in dict_data:\n",
      "            tweet = dict_data['tweet_object']\n",
      "        user_id = tweet['user']['id']\n",
      "        if user_id not in file_handlers:\n",
      "            if len(file_handlers) == 2000:\n",
      "                print('close all')\n",
      "                for k,v in file_handlers.items():\n",
      "                    v.close()\n",
      "                file_handlers = dict()\n",
      "            file_handlers[user_id] = open('%d' % user_id, 'ab')\n",
      "        f = file_handlers[user_id]\n",
      "        #print(tweet['text'])\n",
      "        #uprint(tweet['text'], file=f)\n",
      "        #f.write(str(tweet['id']).encode(\"utf-8\"))\n",
      "        f.write(tweet['text'].encode(\"utf-8\"))\n",
      "        f.write('\\n'.encode(\"utf-8\"))\n",
      "for k,v in file_handlers.items():\n",
      "    v.close()"
     ],
     "language": "python",
     "metadata": {},
     "outputs": [
      {
       "output_type": "stream",
       "stream": "stdout",
       "text": [
        "0\n",
        "500000"
       ]
      },
      {
       "output_type": "stream",
       "stream": "stdout",
       "text": [
        "\n",
        "close all"
       ]
      },
      {
       "output_type": "stream",
       "stream": "stdout",
       "text": [
        "\n",
        "1000000"
       ]
      },
      {
       "output_type": "stream",
       "stream": "stdout",
       "text": [
        "\n",
        "close all"
       ]
      },
      {
       "output_type": "stream",
       "stream": "stdout",
       "text": [
        "\n",
        "1500000"
       ]
      },
      {
       "output_type": "stream",
       "stream": "stdout",
       "text": [
        "\n",
        "close all"
       ]
      },
      {
       "output_type": "stream",
       "stream": "stdout",
       "text": [
        "\n",
        "close all"
       ]
      },
      {
       "output_type": "stream",
       "stream": "stdout",
       "text": [
        "\n",
        "2000000"
       ]
      },
      {
       "output_type": "stream",
       "stream": "stdout",
       "text": [
        "\n",
        "close all"
       ]
      },
      {
       "output_type": "stream",
       "stream": "stdout",
       "text": [
        "\n",
        "close all"
       ]
      },
      {
       "output_type": "stream",
       "stream": "stdout",
       "text": [
        "\n",
        "close all"
       ]
      },
      {
       "output_type": "stream",
       "stream": "stdout",
       "text": [
        "\n",
        "close all"
       ]
      },
      {
       "output_type": "stream",
       "stream": "stdout",
       "text": [
        "\n",
        "2500000"
       ]
      },
      {
       "output_type": "stream",
       "stream": "stdout",
       "text": [
        "\n",
        "close all"
       ]
      },
      {
       "output_type": "stream",
       "stream": "stdout",
       "text": [
        "\n",
        "close all"
       ]
      },
      {
       "output_type": "stream",
       "stream": "stdout",
       "text": [
        "\n",
        "close all"
       ]
      },
      {
       "output_type": "stream",
       "stream": "stdout",
       "text": [
        "\n",
        "close all"
       ]
      },
      {
       "output_type": "stream",
       "stream": "stdout",
       "text": [
        "\n",
        "close all"
       ]
      },
      {
       "output_type": "stream",
       "stream": "stdout",
       "text": [
        "\n",
        "close all"
       ]
      },
      {
       "output_type": "stream",
       "stream": "stdout",
       "text": [
        "\n",
        "close all"
       ]
      },
      {
       "output_type": "stream",
       "stream": "stdout",
       "text": [
        "\n",
        "close all"
       ]
      },
      {
       "output_type": "stream",
       "stream": "stdout",
       "text": [
        "\n",
        "close all"
       ]
      },
      {
       "output_type": "stream",
       "stream": "stdout",
       "text": [
        "\n",
        "close all"
       ]
      },
      {
       "output_type": "stream",
       "stream": "stdout",
       "text": [
        "\n",
        "close all"
       ]
      },
      {
       "output_type": "stream",
       "stream": "stdout",
       "text": [
        "\n",
        "close all"
       ]
      },
      {
       "output_type": "stream",
       "stream": "stdout",
       "text": [
        "\n",
        "close all"
       ]
      },
      {
       "output_type": "stream",
       "stream": "stdout",
       "text": [
        "\n",
        "close all"
       ]
      },
      {
       "output_type": "stream",
       "stream": "stdout",
       "text": [
        "\n",
        "3000000"
       ]
      },
      {
       "output_type": "stream",
       "stream": "stdout",
       "text": [
        "\n",
        "close all"
       ]
      },
      {
       "output_type": "stream",
       "stream": "stdout",
       "text": [
        "\n",
        "close all"
       ]
      },
      {
       "output_type": "stream",
       "stream": "stdout",
       "text": [
        "\n",
        "close all"
       ]
      },
      {
       "output_type": "stream",
       "stream": "stdout",
       "text": [
        "\n",
        "close all"
       ]
      },
      {
       "output_type": "stream",
       "stream": "stdout",
       "text": [
        "\n",
        "close all"
       ]
      },
      {
       "output_type": "stream",
       "stream": "stdout",
       "text": [
        "\n",
        "close all"
       ]
      },
      {
       "output_type": "stream",
       "stream": "stdout",
       "text": [
        "\n",
        "close all"
       ]
      },
      {
       "output_type": "stream",
       "stream": "stdout",
       "text": [
        "\n",
        "close all"
       ]
      },
      {
       "output_type": "stream",
       "stream": "stdout",
       "text": [
        "\n",
        "close all"
       ]
      },
      {
       "output_type": "stream",
       "stream": "stdout",
       "text": [
        "\n",
        "close all"
       ]
      },
      {
       "output_type": "stream",
       "stream": "stdout",
       "text": [
        "\n",
        "close all"
       ]
      },
      {
       "output_type": "stream",
       "stream": "stdout",
       "text": [
        "\n",
        "close all"
       ]
      },
      {
       "output_type": "stream",
       "stream": "stdout",
       "text": [
        "\n",
        "close all"
       ]
      },
      {
       "output_type": "stream",
       "stream": "stdout",
       "text": [
        "\n",
        "close all"
       ]
      },
      {
       "output_type": "stream",
       "stream": "stdout",
       "text": [
        "\n",
        "3500000"
       ]
      },
      {
       "output_type": "stream",
       "stream": "stdout",
       "text": [
        "\n",
        "close all"
       ]
      },
      {
       "output_type": "stream",
       "stream": "stdout",
       "text": [
        "\n",
        "close all"
       ]
      },
      {
       "output_type": "stream",
       "stream": "stdout",
       "text": [
        "\n",
        "close all"
       ]
      },
      {
       "output_type": "stream",
       "stream": "stdout",
       "text": [
        "\n",
        "close all"
       ]
      },
      {
       "output_type": "stream",
       "stream": "stdout",
       "text": [
        "\n",
        "close all"
       ]
      },
      {
       "output_type": "stream",
       "stream": "stdout",
       "text": [
        "\n",
        "close all"
       ]
      },
      {
       "output_type": "stream",
       "stream": "stdout",
       "text": [
        "\n",
        "close all"
       ]
      },
      {
       "output_type": "stream",
       "stream": "stdout",
       "text": [
        "\n",
        "close all"
       ]
      },
      {
       "output_type": "stream",
       "stream": "stdout",
       "text": [
        "\n",
        "close all"
       ]
      },
      {
       "output_type": "stream",
       "stream": "stdout",
       "text": [
        "\n",
        "close all"
       ]
      },
      {
       "output_type": "stream",
       "stream": "stdout",
       "text": [
        "\n",
        "close all"
       ]
      },
      {
       "output_type": "stream",
       "stream": "stdout",
       "text": [
        "\n",
        "close all"
       ]
      },
      {
       "output_type": "stream",
       "stream": "stdout",
       "text": [
        "\n",
        "close all"
       ]
      },
      {
       "output_type": "stream",
       "stream": "stdout",
       "text": [
        "\n",
        "close all"
       ]
      },
      {
       "output_type": "stream",
       "stream": "stdout",
       "text": [
        "\n",
        "4000000"
       ]
      },
      {
       "output_type": "stream",
       "stream": "stdout",
       "text": [
        "\n",
        "close all"
       ]
      },
      {
       "output_type": "stream",
       "stream": "stdout",
       "text": [
        "\n",
        "close all"
       ]
      },
      {
       "output_type": "stream",
       "stream": "stdout",
       "text": [
        "\n",
        "close all"
       ]
      },
      {
       "output_type": "stream",
       "stream": "stdout",
       "text": [
        "\n",
        "close all"
       ]
      },
      {
       "output_type": "stream",
       "stream": "stdout",
       "text": [
        "\n",
        "close all"
       ]
      },
      {
       "output_type": "stream",
       "stream": "stdout",
       "text": [
        "\n",
        "close all"
       ]
      },
      {
       "output_type": "stream",
       "stream": "stdout",
       "text": [
        "\n",
        "close all"
       ]
      },
      {
       "output_type": "stream",
       "stream": "stdout",
       "text": [
        "\n",
        "close all"
       ]
      },
      {
       "output_type": "stream",
       "stream": "stdout",
       "text": [
        "\n",
        "close all"
       ]
      },
      {
       "output_type": "stream",
       "stream": "stdout",
       "text": [
        "\n",
        "close all"
       ]
      },
      {
       "output_type": "stream",
       "stream": "stdout",
       "text": [
        "\n",
        "close all"
       ]
      },
      {
       "output_type": "stream",
       "stream": "stdout",
       "text": [
        "\n",
        "close all"
       ]
      },
      {
       "output_type": "stream",
       "stream": "stdout",
       "text": [
        "\n",
        "4500000"
       ]
      },
      {
       "output_type": "stream",
       "stream": "stdout",
       "text": [
        "\n",
        "close all"
       ]
      },
      {
       "output_type": "stream",
       "stream": "stdout",
       "text": [
        "\n",
        "close all"
       ]
      },
      {
       "output_type": "stream",
       "stream": "stdout",
       "text": [
        "\n",
        "close all"
       ]
      },
      {
       "output_type": "stream",
       "stream": "stdout",
       "text": [
        "\n",
        "close all"
       ]
      },
      {
       "output_type": "stream",
       "stream": "stdout",
       "text": [
        "\n",
        "close all"
       ]
      },
      {
       "output_type": "stream",
       "stream": "stdout",
       "text": [
        "\n",
        "close all"
       ]
      },
      {
       "output_type": "stream",
       "stream": "stdout",
       "text": [
        "\n",
        "close all"
       ]
      },
      {
       "output_type": "stream",
       "stream": "stdout",
       "text": [
        "\n",
        "close all"
       ]
      },
      {
       "output_type": "stream",
       "stream": "stdout",
       "text": [
        "\n"
       ]
      }
     ],
     "prompt_number": 32
    },
    {
     "cell_type": "code",
     "collapsed": false,
     "input": [
      "import pickle\n",
      "with open(\"../first_level_sample.txt\", 'rb') as f:\n",
      "    first_level_sample = pickle.load(f)"
     ],
     "language": "python",
     "metadata": {},
     "outputs": [],
     "prompt_number": 4
    },
    {
     "cell_type": "code",
     "collapsed": false,
     "input": [
      "pd.DataFrame(first_level_sample_list).to_csv('first_level_sample_list_exists', index=False)"
     ],
     "language": "python",
     "metadata": {},
     "outputs": [],
     "prompt_number": 19
    },
    {
     "cell_type": "code",
     "collapsed": false,
     "input": [
      "?np.savetxt"
     ],
     "language": "python",
     "metadata": {},
     "outputs": [],
     "prompt_number": 13
    },
    {
     "cell_type": "code",
     "collapsed": false,
     "input": [
      "import os\n",
      "files = os.listdir()\n",
      "first_level_sample_list = []\n",
      "with open('all/first_level_sample.vw', 'wb') as f_out:\n",
      "    for i in first_level_sample:\n",
      "        if str(i) in files:\n",
      "            first_level_sample_list.append(i)\n",
      "            text_for_user = ''\n",
      "            with open('%d' % i, 'r', encoding=\"utf8\") as f_in:\n",
      "                for line in f_in:\n",
      "                    text_for_user += line.strip() + ' '\n",
      "            f_out.write((' | ' + clean(text_for_user) + '\\n').encode(\"utf-8\"))\n",
      "        else:\n",
      "            print('Warn', i)"
     ],
     "language": "python",
     "metadata": {},
     "outputs": [
      {
       "output_type": "stream",
       "stream": "stdout",
       "text": [
        "Warn 198600704\n",
        "Warn 716740125548523522\n",
        "Warn"
       ]
      },
      {
       "output_type": "stream",
       "stream": "stdout",
       "text": [
        " 4850253903\n",
        "Warn"
       ]
      },
      {
       "output_type": "stream",
       "stream": "stdout",
       "text": [
        " 706579720809418752\n",
        "Warn"
       ]
      },
      {
       "output_type": "stream",
       "stream": "stdout",
       "text": [
        " 4149809296\n",
        "Warn"
       ]
      },
      {
       "output_type": "stream",
       "stream": "stdout",
       "text": [
        " 3244810408\n",
        "Warn"
       ]
      },
      {
       "output_type": "stream",
       "stream": "stdout",
       "text": [
        " 378478777\n",
        "Warn"
       ]
      },
      {
       "output_type": "stream",
       "stream": "stdout",
       "text": [
        " 716260048218038272\n",
        "Warn 636406029\n",
        "Warn"
       ]
      },
      {
       "output_type": "stream",
       "stream": "stdout",
       "text": [
        " 321494745\n",
        "Warn 1550916254\n",
        "Warn"
       ]
      },
      {
       "output_type": "stream",
       "stream": "stdout",
       "text": [
        " 4502280501\n",
        "Warn"
       ]
      },
      {
       "output_type": "stream",
       "stream": "stdout",
       "text": [
        " 3500552534\n",
        "Warn"
       ]
      },
      {
       "output_type": "stream",
       "stream": "stdout",
       "text": [
        " 263240770\n",
        "Warn 3258288514\n",
        "Warn"
       ]
      },
      {
       "output_type": "stream",
       "stream": "stdout",
       "text": [
        " 2936975798\n",
        "Warn"
       ]
      },
      {
       "output_type": "stream",
       "stream": "stdout",
       "text": [
        " 229208627\n",
        "Warn"
       ]
      },
      {
       "output_type": "stream",
       "stream": "stdout",
       "text": [
        " 14379613\n",
        "Warn"
       ]
      },
      {
       "output_type": "stream",
       "stream": "stdout",
       "text": [
        " 1082299148\n",
        "Warn"
       ]
      },
      {
       "output_type": "stream",
       "stream": "stdout",
       "text": [
        " 3851414368\n",
        "Warn"
       ]
      },
      {
       "output_type": "stream",
       "stream": "stdout",
       "text": [
        " 3299011459\n",
        "Warn"
       ]
      },
      {
       "output_type": "stream",
       "stream": "stdout",
       "text": [
        " 19213215\n",
        "Warn"
       ]
      },
      {
       "output_type": "stream",
       "stream": "stdout",
       "text": [
        " 222493617\n",
        "Warn"
       ]
      },
      {
       "output_type": "stream",
       "stream": "stdout",
       "text": [
        " 3385150395\n",
        "Warn"
       ]
      },
      {
       "output_type": "stream",
       "stream": "stdout",
       "text": [
        " 4124265432\n",
        "Warn"
       ]
      },
      {
       "output_type": "stream",
       "stream": "stdout",
       "text": [
        " 3151725546\n",
        "Warn"
       ]
      },
      {
       "output_type": "stream",
       "stream": "stdout",
       "text": [
        " 212040694\n",
        "Warn"
       ]
      },
      {
       "output_type": "stream",
       "stream": "stdout",
       "text": [
        " 16847948\n",
        "Warn 3210378321\n",
        "Warn"
       ]
      },
      {
       "output_type": "stream",
       "stream": "stdout",
       "text": [
        " 407981142\n",
        "Warn"
       ]
      },
      {
       "output_type": "stream",
       "stream": "stdout",
       "text": [
        " 2869001388\n",
        "Warn"
       ]
      },
      {
       "output_type": "stream",
       "stream": "stdout",
       "text": [
        " 3313556746\n",
        "Warn"
       ]
      },
      {
       "output_type": "stream",
       "stream": "stdout",
       "text": [
        " 2557273140\n",
        "Warn"
       ]
      },
      {
       "output_type": "stream",
       "stream": "stdout",
       "text": [
        " 262526291\n",
        "Warn"
       ]
      },
      {
       "output_type": "stream",
       "stream": "stdout",
       "text": [
        " 3030297955\n",
        "Warn"
       ]
      },
      {
       "output_type": "stream",
       "stream": "stdout",
       "text": [
        " 87259077\n",
        "Warn 48578216\n",
        "Warn 1918720626\n",
        "Warn"
       ]
      },
      {
       "output_type": "stream",
       "stream": "stdout",
       "text": [
        " 4877278917\n",
        "Warn 3078396944\n",
        "Warn"
       ]
      },
      {
       "output_type": "stream",
       "stream": "stdout",
       "text": [
        " 2962937564\n",
        "Warn"
       ]
      },
      {
       "output_type": "stream",
       "stream": "stdout",
       "text": [
        " 1335524720\n",
        "Warn 835059474\n",
        "Warn 101009173\n",
        "Warn 53880598\n",
        "Warn"
       ]
      },
      {
       "output_type": "stream",
       "stream": "stdout",
       "text": [
        " 3339046197\n",
        "Warn"
       ]
      },
      {
       "output_type": "stream",
       "stream": "stdout",
       "text": [
        " 498604365\n"
       ]
      }
     ],
     "prompt_number": 5
    },
    {
     "cell_type": "code",
     "collapsed": false,
     "input": [
      "with open('all/first_level_sample.ids', 'wb') as f:\n",
      "    pickle.dump(first_level_sample_list, f)"
     ],
     "language": "python",
     "metadata": {},
     "outputs": [],
     "prompt_number": 58
    },
    {
     "cell_type": "markdown",
     "metadata": {},
     "source": [
      "We will write some additional info about tweets"
     ]
    },
    {
     "cell_type": "code",
     "collapsed": false,
     "input": [
      "fileName = \"C:/Users/dkorolev/Downloads/twitter-analysis_last_last/Tweets.bson\"\n",
      "file_handlers = dict()\n",
      "count = 0\n",
      "with open_bson(fileName) as f:\n",
      "    for dict_data in f:\n",
      "        if count % 500000 == 0:\n",
      "            print(count)\n",
      "        #if count == 100:\n",
      "        #    break\n",
      "        count += 1\n",
      "        tweet = dict_data\n",
      "        if 'tweet_object' in dict_data:\n",
      "            tweet = dict_data['tweet_object']\n",
      "        user_id = tweet['user']['id']\n",
      "        if user_id not in file_handlers:\n",
      "            if len(file_handlers) == 2000:\n",
      "                print('close all')\n",
      "                for k,v in file_handlers.items():\n",
      "                    v.close()\n",
      "                file_handlers = dict()\n",
      "            file_handlers[user_id] = open('all_counts/%d' % user_id, 'ab')\n",
      "        f = file_handlers[user_id]\n",
      "        #print(tweet['text'])\n",
      "        #uprint(tweet['text'], file=f)\n",
      "        #f.write(str(tweet['id']).encode(\"utf-8\"))\n",
      "        f.write(str(tweet['id']).encode(\"utf-8\"))\n",
      "        f.write('\\t'.encode(\"utf-8\"))\n",
      "        f.write(str(tweet['retweet_count']).encode(\"utf-8\"))\n",
      "        f.write('\\t'.encode(\"utf-8\"))\n",
      "        f.write(str(tweet['favorite_count']).encode(\"utf-8\"))\n",
      "        f.write('\\t'.encode(\"utf-8\"))\n",
      "        f.write(str(len(tweet['text'].split('\\n'))).encode(\"utf-8\"))\n",
      "        f.write('\\t'.encode(\"utf-8\"))\n",
      "        if 'retweeted_status' in tweet:\n",
      "            f.write('1\\n'.encode(\"utf-8\"))\n",
      "        else:\n",
      "            f.write('0\\n'.encode(\"utf-8\"))\n",
      "for k,v in file_handlers.items():\n",
      "    v.close()"
     ],
     "language": "python",
     "metadata": {},
     "outputs": [
      {
       "output_type": "stream",
       "stream": "stdout",
       "text": [
        "0\n",
        "500000"
       ]
      },
      {
       "output_type": "stream",
       "stream": "stdout",
       "text": [
        "\n",
        "close all"
       ]
      },
      {
       "output_type": "stream",
       "stream": "stdout",
       "text": [
        "\n",
        "1000000"
       ]
      },
      {
       "output_type": "stream",
       "stream": "stdout",
       "text": [
        "\n",
        "close all"
       ]
      },
      {
       "output_type": "stream",
       "stream": "stdout",
       "text": [
        "\n",
        "1500000"
       ]
      },
      {
       "output_type": "stream",
       "stream": "stdout",
       "text": [
        "\n",
        "close all"
       ]
      },
      {
       "output_type": "stream",
       "stream": "stdout",
       "text": [
        "\n",
        "close all"
       ]
      },
      {
       "output_type": "stream",
       "stream": "stdout",
       "text": [
        "\n",
        "2000000"
       ]
      },
      {
       "output_type": "stream",
       "stream": "stdout",
       "text": [
        "\n",
        "close all"
       ]
      },
      {
       "output_type": "stream",
       "stream": "stdout",
       "text": [
        "\n",
        "close all"
       ]
      },
      {
       "output_type": "stream",
       "stream": "stdout",
       "text": [
        "\n",
        "close all"
       ]
      },
      {
       "output_type": "stream",
       "stream": "stdout",
       "text": [
        "\n",
        "close all"
       ]
      },
      {
       "output_type": "stream",
       "stream": "stdout",
       "text": [
        "\n",
        "2500000"
       ]
      },
      {
       "output_type": "stream",
       "stream": "stdout",
       "text": [
        "\n",
        "close all"
       ]
      },
      {
       "output_type": "stream",
       "stream": "stdout",
       "text": [
        "\n",
        "close all"
       ]
      },
      {
       "output_type": "stream",
       "stream": "stdout",
       "text": [
        "\n",
        "close all"
       ]
      },
      {
       "output_type": "stream",
       "stream": "stdout",
       "text": [
        "\n",
        "close all"
       ]
      },
      {
       "output_type": "stream",
       "stream": "stdout",
       "text": [
        "\n",
        "close all"
       ]
      },
      {
       "output_type": "stream",
       "stream": "stdout",
       "text": [
        "\n",
        "close all"
       ]
      },
      {
       "output_type": "stream",
       "stream": "stdout",
       "text": [
        "\n",
        "close all"
       ]
      },
      {
       "output_type": "stream",
       "stream": "stdout",
       "text": [
        "\n",
        "close all"
       ]
      },
      {
       "output_type": "stream",
       "stream": "stdout",
       "text": [
        "\n",
        "close all"
       ]
      },
      {
       "output_type": "stream",
       "stream": "stdout",
       "text": [
        "\n",
        "close all"
       ]
      },
      {
       "output_type": "stream",
       "stream": "stdout",
       "text": [
        "\n",
        "close all"
       ]
      },
      {
       "output_type": "stream",
       "stream": "stdout",
       "text": [
        "\n",
        "close all"
       ]
      },
      {
       "output_type": "stream",
       "stream": "stdout",
       "text": [
        "\n",
        "close all"
       ]
      },
      {
       "output_type": "stream",
       "stream": "stdout",
       "text": [
        "\n",
        "close all"
       ]
      },
      {
       "output_type": "stream",
       "stream": "stdout",
       "text": [
        "\n",
        "3000000"
       ]
      },
      {
       "output_type": "stream",
       "stream": "stdout",
       "text": [
        "\n",
        "close all"
       ]
      },
      {
       "output_type": "stream",
       "stream": "stdout",
       "text": [
        "\n",
        "close all"
       ]
      },
      {
       "output_type": "stream",
       "stream": "stdout",
       "text": [
        "\n",
        "close all"
       ]
      },
      {
       "output_type": "stream",
       "stream": "stdout",
       "text": [
        "\n",
        "close all"
       ]
      },
      {
       "output_type": "stream",
       "stream": "stdout",
       "text": [
        "\n",
        "close all"
       ]
      },
      {
       "output_type": "stream",
       "stream": "stdout",
       "text": [
        "\n",
        "close all"
       ]
      },
      {
       "output_type": "stream",
       "stream": "stdout",
       "text": [
        "\n",
        "close all"
       ]
      },
      {
       "output_type": "stream",
       "stream": "stdout",
       "text": [
        "\n",
        "close all"
       ]
      },
      {
       "output_type": "stream",
       "stream": "stdout",
       "text": [
        "\n",
        "close all"
       ]
      },
      {
       "output_type": "stream",
       "stream": "stdout",
       "text": [
        "\n",
        "close all"
       ]
      },
      {
       "output_type": "stream",
       "stream": "stdout",
       "text": [
        "\n",
        "close all"
       ]
      },
      {
       "output_type": "stream",
       "stream": "stdout",
       "text": [
        "\n",
        "close all"
       ]
      },
      {
       "output_type": "stream",
       "stream": "stdout",
       "text": [
        "\n",
        "close all"
       ]
      },
      {
       "output_type": "stream",
       "stream": "stdout",
       "text": [
        "\n",
        "close all"
       ]
      },
      {
       "output_type": "stream",
       "stream": "stdout",
       "text": [
        "\n",
        "3500000"
       ]
      },
      {
       "output_type": "stream",
       "stream": "stdout",
       "text": [
        "\n",
        "close all"
       ]
      },
      {
       "output_type": "stream",
       "stream": "stdout",
       "text": [
        "\n",
        "close all"
       ]
      },
      {
       "output_type": "stream",
       "stream": "stdout",
       "text": [
        "\n",
        "close all"
       ]
      },
      {
       "output_type": "stream",
       "stream": "stdout",
       "text": [
        "\n",
        "close all"
       ]
      },
      {
       "output_type": "stream",
       "stream": "stdout",
       "text": [
        "\n",
        "close all"
       ]
      },
      {
       "output_type": "stream",
       "stream": "stdout",
       "text": [
        "\n",
        "close all"
       ]
      },
      {
       "output_type": "stream",
       "stream": "stdout",
       "text": [
        "\n",
        "close all"
       ]
      },
      {
       "output_type": "stream",
       "stream": "stdout",
       "text": [
        "\n",
        "close all"
       ]
      },
      {
       "output_type": "stream",
       "stream": "stdout",
       "text": [
        "\n",
        "close all"
       ]
      },
      {
       "output_type": "stream",
       "stream": "stdout",
       "text": [
        "\n",
        "close all"
       ]
      },
      {
       "output_type": "stream",
       "stream": "stdout",
       "text": [
        "\n",
        "close all"
       ]
      },
      {
       "output_type": "stream",
       "stream": "stdout",
       "text": [
        "\n",
        "close all"
       ]
      },
      {
       "output_type": "stream",
       "stream": "stdout",
       "text": [
        "\n",
        "close all"
       ]
      },
      {
       "output_type": "stream",
       "stream": "stdout",
       "text": [
        "\n",
        "close all"
       ]
      },
      {
       "output_type": "stream",
       "stream": "stdout",
       "text": [
        "\n",
        "4000000"
       ]
      },
      {
       "output_type": "stream",
       "stream": "stdout",
       "text": [
        "\n",
        "close all"
       ]
      },
      {
       "output_type": "stream",
       "stream": "stdout",
       "text": [
        "\n",
        "close all"
       ]
      },
      {
       "output_type": "stream",
       "stream": "stdout",
       "text": [
        "\n",
        "close all"
       ]
      },
      {
       "output_type": "stream",
       "stream": "stdout",
       "text": [
        "\n",
        "close all"
       ]
      },
      {
       "output_type": "stream",
       "stream": "stdout",
       "text": [
        "\n",
        "close all"
       ]
      },
      {
       "output_type": "stream",
       "stream": "stdout",
       "text": [
        "\n",
        "close all"
       ]
      },
      {
       "output_type": "stream",
       "stream": "stdout",
       "text": [
        "\n",
        "close all"
       ]
      },
      {
       "output_type": "stream",
       "stream": "stdout",
       "text": [
        "\n",
        "close all"
       ]
      },
      {
       "output_type": "stream",
       "stream": "stdout",
       "text": [
        "\n",
        "close all"
       ]
      },
      {
       "output_type": "stream",
       "stream": "stdout",
       "text": [
        "\n",
        "close all"
       ]
      },
      {
       "output_type": "stream",
       "stream": "stdout",
       "text": [
        "\n",
        "close all"
       ]
      },
      {
       "output_type": "stream",
       "stream": "stdout",
       "text": [
        "\n",
        "close all"
       ]
      },
      {
       "output_type": "stream",
       "stream": "stdout",
       "text": [
        "\n",
        "4500000"
       ]
      },
      {
       "output_type": "stream",
       "stream": "stdout",
       "text": [
        "\n",
        "close all"
       ]
      },
      {
       "output_type": "stream",
       "stream": "stdout",
       "text": [
        "\n",
        "close all"
       ]
      },
      {
       "output_type": "stream",
       "stream": "stdout",
       "text": [
        "\n",
        "close all"
       ]
      },
      {
       "output_type": "stream",
       "stream": "stdout",
       "text": [
        "\n",
        "close all"
       ]
      },
      {
       "output_type": "stream",
       "stream": "stdout",
       "text": [
        "\n",
        "close all"
       ]
      },
      {
       "output_type": "stream",
       "stream": "stdout",
       "text": [
        "\n",
        "close all"
       ]
      },
      {
       "output_type": "stream",
       "stream": "stdout",
       "text": [
        "\n",
        "close all"
       ]
      },
      {
       "output_type": "stream",
       "stream": "stdout",
       "text": [
        "\n",
        "close all"
       ]
      },
      {
       "output_type": "stream",
       "stream": "stdout",
       "text": [
        "\n"
       ]
      }
     ],
     "prompt_number": 26
    },
    {
     "cell_type": "code",
     "collapsed": false,
     "input": [],
     "language": "python",
     "metadata": {},
     "outputs": []
    },
    {
     "cell_type": "code",
     "collapsed": false,
     "input": [],
     "language": "python",
     "metadata": {},
     "outputs": [],
     "prompt_number": 58
    }
   ],
   "metadata": {}
  }
 ]
}