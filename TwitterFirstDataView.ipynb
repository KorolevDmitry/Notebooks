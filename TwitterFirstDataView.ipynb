{
 "metadata": {
  "name": "",
  "signature": "sha256:ef829f167870a38c1f7a56fd0095fe711338a97f6971babbeac845fcb84bc8b3"
 },
 "nbformat": 3,
 "nbformat_minor": 0,
 "worksheets": [
  {
   "cells": [
    {
     "cell_type": "code",
     "collapsed": false,
     "input": [
      "import sys\n",
      "print(sys.version)\n",
      "import pandas as pd\n",
      "import math\n",
      "import numpy as np\n",
      "import matplotlib.pyplot as plt\n",
      "import datetime\n",
      "from collections import Counter\n",
      "%matplotlib inline"
     ],
     "language": "python",
     "metadata": {},
     "outputs": [
      {
       "output_type": "stream",
       "stream": "stdout",
       "text": [
        "3.3.5 |Anaconda 2.1.0 (64-bit)| (default, Mar 10 2014, 11:25:04) [MSC v.1600 64 bit (AMD64)]\n"
       ]
      }
     ],
     "prompt_number": 5
    },
    {
     "cell_type": "code",
     "collapsed": false,
     "input": [
      "from datetime import datetime\n",
      "import pytz\n",
      "\n",
      "baseline_date = datetime(2016, 3, 1, 0, 0, 0, tzinfo=pytz.UTC)\n",
      "\n",
      "def convert_to_datetime(date_str):\n",
      "    return datetime.strptime(date_str, '%a %b %d %H:%M:%S +0000 %Y').replace(tzinfo=pytz.UTC)"
     ],
     "language": "python",
     "metadata": {},
     "outputs": [],
     "prompt_number": 6
    },
    {
     "cell_type": "code",
     "collapsed": false,
     "input": [
      "#.timestamp()"
     ],
     "language": "python",
     "metadata": {},
     "outputs": [],
     "prompt_number": 7
    },
    {
     "cell_type": "code",
     "collapsed": false,
     "input": [
      "import bson\n",
      "import gzip\n",
      "\n",
      "class open_bson:\n",
      "    def __init__(self, path):\n",
      "        self.path = path\n",
      "    \n",
      "    def __enter__(self):\n",
      "        open_file_func = open\n",
      "        if \".gz\" == fileName[-3:]:\n",
      "            open_file_func = gzip.open\n",
      "        self.f = open_file_func(fileName, 'rb')\n",
      "        return bson.decode_file_iter(self.f)\n",
      "    \n",
      "    def __exit__(self, *exc_info):\n",
      "        self.f.close()\n",
      "        del self.f"
     ],
     "language": "python",
     "metadata": {},
     "outputs": [],
     "prompt_number": 8
    },
    {
     "cell_type": "heading",
     "level": 1,
     "metadata": {},
     "source": [
      "Accounts"
     ]
    },
    {
     "cell_type": "raw",
     "metadata": {},
     "source": [
      "{\n",
      "'ts': 1458133257, \n",
      "'timelines': [ObjectId('56f0b7ab20741f11552c6e52')], \n",
      "'internal': {'is_tracking': False}, \n",
      "'_id': ObjectId('56e9590920741f6955a9bc3c'), \n",
      "'screen_name': 'mmcclair', \n",
      "'account_object': {\n",
      "\t'is_translator': False, \n",
      "\t'protected': False, \n",
      "\t'has_extended_profile': False, \n",
      "\t'time_zone': 'London', \n",
      "\t'contributors_enabled': False, \n",
      "\t'id_str': '40206350', \n",
      "\t'following': False, \n",
      "\t'followers_count': 39, \n",
      "\t'profile_background_tile': False, \n",
      "\t'verified': False, \n",
      "\t'profile_image_url': 'http://pbs.twimg.com/profile_images/532512102204727299/ZPj3bafD_normal.jpeg', \n",
      "\t'profile_use_background_image': True, \n",
      "\t'profile_background_image_url': 'http://abs.twimg.com/images/themes/theme13/bg.gif', \n",
      "\t'profile_text_color': '333333', \n",
      "\t'created_at': 'Fri May 15 09:05:18 +0000 2009', \n",
      "\t'profile_background_color': 'B2DFDA', \n",
      "\t'statuses_count': 121, \n",
      "\t'geo_enabled': False, \n",
      "\t'entities': {\n",
      "\t\t'description': {'urls': []}}, \n",
      "    'profile_sidebar_border_color': 'EEEEEE', \n",
      "    'follow_request_sent': False, \n",
      "    'is_translation_enabled': False, \n",
      "    'listed_count': 2, \n",
      "    'friends_count': 180, \n",
      "    'description': '', \n",
      "    'profile_sidebar_fill_color': 'FFFFFF', \n",
      "    'status': {\n",
      "        'in_reply_to_user_id_str': '536052100', \n",
      "        'truncated': False, \n",
      "        'place': None, \n",
      "        'id_str': '669544928926650368', \n",
      "        'id': 669544928926650368, \n",
      "        'created_at': 'Wed Nov 25 15:55:25 +0000 2015', \n",
      "        'in_reply_to_user_id': 536052100, \n",
      "        'retweeted': False, \n",
      "        'in_reply_to_status_id': 669542944442052608, \n",
      "        'text': \"@lewis_stiff ah, thanks. Hopefully they'll have it fixed soon. Mine didn't make it on, but it saved as draft at least\", \n",
      "        'retweet_count': 0, \n",
      "        'coordinates': None, \n",
      "        'favorite_count': 0, \n",
      "        'entities': {\n",
      "            'urls': [], \n",
      "            'symbols': [], \n",
      "            'hashtags': [], \n",
      "            'user_mentions': [{\n",
      "                'id_str': '536052100', \n",
      "                'indices': [0, 12], \n",
      "                'name': 'Lewis', \n",
      "                'id': 536052100, \n",
      "                'screen_name': 'lewis_stiff'}]}, \n",
      "        'favorited': False, \n",
      "        'in_reply_to_screen_name': 'lewis_stiff', \n",
      "        'is_quote_status': False, \n",
      "        'in_reply_to_status_id_str': '669542944442052608', \n",
      "        'contributors': None, \n",
      "        'source': '<a href=\"http://twitter.com\" rel=\"nofollow\">Twitter Web Client</a>', \n",
      "        'geo': None, \n",
      "        'lang': 'en'}, \n",
      "    'id': 40206350, \n",
      "    'notifications': False, \n",
      "    'default_profile': False, \n",
      "    'default_profile_image': False, \n",
      "    'location': 'UK', \n",
      "    'profile_link_color': '93A644', \n",
      "    'profile_background_image_url_https': 'https://abs.twimg.com/images/themes/theme13/bg.gif', \n",
      "    'favourites_count': 63, \n",
      "    'url': None, \n",
      "    'screen_name': 'mmcclair', \n",
      "    'name': 'Mhairi McClair', \n",
      "    'profile_image_url_https': 'https://pbs.twimg.com/profile_images/532512102204727299/ZPj3bafD_normal.jpeg', \n",
      "    'lang': 'en', \n",
      "    'utc_offset': 0}, \n",
      "'followers_count': [{'ts': 1458133257, 'count': 39}], 'id': 40206350}"
     ]
    },
    {
     "cell_type": "code",
     "collapsed": false,
     "input": [],
     "language": "python",
     "metadata": {},
     "outputs": []
    },
    {
     "cell_type": "code",
     "collapsed": false,
     "input": [
      "fileName = \"C:/Users/dkorolev/Downloads/twitter-analysis_last_last/Accounts.bson\"\n",
      "followers_count_field = 'followers_count'\n",
      "timelines_field = 'timelines'\n",
      "account_object_field = 'account_object'\n",
      "ts_field = 'ts'\n",
      "\n",
      "count = 0\n",
      "followers_count = 0\n",
      "timelines_count = 0\n",
      "account_object_count = 0\n",
      "account_object_long_count = 0\n",
      "ts = []\n",
      "with open_bson(fileName) as f:\n",
      "    for dict_data in f:\n",
      "        #if count % 1000 == 0:\n",
      "        #    print(count)\n",
      "        count += 1\n",
      "        if followers_count_field in dict_data and len(dict_data[followers_count_field]) > 0:\n",
      "            followers_count += 1\n",
      "        if timelines_field in dict_data and len(dict_data[timelines_field]) > 0:\n",
      "            timelines_count += 1\n",
      "        if account_object_field in dict_data and len(dict_data[account_object_field]) > 0:\n",
      "            account_object_count += 1\n",
      "        if account_object_field in dict_data and len(dict_data[account_object_field]) > 1:\n",
      "            account_object_long_count += 1\n",
      "        ts.append(dict_data[ts_field])\n",
      "print('count',count)\n",
      "print('followers_count',followers_count)\n",
      "print('timelines_count',timelines_count)\n",
      "print('account_object_count',account_object_count)\n",
      "print('account_object_long_count',account_object_long_count)"
     ],
     "language": "python",
     "metadata": {},
     "outputs": [
      {
       "output_type": "stream",
       "stream": "stdout",
       "text": [
        "count 156455\n",
        "followers_count 155217\n",
        "timelines_count 138182\n",
        "account_object_count 156455\n",
        "account_object_long_count 155219\n"
       ]
      }
     ],
     "prompt_number": 96
    },
    {
     "cell_type": "code",
     "collapsed": false,
     "input": [],
     "language": "python",
     "metadata": {},
     "outputs": []
    },
    {
     "cell_type": "markdown",
     "metadata": {},
     "source": [
      "5919 \u0430\u043a\u043a\u0430\u0443\u0442\u043e\u0432 \u043d\u0435 \u0438\u043c\u0435\u044e\u0442 \u0438\u043d\u0444\u043e\u0440\u043c\u0430\u0446\u0438\u0438 \u0438 \u0432\u044b\u0433\u043b\u044f\u0434\u044f\u0442 \u0442\u0430\u043a:"
     ]
    },
    {
     "cell_type": "markdown",
     "metadata": {},
     "source": [
      "{'ts': 1458133250, 'timelines': [], '_id': ObjectId('56e9590220741f6955a98a38'), 'screen_name': 107032314, 'account_object': {'screen_name': 107032314}, 'followers_count': [], 'id': -1}"
     ]
    },
    {
     "cell_type": "code",
     "collapsed": false,
     "input": [
      "plt.plot(list(range(len(ts))), ts)"
     ],
     "language": "python",
     "metadata": {},
     "outputs": [
      {
       "metadata": {},
       "output_type": "pyout",
       "prompt_number": 13,
       "text": [
        "[<matplotlib.lines.Line2D at 0x82afac8>]"
       ]
      },
      {
       "metadata": {},
       "output_type": "display_data",
       "png": "[encoded data removed]",
       "text": [
        "<matplotlib.figure.Figure at 0x7f724a8>"
       ]
      }
     ],
     "prompt_number": 13
    },
    {
     "cell_type": "code",
     "collapsed": false,
     "input": [
      "datetime.datetime.fromtimestamp(min(ts)).strftime('%Y-%m-%d %H:%M:%S')"
     ],
     "language": "python",
     "metadata": {},
     "outputs": [
      {
       "metadata": {},
       "output_type": "pyout",
       "prompt_number": 16,
       "text": [
        "'2016-03-16 16:00:50'"
       ]
      }
     ],
     "prompt_number": 16
    },
    {
     "cell_type": "code",
     "collapsed": false,
     "input": [
      "datetime.datetime.fromtimestamp(max(ts)).strftime('%Y-%m-%d %H:%M:%S')"
     ],
     "language": "python",
     "metadata": {},
     "outputs": [
      {
       "metadata": {},
       "output_type": "pyout",
       "prompt_number": 17,
       "text": [
        "'2016-03-18 19:06:38'"
       ]
      }
     ],
     "prompt_number": 17
    },
    {
     "cell_type": "code",
     "collapsed": false,
     "input": [],
     "language": "python",
     "metadata": {},
     "outputs": [],
     "prompt_number": 17
    },
    {
     "cell_type": "code",
     "collapsed": false,
     "input": [
      "known_account_fields = ['contributors_enabled','created_at','default_profile','default_profile_image','description','entities',\n",
      "                        'favourites_count','follow_request_sent','following','followers_count','friends_count','geo_enabled',\n",
      "                        'id','id_str','is_translator','lang','listed_count','location','name','notifications','profile_background_color',\n",
      "                        'profile_background_image_url','profile_background_image_url_https','profile_background_tile','profile_banner_url',\n",
      "                        'profile_image_url','profile_image_url_https','profile_link_color','profile_sidebar_border_color',\n",
      "                        'profile_sidebar_fill_color','profile_text_color','profile_use_background_image','protected','screen_name',\n",
      "                        'show_all_inline_media','statuses_count','time_zone','url','utc_offset','verified','withheld_in_countries','withheld_scope']\n",
      "def parse_account_object(d):\n",
      "    res = []\n",
      "    for name in known_account_fields:\n",
      "        if name in d:\n",
      "            res.append(d[name])\n",
      "        else:\n",
      "            res.append(np.nan)\n",
      "    return res"
     ],
     "language": "python",
     "metadata": {},
     "outputs": [],
     "prompt_number": 10
    },
    {
     "cell_type": "code",
     "collapsed": false,
     "input": [
      "fileName = \"C:/Users/dkorolev/Downloads/twitter-analysis_last_last/Accounts.bson\"\n",
      "followers_count_field = 'followers_count'\n",
      "timelines_field = 'timelines'\n",
      "account_object_field = 'account_object'\n",
      "ts_field = 'ts'\n",
      "accounts = []\n",
      "acc_timelines = []\n",
      "last_status_update = []\n",
      "with open_bson(fileName) as f:\n",
      "    for dict_data in f:\n",
      "        if account_object_field in dict_data and len(dict_data[account_object_field]) > 1:\n",
      "            acc_timelines.append(dict_data['timelines'])\n",
      "            if 'status' in dict_data[account_object_field]:\n",
      "                last_status_update.append(dict_data[account_object_field]['status']['created_at'])\n",
      "            else:\n",
      "                last_status_update.append('')\n",
      "            accounts.append(parse_account_object(dict_data[account_object_field]))"
     ],
     "language": "python",
     "metadata": {},
     "outputs": [],
     "prompt_number": 12
    },
    {
     "cell_type": "code",
     "collapsed": false,
     "input": [
      "accounts_df = pd.DataFrame(accounts, columns=known_account_fields)"
     ],
     "language": "python",
     "metadata": {},
     "outputs": [],
     "prompt_number": 13
    },
    {
     "cell_type": "code",
     "collapsed": false,
     "input": [
      "import pickle\n",
      "with open(\"user_counts/users_in_month_times.txt\", 'rb') as f:\n",
      "    users_in_month_times = pickle.load(f)"
     ],
     "language": "python",
     "metadata": {},
     "outputs": [],
     "prompt_number": 16
    },
    {
     "cell_type": "code",
     "collapsed": false,
     "input": [
      "with open(\"user_counts/users_retweets_counts.txt\", 'rb') as f:\n",
      "    users_retweets_counts = pickle.load(f)"
     ],
     "language": "python",
     "metadata": {},
     "outputs": [],
     "prompt_number": 17
    },
    {
     "cell_type": "code",
     "collapsed": false,
     "input": [
      "with open(\"user_counts/usersuser_tweet_counts.txt\", 'rb') as f:\n",
      "    users_all_tweet_counts = pickle.load(f)"
     ],
     "language": "python",
     "metadata": {},
     "outputs": [],
     "prompt_number": 41
    },
    {
     "cell_type": "code",
     "collapsed": false,
     "input": [
      "accounts_df.index = accounts_df['id']"
     ],
     "language": "python",
     "metadata": {},
     "outputs": [],
     "prompt_number": 42
    },
    {
     "cell_type": "code",
     "collapsed": false,
     "input": [
      "accounts_df['tweets_per_month'] = [len(users_in_month_times[x]) if x in users_in_month_times else 0 for x in accounts_df.index]"
     ],
     "language": "python",
     "metadata": {},
     "outputs": [],
     "prompt_number": 46
    },
    {
     "cell_type": "code",
     "collapsed": false,
     "input": [
      "accounts_df['retweet_counts'] = [users_retweets_counts[x] if x in users_retweets_counts else 0 for x in accounts_df.index]"
     ],
     "language": "python",
     "metadata": {},
     "outputs": [],
     "prompt_number": 47
    },
    {
     "cell_type": "code",
     "collapsed": false,
     "input": [
      "accounts_df['downloaded_tweet_counts'] = [users_all_tweet_counts[x] if x in users_all_tweet_counts else 0 for x in accounts_df.index]"
     ],
     "language": "python",
     "metadata": {},
     "outputs": [],
     "prompt_number": 48
    },
    {
     "cell_type": "code",
     "collapsed": false,
     "input": [
      "accounts_df['retweet_percent'] = accounts_df['retweet_counts']/accounts_df['downloaded_tweet_counts']"
     ],
     "language": "python",
     "metadata": {},
     "outputs": [],
     "prompt_number": 49
    },
    {
     "cell_type": "code",
     "collapsed": false,
     "input": [
      "accounts_df.loc[accounts_df['retweet_percent'] == np.inf, 'retweet_percent'] = 0"
     ],
     "language": "python",
     "metadata": {},
     "outputs": [],
     "prompt_number": 54
    },
    {
     "cell_type": "code",
     "collapsed": false,
     "input": [
      "accounts_df['followers/friends'] = (accounts_df['followers_count'] + 1) / (accounts_df['friends_count'] + 1)"
     ],
     "language": "python",
     "metadata": {},
     "outputs": [],
     "prompt_number": 55
    },
    {
     "cell_type": "code",
     "collapsed": false,
     "input": [
      "look_at = ['id', 'name', 'screen_name', 'tweets_per_month', 'retweet_counts', 'downloaded_tweet_counts', 'retweet_percent',\n",
      "           'created_at','favourites_count','followers_count',\n",
      "'friends_count', 'followers/friends', 'lang','listed_count','location','statuses_count','verified', 'description']"
     ],
     "language": "python",
     "metadata": {},
     "outputs": [],
     "prompt_number": 59
    },
    {
     "cell_type": "code",
     "collapsed": false,
     "input": [
      "accounts_df[look_at].to_csv('accounts_info.csv')"
     ],
     "language": "python",
     "metadata": {},
     "outputs": [],
     "prompt_number": 60
    },
    {
     "cell_type": "code",
     "collapsed": false,
     "input": [
      "accounts_df[accounts_df['downloaded_tweet_counts'] != 0].shape"
     ],
     "language": "python",
     "metadata": {},
     "outputs": [
      {
       "metadata": {},
       "output_type": "pyout",
       "prompt_number": 51,
       "text": [
        "(138139, 46)"
       ]
      }
     ],
     "prompt_number": 51
    },
    {
     "cell_type": "code",
     "collapsed": false,
     "input": [
      "accounts_df.shape"
     ],
     "language": "python",
     "metadata": {},
     "outputs": [
      {
       "metadata": {},
       "output_type": "pyout",
       "prompt_number": 34,
       "text": [
        "(155219, 46)"
       ]
      }
     ],
     "prompt_number": 34
    },
    {
     "cell_type": "code",
     "collapsed": false,
     "input": [
      "len(users_all_tweet_counts)"
     ],
     "language": "python",
     "metadata": {},
     "outputs": [
      {
       "metadata": {},
       "output_type": "pyout",
       "prompt_number": 35,
       "text": [
        "138165"
       ]
      }
     ],
     "prompt_number": 35
    },
    {
     "cell_type": "code",
     "collapsed": false,
     "input": [
      "len({int(x) for x in accounts_df.index} & {int(k) for k,v in users_all_tweet_counts.items()})"
     ],
     "language": "python",
     "metadata": {},
     "outputs": [
      {
       "metadata": {},
       "output_type": "pyout",
       "prompt_number": 43,
       "text": [
        "138138"
       ]
      }
     ],
     "prompt_number": 43
    },
    {
     "cell_type": "code",
     "collapsed": false,
     "input": [
      "len({int(x) for x in accounts_df['id']} & {int(k) for k,v in users_all_tweet_counts.items()})"
     ],
     "language": "python",
     "metadata": {},
     "outputs": [
      {
       "metadata": {},
       "output_type": "pyout",
       "prompt_number": 38,
       "text": [
        "138138"
       ]
      }
     ],
     "prompt_number": 38
    },
    {
     "cell_type": "code",
     "collapsed": false,
     "input": [
      "#accounts_df.index"
     ],
     "language": "python",
     "metadata": {},
     "outputs": [],
     "prompt_number": 40
    },
    {
     "cell_type": "markdown",
     "metadata": {},
     "source": [
      "\u043a\u043e\u043b\u043e\u043d\u043a\u0438 \u0441 np.nan \u0438 \u043e\u0434\u043d\u0438\u043c \u0437\u043d\u0430\u0447\u0435\u043d\u0438\u0435\u043c:"
     ]
    },
    {
     "cell_type": "code",
     "collapsed": false,
     "input": [
      "colomns_one = []\n",
      "for col in accounts_df.columns:\n",
      "    if accounts_df[col].isnull().all():\n",
      "        colomns_one.append(col)\n",
      "desc = accounts_df.describe()\n",
      "for col in desc.columns:\n",
      "    if desc[col]['min'] == desc[col]['max']:\n",
      "        colomns_one.append(col)"
     ],
     "language": "python",
     "metadata": {},
     "outputs": [],
     "prompt_number": 31
    },
    {
     "cell_type": "code",
     "collapsed": false,
     "input": [
      "colomns_one"
     ],
     "language": "python",
     "metadata": {},
     "outputs": [
      {
       "metadata": {},
       "output_type": "pyout",
       "prompt_number": 32,
       "text": [
        "['show_all_inline_media',\n",
        " 'withheld_in_countries',\n",
        " 'withheld_scope',\n",
        " 'contributors_enabled',\n",
        " 'follow_request_sent',\n",
        " 'notifications']"
       ]
      }
     ],
     "prompt_number": 32
    },
    {
     "cell_type": "code",
     "collapsed": false,
     "input": [],
     "language": "python",
     "metadata": {},
     "outputs": [],
     "prompt_number": 33
    },
    {
     "cell_type": "code",
     "collapsed": false,
     "input": [
      "accounts_df.shape"
     ],
     "language": "python",
     "metadata": {},
     "outputs": [
      {
       "metadata": {},
       "output_type": "pyout",
       "prompt_number": 42,
       "text": [
        "(11888, 42)"
       ]
      }
     ],
     "prompt_number": 42
    },
    {
     "cell_type": "code",
     "collapsed": false,
     "input": [
      "look_at = ['created_at','favourites_count','followers_count',\n",
      "'friends_count','lang','listed_count','location','statuses_count','verified', 'description', 'id', 'name', 'screen_name']"
     ],
     "language": "python",
     "metadata": {},
     "outputs": [],
     "prompt_number": 10
    },
    {
     "cell_type": "code",
     "collapsed": false,
     "input": [
      "accounts_df[look_at].describe()"
     ],
     "language": "python",
     "metadata": {},
     "outputs": [
      {
       "html": [
        "<div style=\"max-height:1000px;max-width:1500px;overflow:auto;\">\n",
        "<table border=\"1\" class=\"dataframe\">\n",
        "  <thead>\n",
        "    <tr style=\"text-align: right;\">\n",
        "      <th></th>\n",
        "      <th>favourites_count</th>\n",
        "      <th>followers_count</th>\n",
        "      <th>friends_count</th>\n",
        "      <th>listed_count</th>\n",
        "      <th>statuses_count</th>\n",
        "      <th>verified</th>\n",
        "      <th>id</th>\n",
        "    </tr>\n",
        "  </thead>\n",
        "  <tbody>\n",
        "    <tr>\n",
        "      <th>count</th>\n",
        "      <td>  155219.000000</td>\n",
        "      <td>   155219.000000</td>\n",
        "      <td>  155219.000000</td>\n",
        "      <td> 155219.000000</td>\n",
        "      <td>  155219.000000</td>\n",
        "      <td>      155219</td>\n",
        "      <td> 1.552190e+05</td>\n",
        "    </tr>\n",
        "    <tr>\n",
        "      <th>mean</th>\n",
        "      <td>    1216.247798</td>\n",
        "      <td>     8377.551975</td>\n",
        "      <td>    4672.429722</td>\n",
        "      <td>     86.766878</td>\n",
        "      <td>    5365.673326</td>\n",
        "      <td> 0.007524852</td>\n",
        "      <td>-3.843610e+13</td>\n",
        "    </tr>\n",
        "    <tr>\n",
        "      <th>std</th>\n",
        "      <td>    8909.267997</td>\n",
        "      <td>   234091.527145</td>\n",
        "      <td>   33583.041548</td>\n",
        "      <td>    842.900191</td>\n",
        "      <td>   28473.853994</td>\n",
        "      <td>  0.08641919</td>\n",
        "      <td> 7.117915e+16</td>\n",
        "    </tr>\n",
        "    <tr>\n",
        "      <th>min</th>\n",
        "      <td>       0.000000</td>\n",
        "      <td>        0.000000</td>\n",
        "      <td>       0.000000</td>\n",
        "      <td>      0.000000</td>\n",
        "      <td>       0.000000</td>\n",
        "      <td>       False</td>\n",
        "      <td> 3.640000e+02</td>\n",
        "    </tr>\n",
        "    <tr>\n",
        "      <th>25%</th>\n",
        "      <td>       1.000000</td>\n",
        "      <td>       44.000000</td>\n",
        "      <td>     201.000000</td>\n",
        "      <td>      0.000000</td>\n",
        "      <td>      36.000000</td>\n",
        "      <td>           0</td>\n",
        "      <td> 8.259317e+07</td>\n",
        "    </tr>\n",
        "    <tr>\n",
        "      <th>50%</th>\n",
        "      <td>      19.000000</td>\n",
        "      <td>      223.000000</td>\n",
        "      <td>     627.000000</td>\n",
        "      <td>      4.000000</td>\n",
        "      <td>     376.000000</td>\n",
        "      <td>           0</td>\n",
        "      <td> 3.547092e+08</td>\n",
        "    </tr>\n",
        "    <tr>\n",
        "      <th>75%</th>\n",
        "      <td>     251.000000</td>\n",
        "      <td>      951.000000</td>\n",
        "      <td>    1743.000000</td>\n",
        "      <td>     30.000000</td>\n",
        "      <td>    2412.000000</td>\n",
        "      <td>           0</td>\n",
        "      <td> 1.936526e+09</td>\n",
        "    </tr>\n",
        "    <tr>\n",
        "      <th>max</th>\n",
        "      <td> 1228227.000000</td>\n",
        "      <td> 73308406.000000</td>\n",
        "      <td> 4651728.000000</td>\n",
        "      <td> 214927.000000</td>\n",
        "      <td> 2516024.000000</td>\n",
        "      <td>        True</td>\n",
        "      <td> 7.254329e+17</td>\n",
        "    </tr>\n",
        "  </tbody>\n",
        "</table>\n",
        "</div>"
       ],
       "metadata": {},
       "output_type": "pyout",
       "prompt_number": 100,
       "text": [
        "       favourites_count  followers_count   friends_count   listed_count  \\\n",
        "count     155219.000000    155219.000000   155219.000000  155219.000000   \n",
        "mean        1216.247798      8377.551975     4672.429722      86.766878   \n",
        "std         8909.267997    234091.527145    33583.041548     842.900191   \n",
        "min            0.000000         0.000000        0.000000       0.000000   \n",
        "25%            1.000000        44.000000      201.000000       0.000000   \n",
        "50%           19.000000       223.000000      627.000000       4.000000   \n",
        "75%          251.000000       951.000000     1743.000000      30.000000   \n",
        "max      1228227.000000  73308406.000000  4651728.000000  214927.000000   \n",
        "\n",
        "       statuses_count     verified            id  \n",
        "count   155219.000000       155219  1.552190e+05  \n",
        "mean      5365.673326  0.007524852 -3.843610e+13  \n",
        "std      28473.853994   0.08641919  7.117915e+16  \n",
        "min          0.000000        False  3.640000e+02  \n",
        "25%         36.000000            0  8.259317e+07  \n",
        "50%        376.000000            0  3.547092e+08  \n",
        "75%       2412.000000            0  1.936526e+09  \n",
        "max    2516024.000000         True  7.254329e+17  "
       ]
      }
     ],
     "prompt_number": 100
    },
    {
     "cell_type": "markdown",
     "metadata": {},
     "source": [
      "\u0412\u0438\u0434\u0438\u043c, \u0447\u0442\u043e \u0435\u0441\u0442\u044c \"\u0432\u044b\u0431\u0440\u043e\u0441\u044b\", \u043d\u043e \u0438\u0445 \u043d\u0435 \u0442\u0430\u043a \u043c\u043d\u043e\u0433\u043e (\u0443\u0432\u0438\u0434\u0438\u043c \u043f\u043e\u0442\u043e\u043c \u0432 \u0442\u043e\u043f\u0430\u0445)"
     ]
    },
    {
     "cell_type": "markdown",
     "metadata": {},
     "source": [
      "\u0415\u0441\u0442\u044c \u043a\u0430\u043a\u043e\u0435-\u0442\u043e \u043a\u043e\u043b\u0438\u0447\u0435\u0441\u0442\u0432\u043e \u043f\u043e\u043b\u044c\u0437\u043e\u0432\u0430\u0442\u0435\u043b\u0435\u0439 \u0431\u0435\u0437 \u0442\u0432\u0438\u0442\u043e\u0432... \u043e\u043d\u0438 \u043d\u0430\u043c, \u0441\u043a\u043e\u0440\u0435\u0435 \u0432\u0441\u0435\u0433\u043e \u043d\u0435 \u0438\u043d\u0442\u0435\u0440\u0435\u0441\u043d\u044b."
     ]
    },
    {
     "cell_type": "code",
     "collapsed": false,
     "input": [
      "len(accounts_df[accounts_df['statuses_count'] == 0])"
     ],
     "language": "python",
     "metadata": {},
     "outputs": [
      {
       "metadata": {},
       "output_type": "pyout",
       "prompt_number": 102,
       "text": [
        "8188"
       ]
      }
     ],
     "prompt_number": 102
    },
    {
     "cell_type": "code",
     "collapsed": false,
     "input": [
      "accounts_df[accounts_df['id'] == 107032314]\n",
      "#107032314"
     ],
     "language": "python",
     "metadata": {},
     "outputs": [
      {
       "html": [
        "<div style=\"max-height:1000px;max-width:1500px;overflow:auto;\">\n",
        "<table border=\"1\" class=\"dataframe\">\n",
        "  <thead>\n",
        "    <tr style=\"text-align: right;\">\n",
        "      <th></th>\n",
        "      <th>contributors_enabled</th>\n",
        "      <th>created_at</th>\n",
        "      <th>default_profile</th>\n",
        "      <th>default_profile_image</th>\n",
        "      <th>description</th>\n",
        "      <th>entities</th>\n",
        "      <th>favourites_count</th>\n",
        "      <th>follow_request_sent</th>\n",
        "      <th>following</th>\n",
        "      <th>followers_count</th>\n",
        "      <th>...</th>\n",
        "      <th>protected</th>\n",
        "      <th>screen_name</th>\n",
        "      <th>show_all_inline_media</th>\n",
        "      <th>statuses_count</th>\n",
        "      <th>time_zone</th>\n",
        "      <th>url</th>\n",
        "      <th>utc_offset</th>\n",
        "      <th>verified</th>\n",
        "      <th>withheld_in_countries</th>\n",
        "      <th>withheld_scope</th>\n",
        "    </tr>\n",
        "  </thead>\n",
        "  <tbody>\n",
        "    <tr>\n",
        "      <th>0</th>\n",
        "      <td> False</td>\n",
        "      <td> Thu Jan 21 11:11:31 +0000 2010</td>\n",
        "      <td> False</td>\n",
        "      <td> False</td>\n",
        "      <td> Python IDE for Professional Developers with un...</td>\n",
        "      <td> {'description': {'urls': []}, 'url': {'urls': ...</td>\n",
        "      <td> 42</td>\n",
        "      <td> False</td>\n",
        "      <td> False</td>\n",
        "      <td> 12188</td>\n",
        "      <td>...</td>\n",
        "      <td> False</td>\n",
        "      <td> pycharm</td>\n",
        "      <td>NaN</td>\n",
        "      <td> 661</td>\n",
        "      <td> Moscow</td>\n",
        "      <td> http://t.co/T1qbBKN0CT</td>\n",
        "      <td> 10800</td>\n",
        "      <td> False</td>\n",
        "      <td> NaN</td>\n",
        "      <td>NaN</td>\n",
        "    </tr>\n",
        "  </tbody>\n",
        "</table>\n",
        "<p>1 rows \u00d7 42 columns</p>\n",
        "</div>"
       ],
       "metadata": {},
       "output_type": "pyout",
       "prompt_number": 101,
       "text": [
        "  contributors_enabled                      created_at default_profile  \\\n",
        "0                False  Thu Jan 21 11:11:31 +0000 2010           False   \n",
        "\n",
        "  default_profile_image                                        description  \\\n",
        "0                 False  Python IDE for Professional Developers with un...   \n",
        "\n",
        "                                            entities  favourites_count  \\\n",
        "0  {'description': {'urls': []}, 'url': {'urls': ...                42   \n",
        "\n",
        "  follow_request_sent following  followers_count       ...         protected  \\\n",
        "0               False     False            12188       ...             False   \n",
        "\n",
        "  screen_name  show_all_inline_media statuses_count time_zone  \\\n",
        "0     pycharm                    NaN            661    Moscow   \n",
        "\n",
        "                      url  utc_offset verified withheld_in_countries  \\\n",
        "0  http://t.co/T1qbBKN0CT       10800    False                   NaN   \n",
        "\n",
        "  withheld_scope  \n",
        "0            NaN  \n",
        "\n",
        "[1 rows x 42 columns]"
       ]
      }
     ],
     "prompt_number": 101
    },
    {
     "cell_type": "code",
     "collapsed": false,
     "input": [
      "accounts_df['followers_count'].sum()"
     ],
     "language": "python",
     "metadata": {},
     "outputs": [
      {
       "metadata": {},
       "output_type": "pyout",
       "prompt_number": 384,
       "text": [
        "7100655"
       ]
      }
     ],
     "prompt_number": 384
    },
    {
     "cell_type": "code",
     "collapsed": false,
     "input": [
      "accounts_df['friends_count'].sum()"
     ],
     "language": "python",
     "metadata": {},
     "outputs": [
      {
       "metadata": {},
       "output_type": "pyout",
       "prompt_number": 386,
       "text": [
        "7138136"
       ]
      }
     ],
     "prompt_number": 386
    },
    {
     "cell_type": "markdown",
     "metadata": {},
     "source": [
      "\u041f\u0440\u0438\u043c\u0435\u0440\u043d\u043e \u043e\u0434\u0438\u043d\u0430\u043a\u043e\u0432\u043e\u0435 \u043a\u043e\u043b\u0438\u0447\u0435\u0441\u0442\u0432\u043e \u0434\u0440\u0443\u0437\u0435\u0439 \u0438 \u0444\u043e\u043b\u043e\u0432\u0435\u0440\u043e\u0432"
     ]
    },
    {
     "cell_type": "heading",
     "level": 2,
     "metadata": {},
     "source": [
      "created_at"
     ]
    },
    {
     "cell_type": "code",
     "collapsed": false,
     "input": [
      "plt.hist([int(x[-4:]) for x in accounts_df['created_at']])"
     ],
     "language": "python",
     "metadata": {},
     "outputs": [
      {
       "metadata": {},
       "output_type": "pyout",
       "prompt_number": 311,
       "text": [
        "(array([   17.,   445.,  1193.,  2695.,  1766.,  1666.,  1154.,  1036.,\n",
        "          975.,   941.]),\n",
        " array([ 2006.,  2007.,  2008.,  2009.,  2010.,  2011.,  2012.,  2013.,\n",
        "         2014.,  2015.,  2016.]),\n",
        " <a list of 10 Patch objects>)"
       ]
      },
      {
       "metadata": {},
       "output_type": "display_data",
       "png": "[encoded data removed]",
       "text": [
        "<matplotlib.figure.Figure at 0x736d7128>"
       ]
      }
     ],
     "prompt_number": 311
    },
    {
     "cell_type": "code",
     "collapsed": false,
     "input": [
      "plt.hist([convert_to_datetime(x).timestamp() for x in accounts_df['created_at']])"
     ],
     "language": "python",
     "metadata": {},
     "outputs": [
      {
       "metadata": {},
       "output_type": "pyout",
       "prompt_number": 313,
       "text": [
        "(array([  249.,   773.,  2011.,  2093.,  1625.,  1457.,  1073.,   927.,\n",
        "          968.,   712.]),\n",
        " array([  1.15307330e+09,   1.18355728e+09,   1.21404127e+09,\n",
        "          1.24452526e+09,   1.27500925e+09,   1.30549323e+09,\n",
        "          1.33597722e+09,   1.36646121e+09,   1.39694520e+09,\n",
        "          1.42742919e+09,   1.45791317e+09]),\n",
        " <a list of 10 Patch objects>)"
       ]
      },
      {
       "metadata": {},
       "output_type": "display_data",
       "png": "[encoded data removed]",
       "text": [
        "<matplotlib.figure.Figure at 0x73a8c390>"
       ]
      }
     ],
     "prompt_number": 313
    },
    {
     "cell_type": "heading",
     "level": 2,
     "metadata": {},
     "source": [
      "last_status_update"
     ]
    },
    {
     "cell_type": "markdown",
     "metadata": {},
     "source": [
      "\u0431\u0435\u0437 \u043f\u043e\u0441\u043b\u0435\u0434\u043d\u0438\u0445 \u0441\u0442\u0430\u0442\u0443\u0441\u043e\u0432 \u0432 \u0430\u043a\u043a\u0430\u0443\u043d\u0442\u0435 \u043d\u0430\u0440\u043e\u0434\u0443 \u0431\u043e\u043b\u044c\u0448\u0435, \u0447\u0435\u043c \u043d\u0443\u043b\u0435\u0439 \u0432 status_count - \u0441\u0442\u0440\u0430\u043d\u043d\u043e, \u043d\u0443\u0436\u043d\u043e \u0441\u043c\u043e\u0442\u0440\u0435\u0442\u044c timeline"
     ]
    },
    {
     "cell_type": "code",
     "collapsed": false,
     "input": [
      "plt.hist([int(x[-4:]) if x else 2004 for x in last_status_update])"
     ],
     "language": "python",
     "metadata": {},
     "outputs": [
      {
       "metadata": {},
       "output_type": "pyout",
       "prompt_number": 13,
       "text": [
        "(array([  1.10230000e+04,   0.00000000e+00,   5.00000000e+00,\n",
        "          5.60000000e+01,   1.13000000e+03,   4.79800000e+03,\n",
        "          3.84600000e+03,   4.88400000e+03,   8.56900000e+03,\n",
        "          9.05780000e+04]),\n",
        " array([ 2004. ,  2005.2,  2006.4,  2007.6,  2008.8,  2010. ,  2011.2,\n",
        "         2012.4,  2013.6,  2014.8,  2016. ]),\n",
        " <a list of 10 Patch objects>)"
       ]
      },
      {
       "metadata": {},
       "output_type": "display_data",
       "png": "[encoded data removed]",
       "text": [
        "<matplotlib.figure.Figure at 0x28884828>"
       ]
      }
     ],
     "prompt_number": 13
    },
    {
     "cell_type": "code",
     "collapsed": false,
     "input": [
      "plt.hist([int(x[-4:]) for x in filter(lambda x: x != '', last_status_update)])"
     ],
     "language": "python",
     "metadata": {},
     "outputs": [
      {
       "metadata": {},
       "output_type": "pyout",
       "prompt_number": 14,
       "text": [
        "(array([  5.00000000e+00,   5.60000000e+01,   1.13000000e+03,\n",
        "          1.84100000e+03,   2.95700000e+03,   3.84600000e+03,\n",
        "          4.88400000e+03,   8.56900000e+03,   1.74470000e+04,\n",
        "          7.31310000e+04]),\n",
        " array([ 2007. ,  2007.9,  2008.8,  2009.7,  2010.6,  2011.5,  2012.4,\n",
        "         2013.3,  2014.2,  2015.1,  2016. ]),\n",
        " <a list of 10 Patch objects>)"
       ]
      },
      {
       "metadata": {},
       "output_type": "display_data",
       "png": "[encoded data removed]",
       "text": [
        "<matplotlib.figure.Figure at 0x28dfa978>"
       ]
      }
     ],
     "prompt_number": 14
    },
    {
     "cell_type": "code",
     "collapsed": false,
     "input": [
      "last_status_update_timestamps = np.array([convert_to_datetime(x).timestamp() for x in filter(lambda x: x != '', last_status_update)])\n",
      "a = plt.hist(last_status_update_timestamps, bins=50)"
     ],
     "language": "python",
     "metadata": {},
     "outputs": [
      {
       "metadata": {},
       "output_type": "display_data",
       "png": "[encoded data removed]",
       "text": [
        "<matplotlib.figure.Figure at 0x2bcc4940>"
       ]
      }
     ],
     "prompt_number": 15
    },
    {
     "cell_type": "markdown",
     "metadata": {},
     "source": [
      "\u0412\u044b\u0433\u043b\u044f\u0434\u0438\u0442 \u043b\u043e\u0433\u0438\u0447\u043d\u043e, \u044f\u0432\u043d\u043e \u0432\u044b\u0434\u0435\u043b\u044f\u0435\u0442\u0441\u044f \u043f\u0440\u0438\u043c\u0435\u0440\u043d\u043e 7000 \u043d\u0435\u0434\u0430\u0432\u043d\u043e \u0442\u0432\u0438\u0442\u0435\u0432\u0448\u0438\u0445 \u043f\u043e\u043b\u043b\u044c\u0437\u043e\u0432\u0430\u0442\u0435\u043b\u0435\u0439"
     ]
    },
    {
     "cell_type": "code",
     "collapsed": false,
     "input": [
      "len(last_status_update_timestamps[last_status_update_timestamps > baseline_date.timestamp()])/len(last_status_update_timestamps)"
     ],
     "language": "python",
     "metadata": {},
     "outputs": [
      {
       "metadata": {},
       "output_type": "pyout",
       "prompt_number": 336,
       "text": [
        "0.520893510494897"
       ]
      }
     ],
     "prompt_number": 336
    },
    {
     "cell_type": "markdown",
     "metadata": {},
     "source": [
      "\u0422\u043e\u043b\u044c\u043a\u043e \u043f\u043e\u043b\u043e\u0432\u0438\u043d\u0430 \u043f\u043e\u043b\u044c\u0437\u043e\u0432\u0430\u0442\u0435\u043b\u0435\u0439 \u0441\u0434\u0435\u043b\u0430\u043b\u0438 \u0445\u043e\u0442\u044f \u0431\u044b \u043e\u0434\u0438\u043d \u0442\u0432\u0438\u0442 \u0432 \u043f\u043e\u0441\u043b\u0435\u0434\u043d\u0435\u043c \u043c\u0435\u0441\u044f\u0446\u0435"
     ]
    },
    {
     "cell_type": "code",
     "collapsed": false,
     "input": [
      "a = plt.hist(last_status_update_timestamps[last_status_update_timestamps > baseline_date.timestamp()], bins=50)"
     ],
     "language": "python",
     "metadata": {},
     "outputs": [
      {
       "metadata": {},
       "output_type": "display_data",
       "png": "[encoded data removed]",
       "text": [
        "<matplotlib.figure.Figure at 0x2bcc4828>"
       ]
      }
     ],
     "prompt_number": 16
    },
    {
     "cell_type": "markdown",
     "metadata": {},
     "source": [
      "\u041d\u0435 \u0432\u0441\u0435 \u0442\u0432\u0438\u0442\u044f\u0442 \u043f\u043e\u0441\u0442\u043e\u044f\u043d\u043d\u043e..."
     ]
    },
    {
     "cell_type": "heading",
     "level": 2,
     "metadata": {},
     "source": [
      "favourites_count"
     ]
    },
    {
     "cell_type": "markdown",
     "metadata": {},
     "source": [
      "The number of tweets this user has favorited in the account\u2019s lifetime."
     ]
    },
    {
     "cell_type": "markdown",
     "metadata": {},
     "source": [
      "\u042f\u0432\u043b\u044f\u0435\u0442\u0441\u044f \u043f\u043e\u043a\u0430\u0437\u0430\u0442\u0435\u043b\u0435\u043c \u0430\u043a\u0442\u0438\u0432\u043d\u043e\u0439 \u043f\u043e\u0437\u0438\u0446\u0438\u0438 \u043f\u043e\u043b\u044c\u0437\u043e\u0432\u0430\u0442\u0435\u043b\u044f"
     ]
    },
    {
     "cell_type": "code",
     "collapsed": false,
     "input": [
      "sub_list = accounts_df['favourites_count'][accounts_df['favourites_count'] < np.percentile(accounts_df['favourites_count'], 95)]\n",
      "sub_list.hist()"
     ],
     "language": "python",
     "metadata": {},
     "outputs": [
      {
       "metadata": {},
       "output_type": "pyout",
       "prompt_number": 65,
       "text": [
        "<matplotlib.axes._subplots.AxesSubplot at 0xf683e80>"
       ]
      },
      {
       "metadata": {},
       "output_type": "display_data",
       "png": "[encoded data removed]",
       "text": [
        "<matplotlib.figure.Figure at 0xf856860>"
       ]
      }
     ],
     "prompt_number": 65
    },
    {
     "cell_type": "code",
     "collapsed": false,
     "input": [
      "accounts_df.sort('favourites_count').tail()[look_at]"
     ],
     "language": "python",
     "metadata": {},
     "outputs": [
      {
       "html": [
        "<div style=\"max-height:1000px;max-width:1500px;overflow:auto;\">\n",
        "<table border=\"1\" class=\"dataframe\">\n",
        "  <thead>\n",
        "    <tr style=\"text-align: right;\">\n",
        "      <th></th>\n",
        "      <th>created_at</th>\n",
        "      <th>favourites_count</th>\n",
        "      <th>followers_count</th>\n",
        "      <th>friends_count</th>\n",
        "      <th>lang</th>\n",
        "      <th>listed_count</th>\n",
        "      <th>location</th>\n",
        "      <th>statuses_count</th>\n",
        "      <th>verified</th>\n",
        "      <th>description</th>\n",
        "      <th>id</th>\n",
        "      <th>name</th>\n",
        "      <th>screen_name</th>\n",
        "    </tr>\n",
        "  </thead>\n",
        "  <tbody>\n",
        "    <tr>\n",
        "      <th>2440</th>\n",
        "      <td> Sun Sep 11 19:38:26 +0000 2011</td>\n",
        "      <td>  65144</td>\n",
        "      <td> 1600</td>\n",
        "      <td>  603</td>\n",
        "      <td> en</td>\n",
        "      <td>  74</td>\n",
        "      <td> 1UP Clan 4.2 Chronic TDM</td>\n",
        "      <td> 41661</td>\n",
        "      <td> False</td>\n",
        "      <td> Geek, 20, Software Engineering Student, FOSS A...</td>\n",
        "      <td> 371923522</td>\n",
        "      <td>               Reza</td>\n",
        "      <td>   ShalbafZadeh</td>\n",
        "    </tr>\n",
        "    <tr>\n",
        "      <th>5241</th>\n",
        "      <td> Wed May 07 03:03:26 +0000 2008</td>\n",
        "      <td>  73738</td>\n",
        "      <td>  772</td>\n",
        "      <td> 1298</td>\n",
        "      <td> en</td>\n",
        "      <td>  51</td>\n",
        "      <td>            San Francisco</td>\n",
        "      <td>  1710</td>\n",
        "      <td> False</td>\n",
        "      <td> Method coder at Google. Math, physics, economi...</td>\n",
        "      <td>  14682476</td>\n",
        "      <td>       Anatoly Karp</td>\n",
        "      <td>          akarp</td>\n",
        "    </tr>\n",
        "    <tr>\n",
        "      <th>6627</th>\n",
        "      <td> Sun Apr 29 02:52:37 +0000 2007</td>\n",
        "      <td> 153919</td>\n",
        "      <td> 1555</td>\n",
        "      <td> 2214</td>\n",
        "      <td> ja</td>\n",
        "      <td>  90</td>\n",
        "      <td>                     \u306d\u308a\u3046\u307e</td>\n",
        "      <td> 34713</td>\n",
        "      <td> False</td>\n",
        "      <td> \u81ea\u5b85\u8b66\u5099\u4e2d\u306e\u30d7\u30ed\u30b0\u30e9\u30de\u517c\u30a4\u30f3\u30d5\u30e9\u30a8\u30f3\u30b8\u30cb\u30a2\u3002\u666e\u6bb5\u306fGo\u66f8\u3044\u3066\u307e\u3059\u3002Python\u3068\u304bJavaS...</td>\n",
        "      <td>   5621582</td>\n",
        "      <td>         \u3057\u3052\u3063\u3061@\u81ea\u5b85\u8b66\u5099\u4e2d</td>\n",
        "      <td>         yuunya</td>\n",
        "    </tr>\n",
        "    <tr>\n",
        "      <th>2498</th>\n",
        "      <td> Mon Nov 19 21:39:08 +0000 2007</td>\n",
        "      <td> 198264</td>\n",
        "      <td> 1053</td>\n",
        "      <td> 1700</td>\n",
        "      <td> en</td>\n",
        "      <td>  73</td>\n",
        "      <td>        Augsburg, Germany</td>\n",
        "      <td> 51758</td>\n",
        "      <td> False</td>\n",
        "      <td>                            Tortillas are awesome!</td>\n",
        "      <td>  10394352</td>\n",
        "      <td>     breakthesystem</td>\n",
        "      <td> breakthesystem</td>\n",
        "    </tr>\n",
        "    <tr>\n",
        "      <th>1048</th>\n",
        "      <td> Sun Jul 29 13:52:58 +0000 2007</td>\n",
        "      <td> 209842</td>\n",
        "      <td> 2439</td>\n",
        "      <td> 2776</td>\n",
        "      <td> en</td>\n",
        "      <td> 142</td>\n",
        "      <td>      Uruma Okinawa Japan</td>\n",
        "      <td> 15086</td>\n",
        "      <td> False</td>\n",
        "      <td> Linux, Mac OS X, iPod touch 6th gen, Google Ne...</td>\n",
        "      <td>   7801762</td>\n",
        "      <td> Makoto Shimabukuro</td>\n",
        "      <td>    shimabukuro</td>\n",
        "    </tr>\n",
        "  </tbody>\n",
        "</table>\n",
        "</div>"
       ],
       "metadata": {},
       "output_type": "pyout",
       "prompt_number": 128,
       "text": [
        "                          created_at  favourites_count  followers_count  \\\n",
        "2440  Sun Sep 11 19:38:26 +0000 2011             65144             1600   \n",
        "5241  Wed May 07 03:03:26 +0000 2008             73738              772   \n",
        "6627  Sun Apr 29 02:52:37 +0000 2007            153919             1555   \n",
        "2498  Mon Nov 19 21:39:08 +0000 2007            198264             1053   \n",
        "1048  Sun Jul 29 13:52:58 +0000 2007            209842             2439   \n",
        "\n",
        "      friends_count lang  listed_count                  location  \\\n",
        "2440            603   en            74  1UP Clan 4.2 Chronic TDM   \n",
        "5241           1298   en            51             San Francisco   \n",
        "6627           2214   ja            90                      \u306d\u308a\u3046\u307e   \n",
        "2498           1700   en            73         Augsburg, Germany   \n",
        "1048           2776   en           142       Uruma Okinawa Japan   \n",
        "\n",
        "      statuses_count verified  \\\n",
        "2440           41661    False   \n",
        "5241            1710    False   \n",
        "6627           34713    False   \n",
        "2498           51758    False   \n",
        "1048           15086    False   \n",
        "\n",
        "                                            description         id  \\\n",
        "2440  Geek, 20, Software Engineering Student, FOSS A...  371923522   \n",
        "5241  Method coder at Google. Math, physics, economi...   14682476   \n",
        "6627  \u81ea\u5b85\u8b66\u5099\u4e2d\u306e\u30d7\u30ed\u30b0\u30e9\u30de\u517c\u30a4\u30f3\u30d5\u30e9\u30a8\u30f3\u30b8\u30cb\u30a2\u3002\u666e\u6bb5\u306fGo\u66f8\u3044\u3066\u307e\u3059\u3002Python\u3068\u304bJavaS...    5621582   \n",
        "2498                             Tortillas are awesome!   10394352   \n",
        "1048  Linux, Mac OS X, iPod touch 6th gen, Google Ne...    7801762   \n",
        "\n",
        "                    name     screen_name  \n",
        "2440                Reza    ShalbafZadeh  \n",
        "5241        Anatoly Karp           akarp  \n",
        "6627          \u3057\u3052\u3063\u3061@\u81ea\u5b85\u8b66\u5099\u4e2d          yuunya  \n",
        "2498      breakthesystem  breakthesystem  \n",
        "1048  Makoto Shimabukuro     shimabukuro  "
       ]
      }
     ],
     "prompt_number": 128
    },
    {
     "cell_type": "heading",
     "level": 2,
     "metadata": {},
     "source": [
      "followers_count"
     ]
    },
    {
     "cell_type": "code",
     "collapsed": false,
     "input": [
      "sub_list = accounts_df['followers_count'][accounts_df['followers_count'] < np.percentile(accounts_df['followers_count'], 95)]\n",
      "sub_list.hist()"
     ],
     "language": "python",
     "metadata": {},
     "outputs": [
      {
       "metadata": {},
       "output_type": "pyout",
       "prompt_number": 76,
       "text": [
        "<matplotlib.axes._subplots.AxesSubplot at 0x109ab898>"
       ]
      },
      {
       "metadata": {},
       "output_type": "display_data",
       "png": "[encoded data removed]",
       "text": [
        "<matplotlib.figure.Figure at 0x10a3eb70>"
       ]
      }
     ],
     "prompt_number": 76
    },
    {
     "cell_type": "code",
     "collapsed": false,
     "input": [
      "accounts_df.sort('followers_count').tail()[look_at]"
     ],
     "language": "python",
     "metadata": {},
     "outputs": [
      {
       "html": [
        "<div style=\"max-height:1000px;max-width:1500px;overflow:auto;\">\n",
        "<table border=\"1\" class=\"dataframe\">\n",
        "  <thead>\n",
        "    <tr style=\"text-align: right;\">\n",
        "      <th></th>\n",
        "      <th>created_at</th>\n",
        "      <th>favourites_count</th>\n",
        "      <th>followers_count</th>\n",
        "      <th>friends_count</th>\n",
        "      <th>lang</th>\n",
        "      <th>listed_count</th>\n",
        "      <th>location</th>\n",
        "      <th>statuses_count</th>\n",
        "      <th>verified</th>\n",
        "      <th>description</th>\n",
        "      <th>id</th>\n",
        "      <th>name</th>\n",
        "      <th>screen_name</th>\n",
        "    </tr>\n",
        "  </thead>\n",
        "  <tbody>\n",
        "    <tr>\n",
        "      <th>8199</th>\n",
        "      <td> Sat Jan 17 01:43:34 +0000 2009</td>\n",
        "      <td>    16</td>\n",
        "      <td>   84041</td>\n",
        "      <td>  47251</td>\n",
        "      <td> en</td>\n",
        "      <td> 1363</td>\n",
        "      <td>            Portland, OR</td>\n",
        "      <td>   5392</td>\n",
        "      <td> False</td>\n",
        "      <td> We are a team of artists &amp; technologists who c...</td>\n",
        "      <td>  19096593</td>\n",
        "      <td>        Red Giant</td>\n",
        "      <td>   RedGiantNews</td>\n",
        "    </tr>\n",
        "    <tr>\n",
        "      <th>4348</th>\n",
        "      <td> Thu May 31 21:37:32 +0000 2012</td>\n",
        "      <td>     2</td>\n",
        "      <td>  111958</td>\n",
        "      <td>  14641</td>\n",
        "      <td> en</td>\n",
        "      <td>   20</td>\n",
        "      <td>                        </td>\n",
        "      <td>    209</td>\n",
        "      <td> False</td>\n",
        "      <td>                           Web Engineering Manager</td>\n",
        "      <td> 595930833</td>\n",
        "      <td> Sandeep Dhaliwal</td>\n",
        "      <td> sandeepdhaliwa</td>\n",
        "    </tr>\n",
        "    <tr>\n",
        "      <th>6709</th>\n",
        "      <td> Sat Nov 10 08:48:59 +0000 2012</td>\n",
        "      <td>   313</td>\n",
        "      <td>  125205</td>\n",
        "      <td> 714314</td>\n",
        "      <td> en</td>\n",
        "      <td>  702</td>\n",
        "      <td>    Nashville, Tennessee</td>\n",
        "      <td> 417581</td>\n",
        "      <td> False</td>\n",
        "      <td> http://t.co/rKz3F3KC7k plays the best in indep...</td>\n",
        "      <td> 938657858</td>\n",
        "      <td>         CMRTODAY</td>\n",
        "      <td>       CMRTODAY</td>\n",
        "    </tr>\n",
        "    <tr>\n",
        "      <th>4958</th>\n",
        "      <td> Tue Nov 04 08:00:56 +0000 2008</td>\n",
        "      <td>  6411</td>\n",
        "      <td>  473285</td>\n",
        "      <td>  68012</td>\n",
        "      <td> en</td>\n",
        "      <td> 3013</td>\n",
        "      <td>       San Francisco, CA</td>\n",
        "      <td>   2825</td>\n",
        "      <td>  True</td>\n",
        "      <td>              Download our @Shots App. Link below.</td>\n",
        "      <td>  17151344</td>\n",
        "      <td>     john shahidi</td>\n",
        "      <td>           john</td>\n",
        "    </tr>\n",
        "    <tr>\n",
        "      <th>7988</th>\n",
        "      <td> Wed Sep 05 19:32:39 +0000 2012</td>\n",
        "      <td> 18604</td>\n",
        "      <td> 2705346</td>\n",
        "      <td> 136108</td>\n",
        "      <td> en</td>\n",
        "      <td>  275</td>\n",
        "      <td> bigmoneymike6@gmail.com</td>\n",
        "      <td>  28075</td>\n",
        "      <td> False</td>\n",
        "      <td> I make money 24/7 FROM #PENNYSTOCKS ! !! Follo...</td>\n",
        "      <td> 805230144</td>\n",
        "      <td>   BIG MONEY MIKE</td>\n",
        "      <td>  BIGMONEYMIKE6</td>\n",
        "    </tr>\n",
        "  </tbody>\n",
        "</table>\n",
        "</div>"
       ],
       "metadata": {},
       "output_type": "pyout",
       "prompt_number": 129,
       "text": [
        "                          created_at  favourites_count  followers_count  \\\n",
        "8199  Sat Jan 17 01:43:34 +0000 2009                16            84041   \n",
        "4348  Thu May 31 21:37:32 +0000 2012                 2           111958   \n",
        "6709  Sat Nov 10 08:48:59 +0000 2012               313           125205   \n",
        "4958  Tue Nov 04 08:00:56 +0000 2008              6411           473285   \n",
        "7988  Wed Sep 05 19:32:39 +0000 2012             18604          2705346   \n",
        "\n",
        "      friends_count lang  listed_count                 location  \\\n",
        "8199          47251   en          1363             Portland, OR   \n",
        "4348          14641   en            20                            \n",
        "6709         714314   en           702     Nashville, Tennessee   \n",
        "4958          68012   en          3013        San Francisco, CA   \n",
        "7988         136108   en           275  bigmoneymike6@gmail.com   \n",
        "\n",
        "      statuses_count verified  \\\n",
        "8199            5392    False   \n",
        "4348             209    False   \n",
        "6709          417581    False   \n",
        "4958            2825     True   \n",
        "7988           28075    False   \n",
        "\n",
        "                                            description         id  \\\n",
        "8199  We are a team of artists & technologists who c...   19096593   \n",
        "4348                            Web Engineering Manager  595930833   \n",
        "6709  http://t.co/rKz3F3KC7k plays the best in indep...  938657858   \n",
        "4958               Download our @Shots App. Link below.   17151344   \n",
        "7988  I make money 24/7 FROM #PENNYSTOCKS ! !! Follo...  805230144   \n",
        "\n",
        "                  name     screen_name  \n",
        "8199         Red Giant    RedGiantNews  \n",
        "4348  Sandeep Dhaliwal  sandeepdhaliwa  \n",
        "6709          CMRTODAY        CMRTODAY  \n",
        "4958      john shahidi            john  \n",
        "7988    BIG MONEY MIKE   BIGMONEYMIKE6  "
       ]
      }
     ],
     "prompt_number": 129
    },
    {
     "cell_type": "heading",
     "level": 2,
     "metadata": {},
     "source": [
      "friends_count"
     ]
    },
    {
     "cell_type": "code",
     "collapsed": false,
     "input": [
      "sub_list = accounts_df['friends_count'][accounts_df['friends_count'] < np.percentile(accounts_df['friends_count'], 95)]\n",
      "sub_list.hist()"
     ],
     "language": "python",
     "metadata": {},
     "outputs": [
      {
       "metadata": {},
       "output_type": "pyout",
       "prompt_number": 82,
       "text": [
        "<matplotlib.axes._subplots.AxesSubplot at 0x11538080>"
       ]
      },
      {
       "metadata": {},
       "output_type": "display_data",
       "png": "[encoded data removed]",
       "text": [
        "<matplotlib.figure.Figure at 0x11473e48>"
       ]
      }
     ],
     "prompt_number": 82
    },
    {
     "cell_type": "code",
     "collapsed": false,
     "input": [
      "accounts_df.sort('friends_count').tail()[look_at]"
     ],
     "language": "python",
     "metadata": {},
     "outputs": [
      {
       "html": [
        "<div style=\"max-height:1000px;max-width:1500px;overflow:auto;\">\n",
        "<table border=\"1\" class=\"dataframe\">\n",
        "  <thead>\n",
        "    <tr style=\"text-align: right;\">\n",
        "      <th></th>\n",
        "      <th>created_at</th>\n",
        "      <th>favourites_count</th>\n",
        "      <th>followers_count</th>\n",
        "      <th>friends_count</th>\n",
        "      <th>lang</th>\n",
        "      <th>listed_count</th>\n",
        "      <th>location</th>\n",
        "      <th>statuses_count</th>\n",
        "      <th>verified</th>\n",
        "      <th>description</th>\n",
        "      <th>id</th>\n",
        "      <th>name</th>\n",
        "      <th>screen_name</th>\n",
        "    </tr>\n",
        "  </thead>\n",
        "  <tbody>\n",
        "    <tr>\n",
        "      <th>10092</th>\n",
        "      <td> Sat Dec 10 16:36:50 +0000 2011</td>\n",
        "      <td>     0</td>\n",
        "      <td>   33676</td>\n",
        "      <td>  53063</td>\n",
        "      <td> en</td>\n",
        "      <td>   57</td>\n",
        "      <td>                     USA</td>\n",
        "      <td>      3</td>\n",
        "      <td> False</td>\n",
        "      <td> Intl Trade/Web Marktg/ Arts, Music and History...</td>\n",
        "      <td> 433482970</td>\n",
        "      <td>   Raed Boutros</td>\n",
        "      <td>   RaedBoutros</td>\n",
        "    </tr>\n",
        "    <tr>\n",
        "      <th>4958 </th>\n",
        "      <td> Tue Nov 04 08:00:56 +0000 2008</td>\n",
        "      <td>  6411</td>\n",
        "      <td>  473285</td>\n",
        "      <td>  68012</td>\n",
        "      <td> en</td>\n",
        "      <td> 3013</td>\n",
        "      <td>       San Francisco, CA</td>\n",
        "      <td>   2825</td>\n",
        "      <td>  True</td>\n",
        "      <td>              Download our @Shots App. Link below.</td>\n",
        "      <td>  17151344</td>\n",
        "      <td>   john shahidi</td>\n",
        "      <td>          john</td>\n",
        "    </tr>\n",
        "    <tr>\n",
        "      <th>5444 </th>\n",
        "      <td> Mon Dec 13 02:57:39 +0000 2010</td>\n",
        "      <td>     1</td>\n",
        "      <td>   65342</td>\n",
        "      <td>  79008</td>\n",
        "      <td> en</td>\n",
        "      <td>   34</td>\n",
        "      <td>                        </td>\n",
        "      <td>   2928</td>\n",
        "      <td> False</td>\n",
        "      <td> I am an advertiser addict .I discover  a bette...</td>\n",
        "      <td> 226015911</td>\n",
        "      <td>        Ad Guru</td>\n",
        "      <td>        1G1F1D</td>\n",
        "    </tr>\n",
        "    <tr>\n",
        "      <th>7988 </th>\n",
        "      <td> Wed Sep 05 19:32:39 +0000 2012</td>\n",
        "      <td> 18604</td>\n",
        "      <td> 2705346</td>\n",
        "      <td> 136108</td>\n",
        "      <td> en</td>\n",
        "      <td>  275</td>\n",
        "      <td> bigmoneymike6@gmail.com</td>\n",
        "      <td>  28075</td>\n",
        "      <td> False</td>\n",
        "      <td> I make money 24/7 FROM #PENNYSTOCKS ! !! Follo...</td>\n",
        "      <td> 805230144</td>\n",
        "      <td> BIG MONEY MIKE</td>\n",
        "      <td> BIGMONEYMIKE6</td>\n",
        "    </tr>\n",
        "    <tr>\n",
        "      <th>6709 </th>\n",
        "      <td> Sat Nov 10 08:48:59 +0000 2012</td>\n",
        "      <td>   313</td>\n",
        "      <td>  125205</td>\n",
        "      <td> 714314</td>\n",
        "      <td> en</td>\n",
        "      <td>  702</td>\n",
        "      <td>    Nashville, Tennessee</td>\n",
        "      <td> 417581</td>\n",
        "      <td> False</td>\n",
        "      <td> http://t.co/rKz3F3KC7k plays the best in indep...</td>\n",
        "      <td> 938657858</td>\n",
        "      <td>       CMRTODAY</td>\n",
        "      <td>      CMRTODAY</td>\n",
        "    </tr>\n",
        "  </tbody>\n",
        "</table>\n",
        "</div>"
       ],
       "metadata": {},
       "output_type": "pyout",
       "prompt_number": 130,
       "text": [
        "                           created_at  favourites_count  followers_count  \\\n",
        "10092  Sat Dec 10 16:36:50 +0000 2011                 0            33676   \n",
        "4958   Tue Nov 04 08:00:56 +0000 2008              6411           473285   \n",
        "5444   Mon Dec 13 02:57:39 +0000 2010                 1            65342   \n",
        "7988   Wed Sep 05 19:32:39 +0000 2012             18604          2705346   \n",
        "6709   Sat Nov 10 08:48:59 +0000 2012               313           125205   \n",
        "\n",
        "       friends_count lang  listed_count                 location  \\\n",
        "10092          53063   en            57                      USA   \n",
        "4958           68012   en          3013        San Francisco, CA   \n",
        "5444           79008   en            34                            \n",
        "7988          136108   en           275  bigmoneymike6@gmail.com   \n",
        "6709          714314   en           702     Nashville, Tennessee   \n",
        "\n",
        "       statuses_count verified  \\\n",
        "10092               3    False   \n",
        "4958             2825     True   \n",
        "5444             2928    False   \n",
        "7988            28075    False   \n",
        "6709           417581    False   \n",
        "\n",
        "                                             description         id  \\\n",
        "10092  Intl Trade/Web Marktg/ Arts, Music and History...  433482970   \n",
        "4958                Download our @Shots App. Link below.   17151344   \n",
        "5444   I am an advertiser addict .I discover  a bette...  226015911   \n",
        "7988   I make money 24/7 FROM #PENNYSTOCKS ! !! Follo...  805230144   \n",
        "6709   http://t.co/rKz3F3KC7k plays the best in indep...  938657858   \n",
        "\n",
        "                 name    screen_name  \n",
        "10092    Raed Boutros    RaedBoutros  \n",
        "4958     john shahidi           john  \n",
        "5444          Ad Guru         1G1F1D  \n",
        "7988   BIG MONEY MIKE  BIGMONEYMIKE6  \n",
        "6709         CMRTODAY       CMRTODAY  "
       ]
      }
     ],
     "prompt_number": 130
    },
    {
     "cell_type": "heading",
     "level": 2,
     "metadata": {},
     "source": [
      "lang"
     ]
    },
    {
     "cell_type": "code",
     "collapsed": false,
     "input": [
      "sub_list = accounts_df.groupby('lang')['lang'].count()\n",
      "ind = np.arange(len(sub_list))\n",
      "width = 0.5\n",
      "fig, ax = plt.subplots(figsize=(20, 10))\n",
      "ax.bar(ind, sub_list, width=width)\n",
      "ax.set_xticks(ind + width)\n",
      "ax.set_xticklabels(sub_list.index)"
     ],
     "language": "python",
     "metadata": {},
     "outputs": [
      {
       "metadata": {},
       "output_type": "pyout",
       "prompt_number": 103,
       "text": [
        "[<matplotlib.text.Text at 0xe89d438>,\n",
        " <matplotlib.text.Text at 0x12a89780>,\n",
        " <matplotlib.text.Text at 0x12c43080>,\n",
        " <matplotlib.text.Text at 0x12c43a90>,\n",
        " <matplotlib.text.Text at 0x12c474e0>,\n",
        " <matplotlib.text.Text at 0x12c47ef0>,\n",
        " <matplotlib.text.Text at 0x12c4b940>,\n",
        " <matplotlib.text.Text at 0x12c4f390>,\n",
        " <matplotlib.text.Text at 0x12c4fda0>,\n",
        " <matplotlib.text.Text at 0x12c527f0>,\n",
        " <matplotlib.text.Text at 0x12c57240>,\n",
        " <matplotlib.text.Text at 0x12c57c50>,\n",
        " <matplotlib.text.Text at 0x12c5b6a0>,\n",
        " <matplotlib.text.Text at 0x12c5f0f0>,\n",
        " <matplotlib.text.Text at 0x12c5fb00>,\n",
        " <matplotlib.text.Text at 0x12c64550>,\n",
        " <matplotlib.text.Text at 0x12c64f60>,\n",
        " <matplotlib.text.Text at 0x12c689b0>,\n",
        " <matplotlib.text.Text at 0x12c6b400>,\n",
        " <matplotlib.text.Text at 0x12c6be10>,\n",
        " <matplotlib.text.Text at 0x12c70860>,\n",
        " <matplotlib.text.Text at 0x12c732b0>,\n",
        " <matplotlib.text.Text at 0x12c73cc0>,\n",
        " <matplotlib.text.Text at 0x12cfa710>,\n",
        " <matplotlib.text.Text at 0x12cfd160>,\n",
        " <matplotlib.text.Text at 0x12cfdb70>,\n",
        " <matplotlib.text.Text at 0x12d015c0>,\n",
        " <matplotlib.text.Text at 0x12d01fd0>,\n",
        " <matplotlib.text.Text at 0x12d05a20>,\n",
        " <matplotlib.text.Text at 0x12d09470>,\n",
        " <matplotlib.text.Text at 0x12d09e80>,\n",
        " <matplotlib.text.Text at 0x12d0e8d0>,\n",
        " <matplotlib.text.Text at 0x12d11320>,\n",
        " <matplotlib.text.Text at 0x12d11d30>,\n",
        " <matplotlib.text.Text at 0x12d14780>,\n",
        " <matplotlib.text.Text at 0x12d191d0>,\n",
        " <matplotlib.text.Text at 0x12d19be0>,\n",
        " <matplotlib.text.Text at 0x12d1c630>,\n",
        " <matplotlib.text.Text at 0x12d22080>,\n",
        " <matplotlib.text.Text at 0x12d22a90>,\n",
        " <matplotlib.text.Text at 0x12d264e0>,\n",
        " <matplotlib.text.Text at 0x12d26ef0>,\n",
        " <matplotlib.text.Text at 0x12d28940>]"
       ]
      },
      {
       "metadata": {},
       "output_type": "display_data",
       "png": "[encoded data removed]",
       "text": [
        "<matplotlib.figure.Figure at 0x11a8ed30>"
       ]
      }
     ],
     "prompt_number": 103
    },
    {
     "cell_type": "code",
     "collapsed": false,
     "input": [
      "sub_list.sort()\n",
      "sub_list"
     ],
     "language": "python",
     "metadata": {},
     "outputs": [
      {
       "metadata": {},
       "output_type": "pyout",
       "prompt_number": 107,
       "text": [
        "lang\n",
        "kn            1\n",
        "fil           1\n",
        "sk            1\n",
        "es-MX         1\n",
        "en-GB         1\n",
        "msa           1\n",
        "zh-HK         1\n",
        "zh-Hans       1\n",
        "de-CH         1\n",
        "xx-lc         2\n",
        "no            2\n",
        "zh-TW         2\n",
        "th            3\n",
        "vi            3\n",
        "fa            4\n",
        "he            4\n",
        "ro            5\n",
        "el            6\n",
        "da            9\n",
        "ar           10\n",
        "hu           13\n",
        "fi           14\n",
        "ca           16\n",
        "sv           18\n",
        "id           19\n",
        "zh-CN        26\n",
        "cs           28\n",
        "uk           31\n",
        "zh-tw        31\n",
        "ko           53\n",
        "nl           69\n",
        "tr           97\n",
        "en-gb       116\n",
        "it          126\n",
        "pl          127\n",
        "ja          211\n",
        "zh-cn       221\n",
        "pt          235\n",
        "de          321\n",
        "fr          342\n",
        "es          621\n",
        "ru          623\n",
        "en         8471\n",
        "Name: lang, dtype: int64"
       ]
      }
     ],
     "prompt_number": 107
    },
    {
     "cell_type": "markdown",
     "metadata": {},
     "source": [
      "\u0410\u043d\u0433\u043b\u0438\u0439\u0441\u043a\u0438\u0445 \u0430\u043a\u043a\u0430\u0443\u043d\u0442\u043e\u0432 \u043a\u0443\u0436\u0430 \u0431\u043e\u043b\u044c\u0448\u0435, \u0447\u0435\u043c \u0432\u0441\u0435\u0445 \u043e\u0441\u0442\u0430\u043b\u044c\u043d\u044b\u0445"
     ]
    },
    {
     "cell_type": "heading",
     "level": 2,
     "metadata": {},
     "source": [
      "listed_count"
     ]
    },
    {
     "cell_type": "markdown",
     "metadata": {},
     "source": [
      "The number of public lists that this user is a member of"
     ]
    },
    {
     "cell_type": "markdown",
     "metadata": {},
     "source": [
      "\u041d\u0430\u0432\u0435\u0440\u043d\u043e\u0435 \u0442\u043e\u0436\u0435 \u043a\u0430\u043a-\u0442\u043e \u043e\u0442\u0440\u0430\u0436\u0430\u0435\u0442 \u0430\u043a\u0442\u0438\u0432\u043d\u043e\u0441\u0442\u044c \u043f\u043e\u043b\u044c\u0437\u043e\u0432\u0430\u0442\u0435\u043b\u044f? \u0447\u0442\u043e \u0442\u0430\u043a\u043e\u0435 \u043f\u0443\u0431\u043b\u0438\u0447\u043d\u044b\u0435 \u0441\u043f\u0438\u0441\u043a\u0438?"
     ]
    },
    {
     "cell_type": "code",
     "collapsed": false,
     "input": [
      "sub_list = accounts_df['listed_count'][accounts_df['listed_count'] < np.percentile(accounts_df['listed_count'], 95)]\n",
      "sub_list.hist()"
     ],
     "language": "python",
     "metadata": {},
     "outputs": [
      {
       "metadata": {},
       "output_type": "pyout",
       "prompt_number": 108,
       "text": [
        "<matplotlib.axes._subplots.AxesSubplot at 0x1189fbe0>"
       ]
      },
      {
       "metadata": {},
       "output_type": "display_data",
       "png": "[encoded data removed]",
       "text": [
        "<matplotlib.figure.Figure at 0x11bb7940>"
       ]
      }
     ],
     "prompt_number": 108
    },
    {
     "cell_type": "code",
     "collapsed": false,
     "input": [
      "accounts_df.sort('listed_count').tail()[look_at]"
     ],
     "language": "python",
     "metadata": {},
     "outputs": [
      {
       "html": [
        "<div style=\"max-height:1000px;max-width:1500px;overflow:auto;\">\n",
        "<table border=\"1\" class=\"dataframe\">\n",
        "  <thead>\n",
        "    <tr style=\"text-align: right;\">\n",
        "      <th></th>\n",
        "      <th>created_at</th>\n",
        "      <th>favourites_count</th>\n",
        "      <th>followers_count</th>\n",
        "      <th>friends_count</th>\n",
        "      <th>lang</th>\n",
        "      <th>listed_count</th>\n",
        "      <th>location</th>\n",
        "      <th>statuses_count</th>\n",
        "      <th>verified</th>\n",
        "      <th>description</th>\n",
        "      <th>id</th>\n",
        "      <th>name</th>\n",
        "      <th>screen_name</th>\n",
        "    </tr>\n",
        "  </thead>\n",
        "  <tbody>\n",
        "    <tr>\n",
        "      <th>4418</th>\n",
        "      <td> Sun May 06 16:47:24 +0000 2007</td>\n",
        "      <td>  2927</td>\n",
        "      <td>  32140</td>\n",
        "      <td>  4012</td>\n",
        "      <td> ja</td>\n",
        "      <td> 1239</td>\n",
        "      <td>      Meguro/Ebisu</td>\n",
        "      <td>  12101</td>\n",
        "      <td> False</td>\n",
        "      <td> \u771f\u934b\u5927\u5ea6 - Daito Manabe https://t.co/ts142ixg6o ht...</td>\n",
        "      <td>    5812122</td>\n",
        "      <td>     daitomanabe</td>\n",
        "      <td>   daitomanabe</td>\n",
        "    </tr>\n",
        "    <tr>\n",
        "      <th>8199</th>\n",
        "      <td> Sat Jan 17 01:43:34 +0000 2009</td>\n",
        "      <td>    16</td>\n",
        "      <td>  84041</td>\n",
        "      <td> 47251</td>\n",
        "      <td> en</td>\n",
        "      <td> 1363</td>\n",
        "      <td>      Portland, OR</td>\n",
        "      <td>   5392</td>\n",
        "      <td> False</td>\n",
        "      <td> We are a team of artists &amp; technologists who c...</td>\n",
        "      <td>   19096593</td>\n",
        "      <td>       Red Giant</td>\n",
        "      <td>  RedGiantNews</td>\n",
        "    </tr>\n",
        "    <tr>\n",
        "      <th>4584</th>\n",
        "      <td> Wed Dec 11 10:54:32 +0000 2013</td>\n",
        "      <td>  2664</td>\n",
        "      <td>  25150</td>\n",
        "      <td> 26817</td>\n",
        "      <td> en</td>\n",
        "      <td> 1832</td>\n",
        "      <td>            Global</td>\n",
        "      <td>  12156</td>\n",
        "      <td> False</td>\n",
        "      <td>                       Global Tech Job Aggregator.</td>\n",
        "      <td> 2240590166</td>\n",
        "      <td>  Silicon Armada</td>\n",
        "      <td> SiliconArmada</td>\n",
        "    </tr>\n",
        "    <tr>\n",
        "      <th>5825</th>\n",
        "      <td> Wed Jan 30 04:24:57 +0000 2008</td>\n",
        "      <td> 31104</td>\n",
        "      <td>  26971</td>\n",
        "      <td> 23547</td>\n",
        "      <td> en</td>\n",
        "      <td> 1936</td>\n",
        "      <td>     San Francisco</td>\n",
        "      <td> 129210</td>\n",
        "      <td> False</td>\n",
        "      <td> #SocialMedia #Strategist #Trainer Sharing the ...</td>\n",
        "      <td>   12861132</td>\n",
        "      <td> Ana Lucia Novak</td>\n",
        "      <td> AnaLuciaNovak</td>\n",
        "    </tr>\n",
        "    <tr>\n",
        "      <th>4958</th>\n",
        "      <td> Tue Nov 04 08:00:56 +0000 2008</td>\n",
        "      <td>  6411</td>\n",
        "      <td> 473285</td>\n",
        "      <td> 68012</td>\n",
        "      <td> en</td>\n",
        "      <td> 3013</td>\n",
        "      <td> San Francisco, CA</td>\n",
        "      <td>   2825</td>\n",
        "      <td>  True</td>\n",
        "      <td>              Download our @Shots App. Link below.</td>\n",
        "      <td>   17151344</td>\n",
        "      <td>    john shahidi</td>\n",
        "      <td>          john</td>\n",
        "    </tr>\n",
        "  </tbody>\n",
        "</table>\n",
        "</div>"
       ],
       "metadata": {},
       "output_type": "pyout",
       "prompt_number": 131,
       "text": [
        "                          created_at  favourites_count  followers_count  \\\n",
        "4418  Sun May 06 16:47:24 +0000 2007              2927            32140   \n",
        "8199  Sat Jan 17 01:43:34 +0000 2009                16            84041   \n",
        "4584  Wed Dec 11 10:54:32 +0000 2013              2664            25150   \n",
        "5825  Wed Jan 30 04:24:57 +0000 2008             31104            26971   \n",
        "4958  Tue Nov 04 08:00:56 +0000 2008              6411           473285   \n",
        "\n",
        "      friends_count lang  listed_count           location  statuses_count  \\\n",
        "4418           4012   ja          1239       Meguro/Ebisu           12101   \n",
        "8199          47251   en          1363       Portland, OR            5392   \n",
        "4584          26817   en          1832             Global           12156   \n",
        "5825          23547   en          1936      San Francisco          129210   \n",
        "4958          68012   en          3013  San Francisco, CA            2825   \n",
        "\n",
        "     verified                                        description          id  \\\n",
        "4418    False  \u771f\u934b\u5927\u5ea6 - Daito Manabe https://t.co/ts142ixg6o ht...     5812122   \n",
        "8199    False  We are a team of artists & technologists who c...    19096593   \n",
        "4584    False                        Global Tech Job Aggregator.  2240590166   \n",
        "5825    False  #SocialMedia #Strategist #Trainer Sharing the ...    12861132   \n",
        "4958     True               Download our @Shots App. Link below.    17151344   \n",
        "\n",
        "                 name    screen_name  \n",
        "4418      daitomanabe    daitomanabe  \n",
        "8199        Red Giant   RedGiantNews  \n",
        "4584   Silicon Armada  SiliconArmada  \n",
        "5825  Ana Lucia Novak  AnaLuciaNovak  \n",
        "4958     john shahidi           john  "
       ]
      }
     ],
     "prompt_number": 131
    },
    {
     "cell_type": "heading",
     "level": 2,
     "metadata": {},
     "source": [
      "location"
     ]
    },
    {
     "cell_type": "code",
     "collapsed": false,
     "input": [
      "sub_list = accounts_df.groupby('location')['location'].count()\n",
      "sub_list.sort()\n",
      "sub_list"
     ],
     "language": "python",
     "metadata": {},
     "outputs": [
      {
       "metadata": {},
       "output_type": "pyout",
       "prompt_number": 112,
       "text": [
        "location\n",
        "\ucef4\ud4e8\ud130 \uc55e                             1\n",
        "\u0411\u0430\u043d\u0430\u043d\u043e\u0432\u044b\u0435 \u043e\u0441\u0442\u0440\u043e\u0432\u0430 \u043b\u044e\u0431\u0432\u0438           1\n",
        "Peshawar, Pakistan                1\n",
        "Petaluma, CA                      1\n",
        "Peten, Guatemala                  1\n",
        "Peterborough, UK                  1\n",
        "Petr\u00f3polis - RJ                   1\n",
        "Petr\u00f3polis - RJ - Brasil          1\n",
        "Petr\u00f3polis, RJ, Brazil            1\n",
        "\u03b5\u03ba \u039d\u03b5\u03bf\u03c7\u03c9\u03c1\u03af\u03bf\u03c5 \u0394\u03bf\u03bc\u03bf\u03ba\u03bf\u03cd \u03bf\u03c1\u03bc\u03ce\u03bc\u03b5\u03bd\u03bf\u03c2    1\n",
        "Philadelphia PA Area, USA         1\n",
        "\u015arem, Poland                      1\n",
        "Philadelphia, PA USA              1\n",
        "Philadelphia, PA, USA             1\n",
        "Philadelphia, U.S.                1\n",
        "...\n",
        "Berlin, Germany        30\n",
        "Paris                  30\n",
        "Boston, MA             32\n",
        "Russia                 32\n",
        "New York, NY           33\n",
        "San Francisco          33\n",
        "India                  37\n",
        "London, UK             37\n",
        "UK                     37\n",
        "San Francisco, CA      40\n",
        "Austin, TX             41\n",
        "Seattle, WA            47\n",
        "Moscow                 47\n",
        "London                 69\n",
        "                     3971\n",
        "Name: location, Length: 4332, dtype: int64"
       ]
      }
     ],
     "prompt_number": 112
    },
    {
     "cell_type": "code",
     "collapsed": false,
     "input": [
      "sum(accounts_df['location'].isnull())"
     ],
     "language": "python",
     "metadata": {},
     "outputs": [
      {
       "metadata": {},
       "output_type": "pyout",
       "prompt_number": 115,
       "text": [
        "0"
       ]
      }
     ],
     "prompt_number": 115
    },
    {
     "cell_type": "code",
     "collapsed": false,
     "input": [
      "len(sub_list[sub_list>1])"
     ],
     "language": "python",
     "metadata": {},
     "outputs": [
      {
       "metadata": {},
       "output_type": "pyout",
       "prompt_number": 116,
       "text": [
        "862"
       ]
      }
     ],
     "prompt_number": 116
    },
    {
     "cell_type": "markdown",
     "metadata": {},
     "source": [
      "\u0411\u043e\u043b\u0435\u0435 \u043c\u0435\u043d\u0435 \u0440\u0430\u0432\u043d\u043e\u043c\u0435\u0440\u043d\u043e. \u041d\u0435 \u0438\u043d\u0442\u0435\u0440\u0435\u0441\u043d\u043e?"
     ]
    },
    {
     "cell_type": "heading",
     "level": 2,
     "metadata": {},
     "source": [
      "statuses_count"
     ]
    },
    {
     "cell_type": "code",
     "collapsed": false,
     "input": [
      "sub_list = accounts_df['statuses_count'][accounts_df['statuses_count'] < np.percentile(accounts_df['statuses_count'], 95)]\n",
      "sub_list.hist()"
     ],
     "language": "python",
     "metadata": {},
     "outputs": [
      {
       "metadata": {},
       "output_type": "pyout",
       "prompt_number": 117,
       "text": [
        "<matplotlib.axes._subplots.AxesSubplot at 0x12ddb160>"
       ]
      },
      {
       "metadata": {},
       "output_type": "display_data",
       "png": "[encoded data removed]",
       "text": [
        "<matplotlib.figure.Figure at 0x138e5048>"
       ]
      }
     ],
     "prompt_number": 117
    },
    {
     "cell_type": "code",
     "collapsed": false,
     "input": [
      "accounts_df.sort('statuses_count').tail()[look_at]"
     ],
     "language": "python",
     "metadata": {},
     "outputs": [
      {
       "html": [
        "<div style=\"max-height:1000px;max-width:1500px;overflow:auto;\">\n",
        "<table border=\"1\" class=\"dataframe\">\n",
        "  <thead>\n",
        "    <tr style=\"text-align: right;\">\n",
        "      <th></th>\n",
        "      <th>created_at</th>\n",
        "      <th>favourites_count</th>\n",
        "      <th>followers_count</th>\n",
        "      <th>friends_count</th>\n",
        "      <th>lang</th>\n",
        "      <th>listed_count</th>\n",
        "      <th>location</th>\n",
        "      <th>statuses_count</th>\n",
        "      <th>verified</th>\n",
        "      <th>description</th>\n",
        "      <th>id</th>\n",
        "      <th>name</th>\n",
        "      <th>screen_name</th>\n",
        "    </tr>\n",
        "  </thead>\n",
        "  <tbody>\n",
        "    <tr>\n",
        "      <th>27   </th>\n",
        "      <td> Thu Sep 22 01:51:40 +0000 2011</td>\n",
        "      <td> 41987</td>\n",
        "      <td>   4365</td>\n",
        "      <td>   4931</td>\n",
        "      <td> pt</td>\n",
        "      <td> 111</td>\n",
        "      <td>          Salvador BA</td>\n",
        "      <td> 152791</td>\n",
        "      <td> False</td>\n",
        "      <td> Quanto mais nos elevamos, menores parecemos ao...</td>\n",
        "      <td> 377749571</td>\n",
        "      <td>           Tuly Costa</td>\n",
        "      <td> AdaByronKing</td>\n",
        "    </tr>\n",
        "    <tr>\n",
        "      <th>1263 </th>\n",
        "      <td> Sat Jan 26 13:13:39 +0000 2008</td>\n",
        "      <td> 57972</td>\n",
        "      <td>  10888</td>\n",
        "      <td>   8431</td>\n",
        "      <td> en</td>\n",
        "      <td> 184</td>\n",
        "      <td>             Belgrade</td>\n",
        "      <td> 155028</td>\n",
        "      <td> False</td>\n",
        "      <td> Kompjuter biblioteka od 1986. \\r\\nKnjiga je kn...</td>\n",
        "      <td>  12717572</td>\n",
        "      <td> Kompjuter biblioteka</td>\n",
        "      <td>       kombib</td>\n",
        "    </tr>\n",
        "    <tr>\n",
        "      <th>9961 </th>\n",
        "      <td> Tue Aug 12 12:44:42 +0000 2008</td>\n",
        "      <td>     4</td>\n",
        "      <td>     39</td>\n",
        "      <td>    515</td>\n",
        "      <td> en</td>\n",
        "      <td>   2</td>\n",
        "      <td>                     </td>\n",
        "      <td> 181010</td>\n",
        "      <td> False</td>\n",
        "      <td>                                                  </td>\n",
        "      <td>  15821693</td>\n",
        "      <td>              Patrick</td>\n",
        "      <td>    ptrikpang</td>\n",
        "    </tr>\n",
        "    <tr>\n",
        "      <th>10547</th>\n",
        "      <td> Fri Apr 03 16:54:48 +0000 2009</td>\n",
        "      <td>  3084</td>\n",
        "      <td>   1574</td>\n",
        "      <td>   1120</td>\n",
        "      <td> pt</td>\n",
        "      <td> 198</td>\n",
        "      <td>          /home/logan</td>\n",
        "      <td> 219431</td>\n",
        "      <td> False</td>\n",
        "      <td> Cat person, software engineer, left-winged, vi...</td>\n",
        "      <td>  28602779</td>\n",
        "      <td>       Marx &amp; Heggae.</td>\n",
        "      <td>    ubuntroll</td>\n",
        "    </tr>\n",
        "    <tr>\n",
        "      <th>6709 </th>\n",
        "      <td> Sat Nov 10 08:48:59 +0000 2012</td>\n",
        "      <td>   313</td>\n",
        "      <td> 125205</td>\n",
        "      <td> 714314</td>\n",
        "      <td> en</td>\n",
        "      <td> 702</td>\n",
        "      <td> Nashville, Tennessee</td>\n",
        "      <td> 417581</td>\n",
        "      <td> False</td>\n",
        "      <td> http://t.co/rKz3F3KC7k plays the best in indep...</td>\n",
        "      <td> 938657858</td>\n",
        "      <td>             CMRTODAY</td>\n",
        "      <td>     CMRTODAY</td>\n",
        "    </tr>\n",
        "  </tbody>\n",
        "</table>\n",
        "</div>"
       ],
       "metadata": {},
       "output_type": "pyout",
       "prompt_number": 132,
       "text": [
        "                           created_at  favourites_count  followers_count  \\\n",
        "27     Thu Sep 22 01:51:40 +0000 2011             41987             4365   \n",
        "1263   Sat Jan 26 13:13:39 +0000 2008             57972            10888   \n",
        "9961   Tue Aug 12 12:44:42 +0000 2008                 4               39   \n",
        "10547  Fri Apr 03 16:54:48 +0000 2009              3084             1574   \n",
        "6709   Sat Nov 10 08:48:59 +0000 2012               313           125205   \n",
        "\n",
        "       friends_count lang  listed_count              location  statuses_count  \\\n",
        "27              4931   pt           111           Salvador BA          152791   \n",
        "1263            8431   en           184              Belgrade          155028   \n",
        "9961             515   en             2                                181010   \n",
        "10547           1120   pt           198           /home/logan          219431   \n",
        "6709          714314   en           702  Nashville, Tennessee          417581   \n",
        "\n",
        "      verified                                        description         id  \\\n",
        "27       False  Quanto mais nos elevamos, menores parecemos ao...  377749571   \n",
        "1263     False  Kompjuter biblioteka od 1986. \\r\\nKnjiga je kn...   12717572   \n",
        "9961     False                                                      15821693   \n",
        "10547    False  Cat person, software engineer, left-winged, vi...   28602779   \n",
        "6709     False  http://t.co/rKz3F3KC7k plays the best in indep...  938657858   \n",
        "\n",
        "                       name   screen_name  \n",
        "27               Tuly Costa  AdaByronKing  \n",
        "1263   Kompjuter biblioteka        kombib  \n",
        "9961                Patrick     ptrikpang  \n",
        "10547        Marx & Heggae.     ubuntroll  \n",
        "6709               CMRTODAY      CMRTODAY  "
       ]
      }
     ],
     "prompt_number": 132
    },
    {
     "cell_type": "heading",
     "level": 2,
     "metadata": {},
     "source": [
      "time_zone"
     ]
    },
    {
     "cell_type": "code",
     "collapsed": false,
     "input": [
      "sub_list = accounts_df.groupby('time_zone')['time_zone'].count()\n",
      "sub_list.sort()\n",
      "sub_list"
     ],
     "language": "python",
     "metadata": {},
     "outputs": [
      {
       "metadata": {},
       "output_type": "pyout",
       "prompt_number": 381,
       "text": [
        "time_zone\n",
        "Europe/Berlin           1\n",
        "Asia/Karachi            1\n",
        "CST                     1\n",
        "Asia/Shanghai           1\n",
        "Asia/Taipei             1\n",
        "Chihuahua               1\n",
        "PST                     1\n",
        "Pacific/Auckland        1\n",
        "Europe/Amsterdam        1\n",
        "Pacific/Port_Moresby    1\n",
        "GMT                     1\n",
        "Magadan                 1\n",
        "Fiji                    1\n",
        "Rangoon                 1\n",
        "Europe/Stockholm        1\n",
        "...\n",
        "Quito                         143\n",
        "Madrid                        167\n",
        "Tokyo                         169\n",
        "Kyiv                          176\n",
        "Athens                        206\n",
        "Paris                         207\n",
        "Beijing                       232\n",
        "Brasilia                      237\n",
        "Berlin                        238\n",
        "Moscow                        290\n",
        "Amsterdam                     306\n",
        "London                        434\n",
        "Central Time (US & Canada)    534\n",
        "Eastern Time (US & Canada)    811\n",
        "Pacific Time (US & Canada)    863\n",
        "Name: time_zone, Length: 172, dtype: int64"
       ]
      }
     ],
     "prompt_number": 381
    },
    {
     "cell_type": "code",
     "collapsed": false,
     "input": [
      "len(sub_list[sub_list>1])"
     ],
     "language": "python",
     "metadata": {},
     "outputs": [
      {
       "metadata": {},
       "output_type": "pyout",
       "prompt_number": 382,
       "text": [
        "141"
       ]
      }
     ],
     "prompt_number": 382
    },
    {
     "cell_type": "markdown",
     "metadata": {},
     "source": [
      "\u041d\u0435 \u0441\u043e\u0432\u0441\u0435\u043c \u0440\u0430\u0432\u043d\u043e\u043c\u0435\u0440\u043d\u043e... \u0418\u043d\u0442\u0435\u0440\u0435\u0441\u043d\u043e?"
     ]
    },
    {
     "cell_type": "heading",
     "level": 2,
     "metadata": {},
     "source": [
      "verified"
     ]
    },
    {
     "cell_type": "markdown",
     "metadata": {},
     "source": [
      "\u041f\u0440\u043e\u0446\u0435\u0434\u0443\u0440\u0430 \u043f\u0440\u043e\u0432\u0435\u0440\u043a\u0438 \u043f\u043e\u0437\u0432\u043e\u043b\u044f\u0435\u0442 \u0443\u0434\u043e\u0441\u0442\u043e\u0432\u0435\u0440\u0438\u0442\u044c \u043f\u043e\u0434\u043b\u0438\u043d\u043d\u043e\u0441\u0442\u044c \u043b\u0438\u0447\u043d\u043e\u0441\u0442\u0438 \u043a\u043b\u044e\u0447\u0435\u0432\u044b\u0445 \u043f\u043e\u043b\u044c\u0437\u043e\u0432\u0430\u0442\u0435\u043b\u0435\u0439 \u0438\u043b\u0438 \u043a\u043e\u043c\u043f\u0430\u043d\u0438\u0439, \u0432\u0435\u0434\u0443\u0449\u0438\u0445 \u043c\u0438\u043a\u0440\u043e\u0431\u043b\u043e\u0433\u0438 \u0432 \u0422\u0432\u0438\u0442\u0442\u0435\u0440\u0435."
     ]
    },
    {
     "cell_type": "markdown",
     "metadata": {},
     "source": [
      "\u0423\u0436\u0435 \u0437\u043d\u0430\u0447\u0438\u043c\u044b\u0435 \u043f\u043e\u043b\u044c\u0437\u043e\u0432\u0430\u0442\u0435\u043b\u0438?"
     ]
    },
    {
     "cell_type": "code",
     "collapsed": false,
     "input": [
      "sum(accounts_df['verified'])"
     ],
     "language": "python",
     "metadata": {},
     "outputs": [
      {
       "metadata": {},
       "output_type": "pyout",
       "prompt_number": 103,
       "text": [
        "1168"
       ]
      }
     ],
     "prompt_number": 103
    },
    {
     "cell_type": "code",
     "collapsed": false,
     "input": [
      "accounts_df[accounts_df['verified']][look_at].head()"
     ],
     "language": "python",
     "metadata": {},
     "outputs": [
      {
       "html": [
        "<div style=\"max-height:1000px;max-width:1500px;overflow:auto;\">\n",
        "<table border=\"1\" class=\"dataframe\">\n",
        "  <thead>\n",
        "    <tr style=\"text-align: right;\">\n",
        "      <th></th>\n",
        "      <th>created_at</th>\n",
        "      <th>favourites_count</th>\n",
        "      <th>followers_count</th>\n",
        "      <th>friends_count</th>\n",
        "      <th>lang</th>\n",
        "      <th>listed_count</th>\n",
        "      <th>location</th>\n",
        "      <th>statuses_count</th>\n",
        "      <th>verified</th>\n",
        "      <th>description</th>\n",
        "      <th>id</th>\n",
        "      <th>name</th>\n",
        "      <th>screen_name</th>\n",
        "    </tr>\n",
        "  </thead>\n",
        "  <tbody>\n",
        "    <tr>\n",
        "      <th>688 </th>\n",
        "      <td> Fri Mar 14 12:39:12 +0000 2008</td>\n",
        "      <td>   209</td>\n",
        "      <td>  38977</td>\n",
        "      <td>    28</td>\n",
        "      <td> en</td>\n",
        "      <td> 1029</td>\n",
        "      <td>       Worldwide</td>\n",
        "      <td>  4467</td>\n",
        "      <td> True</td>\n",
        "      <td> The World's Leading Vendor of Professional Dev...</td>\n",
        "      <td>  14146389</td>\n",
        "      <td>           JetBrains</td>\n",
        "      <td>       jetbrains</td>\n",
        "    </tr>\n",
        "    <tr>\n",
        "      <th>1100</th>\n",
        "      <td> Fri Mar 06 01:20:09 +0000 2009</td>\n",
        "      <td>  3213</td>\n",
        "      <td> 155810</td>\n",
        "      <td>  8471</td>\n",
        "      <td> en</td>\n",
        "      <td> 2632</td>\n",
        "      <td>                </td>\n",
        "      <td> 15283</td>\n",
        "      <td> True</td>\n",
        "      <td> A community of passionate individuals whose pu...</td>\n",
        "      <td>  23009949</td>\n",
        "      <td>        ThoughtWorks</td>\n",
        "      <td>    thoughtworks</td>\n",
        "    </tr>\n",
        "    <tr>\n",
        "      <th>1111</th>\n",
        "      <td> Thu Aug 25 15:56:11 +0000 2011</td>\n",
        "      <td>   161</td>\n",
        "      <td>   8716</td>\n",
        "      <td>  1981</td>\n",
        "      <td> en</td>\n",
        "      <td>  298</td>\n",
        "      <td>                </td>\n",
        "      <td>  1243</td>\n",
        "      <td> True</td>\n",
        "      <td> Official Twitter account for Spotify APIs. Hel...</td>\n",
        "      <td> 361943754</td>\n",
        "      <td>    Spotify Platform</td>\n",
        "      <td> SpotifyPlatform</td>\n",
        "    </tr>\n",
        "    <tr>\n",
        "      <th>1154</th>\n",
        "      <td> Tue Jul 10 04:48:29 +0000 2012</td>\n",
        "      <td>  4682</td>\n",
        "      <td>  42599</td>\n",
        "      <td> 25875</td>\n",
        "      <td> it</td>\n",
        "      <td>  230</td>\n",
        "      <td>       Bruxelles</td>\n",
        "      <td>  4872</td>\n",
        "      <td> True</td>\n",
        "      <td> Portavoce @M5S_Europa al Parlamento Europeo, c...</td>\n",
        "      <td> 631767111</td>\n",
        "      <td> Piernicola Pedicini</td>\n",
        "      <td>     PediciniM5S</td>\n",
        "    </tr>\n",
        "    <tr>\n",
        "      <th>1405</th>\n",
        "      <td> Thu Feb 12 15:06:13 +0000 2009</td>\n",
        "      <td> 17358</td>\n",
        "      <td>  62419</td>\n",
        "      <td>  1329</td>\n",
        "      <td> en</td>\n",
        "      <td>  887</td>\n",
        "      <td> Chapel Hill, NC</td>\n",
        "      <td> 15868</td>\n",
        "      <td> True</td>\n",
        "      <td> America\u2019s first public university, ranking amo...</td>\n",
        "      <td>  20683724</td>\n",
        "      <td>     UNC-Chapel Hill</td>\n",
        "      <td>             UNC</td>\n",
        "    </tr>\n",
        "  </tbody>\n",
        "</table>\n",
        "</div>"
       ],
       "metadata": {},
       "output_type": "pyout",
       "prompt_number": 20,
       "text": [
        "                          created_at  favourites_count  followers_count  \\\n",
        "688   Fri Mar 14 12:39:12 +0000 2008               209            38977   \n",
        "1100  Fri Mar 06 01:20:09 +0000 2009              3213           155810   \n",
        "1111  Thu Aug 25 15:56:11 +0000 2011               161             8716   \n",
        "1154  Tue Jul 10 04:48:29 +0000 2012              4682            42599   \n",
        "1405  Thu Feb 12 15:06:13 +0000 2009             17358            62419   \n",
        "\n",
        "      friends_count lang  listed_count         location  statuses_count  \\\n",
        "688              28   en          1029        Worldwide            4467   \n",
        "1100           8471   en          2632                            15283   \n",
        "1111           1981   en           298                             1243   \n",
        "1154          25875   it           230        Bruxelles            4872   \n",
        "1405           1329   en           887  Chapel Hill, NC           15868   \n",
        "\n",
        "     verified                                        description         id  \\\n",
        "688      True  The World's Leading Vendor of Professional Dev...   14146389   \n",
        "1100     True  A community of passionate individuals whose pu...   23009949   \n",
        "1111     True  Official Twitter account for Spotify APIs. Hel...  361943754   \n",
        "1154     True  Portavoce @M5S_Europa al Parlamento Europeo, c...  631767111   \n",
        "1405     True  America\u2019s first public university, ranking amo...   20683724   \n",
        "\n",
        "                     name      screen_name  \n",
        "688             JetBrains        jetbrains  \n",
        "1100         ThoughtWorks     thoughtworks  \n",
        "1111     Spotify Platform  SpotifyPlatform  \n",
        "1154  Piernicola Pedicini      PediciniM5S  \n",
        "1405      UNC-Chapel Hill              UNC  "
       ]
      }
     ],
     "prompt_number": 20
    },
    {
     "cell_type": "code",
     "collapsed": false,
     "input": [],
     "language": "python",
     "metadata": {},
     "outputs": []
    },
    {
     "cell_type": "code",
     "collapsed": false,
     "input": [
      "account_ids = set(accounts_df['id'])\n",
      "len(account_ids)"
     ],
     "language": "python",
     "metadata": {},
     "outputs": [
      {
       "metadata": {},
       "output_type": "pyout",
       "prompt_number": 21,
       "text": [
        "124888"
       ]
      }
     ],
     "prompt_number": 21
    },
    {
     "cell_type": "heading",
     "level": 2,
     "metadata": {},
     "source": [
      "Follows"
     ]
    },
    {
     "cell_type": "code",
     "collapsed": false,
     "input": [
      "#interesting_accounts = {7626052, 12861132, 14159138, 16067035, 17518751, 340394880, 1656046686, 2894675102, 2899022680, 2931191885, 3179083369, 3187132960, 4847340819}\n",
      "interesting_accounts = {4915391, 7626052, 12861132, 12953262, 14159138, 14667257, 15724999, 16067035, 17481836, 17518751, 28551915, 50703014, 178516755, 202671247, 228462983, 243588480, 340394880, 1656046686, 2894675102, 2899022680, 2900586401, 2931191885, 3044662659, 3179083369, 3187132960, 4847340819}\n",
      "fileName = \"C:/Users/dkorolev/Downloads/twitter-analysis_last_last/Follows.bson\"\n",
      "count = 0\n",
      "interesting_followers = {k:[] for k in interesting_accounts}\n",
      "with open_bson(fileName) as f:\n",
      "    for dict_data in f:\n",
      "        if count % 500000 == 0:\n",
      "            print(count)\n",
      "        count += 1\n",
      "        if dict_data['followee'] in interesting_followers:\n",
      "            interesting_followers[dict_data['followee']].append(dict_data['follower'])"
     ],
     "language": "python",
     "metadata": {},
     "outputs": [
      {
       "output_type": "stream",
       "stream": "stdout",
       "text": [
        "0\n",
        "500000"
       ]
      },
      {
       "output_type": "stream",
       "stream": "stdout",
       "text": [
        "\n",
        "1000000"
       ]
      },
      {
       "output_type": "stream",
       "stream": "stdout",
       "text": [
        "\n",
        "1500000"
       ]
      },
      {
       "output_type": "stream",
       "stream": "stdout",
       "text": [
        "\n",
        "2000000"
       ]
      },
      {
       "output_type": "stream",
       "stream": "stdout",
       "text": [
        "\n",
        "2500000"
       ]
      },
      {
       "output_type": "stream",
       "stream": "stdout",
       "text": [
        "\n",
        "3000000"
       ]
      },
      {
       "output_type": "stream",
       "stream": "stdout",
       "text": [
        "\n",
        "3500000"
       ]
      },
      {
       "output_type": "stream",
       "stream": "stdout",
       "text": [
        "\n",
        "4000000"
       ]
      },
      {
       "output_type": "stream",
       "stream": "stdout",
       "text": [
        "\n",
        "4500000"
       ]
      },
      {
       "output_type": "stream",
       "stream": "stdout",
       "text": [
        "\n"
       ]
      }
     ],
     "prompt_number": 79
    },
    {
     "cell_type": "code",
     "collapsed": false,
     "input": [
      "with open('interesting_followers_graph_2.txt', 'w') as f:\n",
      "    for k, v in interesting_followers.items():\n",
      "        f.write(str(k) + ':')\n",
      "        for i in v:\n",
      "            f.write(str(i) + ',')\n",
      "        f.write('\\n')"
     ],
     "language": "python",
     "metadata": {},
     "outputs": [],
     "prompt_number": 80
    },
    {
     "cell_type": "code",
     "collapsed": false,
     "input": [],
     "language": "python",
     "metadata": {},
     "outputs": []
    },
    {
     "cell_type": "code",
     "collapsed": false,
     "input": [
      "#interesting_followers"
     ],
     "language": "python",
     "metadata": {},
     "outputs": [],
     "prompt_number": 77
    },
    {
     "cell_type": "code",
     "collapsed": false,
     "input": [
      "fileName = \"C:/Users/dkorolev/Downloads/twitter-analysis_last_last/Follows.bson\"\n",
      "count = 0\n",
      "followers_set = set()\n",
      "followees_set = set()\n",
      "as_follower_count = Counter()\n",
      "as_followee_count = Counter()\n",
      "pycharm_as_follower = set()\n",
      "pycharm_as_followee = set()\n",
      "followers_map = dict()\n",
      "interesting_followers = {k:[] for k in interesting_accounts}\n",
      "with open_bson(fileName) as f:\n",
      "    for dict_data in f:\n",
      "        if count % 500000 == 0:\n",
      "            print(count)\n",
      "        count += 1\n",
      "        followers_set.add(dict_data['follower'])\n",
      "        followees_set.add(dict_data['followee'])\n",
      "        if dict_data['follower'] in account_ids:\n",
      "            as_follower_count[dict_data['follower']] += 1\n",
      "        if dict_data['followee'] in account_ids:\n",
      "            as_followee_count[dict_data['followee']] += 1\n",
      "        if dict_data['follower'] == 107032314:\n",
      "            pycharm_as_follower.add(dict_data['followee'])\n",
      "        if dict_data['followee'] == 107032314:\n",
      "            pycharm_as_followee.add(dict_data['follower'])\n",
      "        if dict_data['follower'] in interesting_followers:\n",
      "            interesting_followers[dict_data['follower']].append(dict_data['followee'])\n",
      "        if dict_data['followee'] in followers_map:\n",
      "            followers_map[dict_data['followee']].append(dict_data['follower'])\n",
      "        else:\n",
      "            followers_map[dict_data['followee']] = [dict_data['follower']]"
     ],
     "language": "python",
     "metadata": {},
     "outputs": []
    },
    {
     "cell_type": "code",
     "collapsed": false,
     "input": [
      "print('Total count:', count)\n",
      "print('Total count of all current followers of followers for Pycharm users:', accounts_df['followers_count'].sum())\n",
      "print('Unique followers:', len(followers_set))\n",
      "print('Unique followees:', len(followees_set))\n",
      "print('Number of followees from our set:', len(followees_set & account_ids))\n",
      "print('Number of followers from our set:', len(followers_set & account_ids))\n",
      "print('Number of followees from followers:', len(followers_set & followees_set))\n",
      "print('Pycharm as follower:', len(pycharm_as_follower))\n",
      "print('Pycharm as followee:', len(pycharm_as_followee))\n",
      "print('Pycharm as follower with gathered accounts:', len(pycharm_as_follower & account_ids))\n",
      "print('Pycharm as followee with gathered accounts:', len(pycharm_as_followee & account_ids))"
     ],
     "language": "python",
     "metadata": {},
     "outputs": [
      {
       "output_type": "stream",
       "stream": "stdout",
       "text": [
        "Total count: 4535826\n",
        "Total count of all current followers of followers for Pycharm users: 1300355240\n",
        "Unique followers: 4114874\n",
        "Unique followees: 939\n",
        "Number of followees from our set: 920\n",
        "Number of followers from our set:"
       ]
      },
      {
       "output_type": "stream",
       "stream": "stdout",
       "text": [
        " 124888\n",
        "Number of followees from followers: 939\n",
        "Pycharm as follower: 3\n",
        "Pycharm as followee: 12188\n",
        "Pycharm as follower with gathered accounts: 1\n",
        "Pycharm as followee with gathered accounts: 2270\n"
       ]
      }
     ],
     "prompt_number": 105
    },
    {
     "cell_type": "code",
     "collapsed": false,
     "input": [
      "sub_list = np.array([len(x) for x in followers_map.values()])\n",
      "sub_list = sub_list[sub_list < np.percentile(sub_list, 95)]\n",
      "a = plt.hist(sub_list)"
     ],
     "language": "python",
     "metadata": {},
     "outputs": [
      {
       "metadata": {},
       "output_type": "display_data",
       "png": "[encoded data removed]",
       "text": [
        "<matplotlib.figure.Figure at 0x5316ae48>"
       ]
      }
     ],
     "prompt_number": 107
    },
    {
     "cell_type": "code",
     "collapsed": false,
     "input": [
      "for k, v in followers_map.items():\n",
      "    print(k, len(v), accounts_df[accounts_df['id'] == k].iloc[0]['followers_count'], len(set(v)&second_level_sample))"
     ],
     "language": "python",
     "metadata": {},
     "outputs": [
      {
       "output_type": "stream",
       "stream": "stdout",
       "text": [
        "198600704 56 56 55\n",
        "704488902212452352 87 87 85\n",
        "716740125548523522 3 3 2\n",
        "3425933315 16 16 16\n",
        "14972933 114 116 114\n",
        "2323689473 432 431 430\n",
        "404572169 45 45 45\n",
        "15816720 34 34 34\n",
        "1300760594 9 9 9\n",
        "12953262 3984 3924 556\n",
        "1389492247 52 52 51\n",
        "123865113 239 239 239\n",
        "16076984 361 361 361\n",
        "1857447967 33 32 33\n",
        "70590497 16 16 16\n",
        "1954947108 5 5 5\n",
        "55240742 145 144 145\n",
        "2897205288 35 35 35\n",
        "406173737 30 30 30\n",
        "17033258 406 406 406\n",
        "14686254 149 149 149\n",
        "2455898161 30000 42689 592\n",
        "16805940 185 185 185\n",
        "3214669150 1 1 1\n",
        "89212985"
       ]
      },
      {
       "output_type": "stream",
       "stream": "stdout",
       "text": [
        " 155 154 154\n",
        "20736058 90 90 90\n",
        "211593275 138 138 138\n",
        "125825085 203 203 203\n",
        "16132160 326 326 326\n",
        "409743426 21 20 21\n",
        "127612995 57 57 57\n",
        "2567680068 16 16 16\n",
        "3021512778 10 9 10\n",
        "44294221 321 320 321\n",
        "270432334 36 36 36\n",
        "605568013 213 209 213\n",
        "21577810 135 135 134\n",
        "42209364 405 404 405\n",
        "162099285 2 2 2\n",
        "190988374 168 168 167\n",
        "43636825 262 267 261\n",
        "4520814682 117 117 115\n",
        "286822160 108 108 108\n",
        "17873253 200 200 200\n",
        "77162592 27 27 27\n",
        "18743312 110 110 110\n",
        "2801803365 66 66 66\n",
        "56154216 31 32 31\n",
        "69560425 119 118 119\n",
        "17481836 1097 1097 622\n",
        "50987124 11 11 11\n",
        "62859384 210 210 210\n",
        "138928251 97 97 97\n",
        "1363849340 221 221 219\n",
        "64151678 64 64 64\n",
        "2752520319"
       ]
      },
      {
       "output_type": "stream",
       "stream": "stdout",
       "text": [
        " 11 12 11\n",
        "285841537 72 72 72\n",
        "706579720809418752 1 1 1\n",
        "21201031 2990 2969 654\n",
        "163010696 51 51 51\n",
        "596476041 845 844 509\n",
        "2287779980 30 30 30\n",
        "64196750 233 233 233\n",
        "29596976 18 18 18\n",
        "4149809296 1 1 1\n",
        "238541848 1511 1509 219\n",
        "119634068 225 223 224\n",
        "94648686 61 61 61\n",
        "1223772313 7 7 7\n",
        "55191706 34 34 34\n",
        "970041499 304 304 302\n",
        "29071517 88 87 88\n",
        "17518751 18452 18474 502\n",
        "1335524720 4 4 4\n",
        "1322502306 9 9 9\n",
        "17688741 181 181 180\n",
        "3244810408 4 4 4\n",
        "3219773611 12 12 12\n",
        "16201074 1114 1114 589\n",
        "17266865 115 115 115\n",
        "11311282 87 87 87\n",
        "2573103284 21 21 21\n",
        "839588024 67 67 67\n",
        "378478777 1 1 1\n",
        "517855419"
       ]
      },
      {
       "output_type": "stream",
       "stream": "stdout",
       "text": [
        " 52 52 52\n",
        "14082236 244 244 241\n",
        "4915391 711 711 523\n",
        "26663104 13997 13998 574\n",
        "1545091267 19 19 19\n",
        "2904434885 16268 16269 387\n",
        "167747782 5 5 5\n",
        "15290567 7285 7274 924\n",
        "12861132 27118 27119 1352\n",
        "250273994 733 735 508\n",
        "177606859 217 217 217\n",
        "2415841484 66 68 65\n",
        "17151344"
       ]
      },
      {
       "output_type": "stream",
       "stream": "stdout",
       "text": [
        " 484917 484204 520\n",
        "32323795 30 30 30\n",
        "168653012 695 695 502\n",
        "179001558 42 42 42\n",
        "191000792 96 96 96\n",
        "870217945 28 28 28\n",
        "220547290 253 254 253\n",
        "25667803 94 94 94\n",
        "438546653 47 47 47\n",
        "31394014 26 26 26\n",
        "2343198944 5434 5207 773\n",
        "55064802 63 63 63\n",
        "2216331302 2 2 2\n",
        "25319749 99 99 99\n",
        "343914728 10 10 9\n",
        "532375536 65 65 65\n",
        "2773294012 465 465 464\n",
        "564125937 5 5 5\n",
        "1398046963 116 118 116\n",
        "753834229 1673 1671 551\n",
        "29290742 31 31 31\n",
        "45586680 135 135 135\n",
        "3098427092 4511 4383 646\n",
        "572293370 54 54 54\n",
        "3292631291 45 45 45\n",
        "13345022 210 208 210\n",
        "28527317 5 5 5\n",
        "592754944 690 690 517\n",
        "22736256 69 69 68\n",
        "2517094353 75 75 73\n",
        "716260048218038272 9 9 9\n",
        "188719368 4 4 4\n",
        "2284333321 30 30 30\n",
        "636406029"
       ]
      },
      {
       "output_type": "stream",
       "stream": "stdout",
       "text": [
        " 1 1 1\n",
        "115180931 23827 23795 1136\n",
        "59564078 32 32 32\n",
        "89557270 160 160 160\n",
        "2883055321 55 55 55\n",
        "2540300568 13 13 13\n",
        "4738076953 192 192 187\n",
        "415507297 124 124 124\n",
        "545208606 63 63 63\n",
        "203788575 110 110 110\n",
        "376000801 131 131 128\n",
        "196555908 31 31 31\n",
        "91994404 54 54 54\n",
        "1577072936 15 15 15\n",
        "41867148 101 102 100\n",
        "14852395 127 127 127\n",
        "298393901 214 214 214\n",
        "11737392 43 44 43\n",
        "2647562546 130 132 130\n",
        "14725428 509 509 500\n",
        "4502280501 5 5 5\n",
        "23667000 139 139 139\n",
        "218537012 32 32 32\n",
        "3109562683 20 20 20\n",
        "75249639 144 144 143\n",
        "23515458 459 459 453\n",
        "449665349 136 135 136\n",
        "19681606 188 187 188\n",
        "511433033 4 4 4\n",
        "4850253903 25 25 25\n",
        "15245643 226 226 226\n",
        "2812988130"
       ]
      },
      {
       "output_type": "stream",
       "stream": "stdout",
       "text": [
        " 200 200 200\n",
        "311228750 39 39 39\n",
        "1148000592 8 8 8\n",
        "15362387 466 466 466\n",
        "4436699307 23 23 23\n",
        "3500552534 1 1 1\n",
        "364552535 36 36 36\n",
        "14227855 5329 5314 475\n",
        "240658783 599 599 531\n",
        "342366562 9 9 9\n",
        "239153507 143 143 143\n",
        "15223141 183 183 183\n",
        "121373030 81 81 81\n",
        "280481169 127 125 127\n",
        "131879276 47 47 47\n",
        "2804775277 33 33 33\n",
        "15944046 581 580 502\n",
        "300755005 135 135 135\n",
        "17523056 15 15 15\n",
        "293036401 33 33 33\n",
        "302057875 508 508 499\n",
        "19417463 168 168 168\n",
        "24856952 88 87 88\n",
        "2573424020 34 34 34\n",
        "707570042 67 67 67\n",
        "823886689 324 324 324\n",
        "3258288514 3 3 3\n",
        "1969525124 98 98 97\n",
        "228462983"
       ]
      },
      {
       "output_type": "stream",
       "stream": "stdout",
       "text": [
        " 54960 54574 1995\n",
        "263240770 19 19 19\n",
        "201435535 116 116 116\n",
        "164727184 308 308 308\n",
        "40196497 165 165 165\n",
        "2863872403 1 1 1\n",
        "2739964308 38 38 38\n",
        "150438639 1191 1191 697\n",
        "3502733727 14 14 14\n",
        "142903712 4 4 4\n",
        "290024433 11 11 10\n",
        "84005284 115 115 115\n",
        "2313636262 121 120 121\n",
        "173394343 139 139 25\n",
        "15681960 167 168 166\n",
        "2570926508 61 61 61\n",
        "23654830 123 123 123\n",
        "41286065 161 161 161\n",
        "197327284 6 6 6\n",
        "2936975798 10 10 10\n",
        "198754719 271 266 271\n",
        "36366781 163 163 163\n",
        "2761142721 14 14 14\n",
        "14664132 182 182 182\n",
        "231139782 242 242 242\n",
        "15724999 506 506 500\n",
        "275155400 262 262 261\n",
        "4261226955 6 6 6\n",
        "2931191885"
       ]
      },
      {
       "output_type": "stream",
       "stream": "stdout",
       "text": [
        " 38438 38191 677\n",
        "11196882 125 125 125\n",
        "376928724 4 4 4\n",
        "628233977 8 7 8\n",
        "275132888 50 50 50\n",
        "15356377 131 131 131\n",
        "134165583 50 50 50\n",
        "130791162 80 80 80\n",
        "346470881 15 15 15\n",
        "285657572 77 77 77\n",
        "3210378321 18 18 18\n",
        "2712070632 162 162 162\n",
        "18917866 163 164 163\n",
        "377362923 11 11 11\n",
        "22258156 64 63 64\n",
        "1271710802 55 55 55\n",
        "3312531951 32 32 32\n",
        "1922634152 185 185 185\n",
        "204872181 63 63 63\n",
        "60072438 166 166 165\n",
        "128155049 223 223 222\n",
        "353169915 209 209 209\n",
        "7596542 2563 2563 659\n",
        "16067035 14105 14090 1509\n",
        "29842176 595 594 518\n",
        "3016196610 133 133 133\n",
        "323721732 3 3 3\n",
        "158845445 77 77 77\n",
        "33177600 56 56 56\n",
        "544306945 184 185 184\n",
        "2740147945"
       ]
      },
      {
       "output_type": "stream",
       "stream": "stdout",
       "text": [
        " 40308 39212 2835\n",
        "163578380 834 832 600\n",
        "3025996546 68 68 67\n",
        "15810307 8 8 8\n",
        "53397934 36 36 34\n",
        "43786776 160 160 160\n",
        "2737606746 74 74 74\n",
        "6799902 55 55 55\n",
        "14486047 282 282 280\n",
        "3187132960 456 456 454\n",
        "2963417633 17046 17044 745\n",
        "18437252 534 534 500\n",
        "14060077 30896 30861 77\n",
        "15917616 114 114 112\n",
        "163875377 259 260 259\n",
        "229208627 1 1 1\n",
        "183190068 10 10 10\n",
        "90204726 128 128 128\n",
        "805230144"
       ]
      },
      {
       "output_type": "stream",
       "stream": "stdout",
       "text": [
        " 2692231 2694741 1790\n",
        "26589753 145 145 145\n",
        "322638943 72 72 72\n",
        "919534141 72 72 72\n",
        "426531390 453 453 453\n",
        "122194496 24 24 24\n",
        "330930753 38 38 38\n",
        "2574606914 201 201 201\n",
        "15228683 55 55 55\n",
        "2822814279 12 12 12\n",
        "206629448 891 891 536\n",
        "2410685002 45 45 45\n",
        "9296462 440 440 438\n",
        "457347664 13 13 13\n",
        "2986475335 8 8 8\n",
        "896733780 41 41 41\n",
        "236108906 2 2 2\n",
        "1230533208 54 54 54\n",
        "1121876569 1 1 1\n"
       ]
      },
      {
       "ename": "IndexError",
       "evalue": "index 0 is out of bounds for axis 0 with size 0",
       "output_type": "pyerr",
       "traceback": [
        "\u001b[1;31m---------------------------------------------------------------------------\u001b[0m\n\u001b[1;31mIndexError\u001b[0m                                Traceback (most recent call last)",
        "\u001b[1;32m<ipython-input-106-4f07ef3baa65>\u001b[0m in \u001b[0;36m<module>\u001b[1;34m()\u001b[0m\n\u001b[0;32m      1\u001b[0m \u001b[1;32mfor\u001b[0m \u001b[0mk\u001b[0m\u001b[1;33m,\u001b[0m \u001b[0mv\u001b[0m \u001b[1;32min\u001b[0m \u001b[0mfollowers_map\u001b[0m\u001b[1;33m.\u001b[0m\u001b[0mitems\u001b[0m\u001b[1;33m(\u001b[0m\u001b[1;33m)\u001b[0m\u001b[1;33m:\u001b[0m\u001b[1;33m\u001b[0m\u001b[0m\n\u001b[1;32m----> 2\u001b[1;33m     \u001b[0mprint\u001b[0m\u001b[1;33m(\u001b[0m\u001b[0mk\u001b[0m\u001b[1;33m,\u001b[0m \u001b[0mlen\u001b[0m\u001b[1;33m(\u001b[0m\u001b[0mv\u001b[0m\u001b[1;33m)\u001b[0m\u001b[1;33m,\u001b[0m \u001b[0maccounts_df\u001b[0m\u001b[1;33m[\u001b[0m\u001b[0maccounts_df\u001b[0m\u001b[1;33m[\u001b[0m\u001b[1;34m'id'\u001b[0m\u001b[1;33m]\u001b[0m \u001b[1;33m==\u001b[0m \u001b[0mk\u001b[0m\u001b[1;33m]\u001b[0m\u001b[1;33m.\u001b[0m\u001b[0miloc\u001b[0m\u001b[1;33m[\u001b[0m\u001b[1;36m0\u001b[0m\u001b[1;33m]\u001b[0m\u001b[1;33m[\u001b[0m\u001b[1;34m'followers_count'\u001b[0m\u001b[1;33m]\u001b[0m\u001b[1;33m,\u001b[0m \u001b[0mlen\u001b[0m\u001b[1;33m(\u001b[0m\u001b[0mset\u001b[0m\u001b[1;33m(\u001b[0m\u001b[0mv\u001b[0m\u001b[1;33m)\u001b[0m\u001b[1;33m&\u001b[0m\u001b[0msecond_level_sample\u001b[0m\u001b[1;33m)\u001b[0m\u001b[1;33m)\u001b[0m\u001b[1;33m\u001b[0m\u001b[0m\n\u001b[0m",
        "\u001b[1;32mC:\\Anaconda\\envs\\py33\\lib\\site-packages\\pandas\\core\\indexing.py\u001b[0m in \u001b[0;36m__getitem__\u001b[1;34m(self, key)\u001b[0m\n\u001b[0;32m   1142\u001b[0m             \u001b[1;32mreturn\u001b[0m \u001b[0mself\u001b[0m\u001b[1;33m.\u001b[0m\u001b[0m_getitem_tuple\u001b[0m\u001b[1;33m(\u001b[0m\u001b[0mkey\u001b[0m\u001b[1;33m)\u001b[0m\u001b[1;33m\u001b[0m\u001b[0m\n\u001b[0;32m   1143\u001b[0m         \u001b[1;32melse\u001b[0m\u001b[1;33m:\u001b[0m\u001b[1;33m\u001b[0m\u001b[0m\n\u001b[1;32m-> 1144\u001b[1;33m             \u001b[1;32mreturn\u001b[0m \u001b[0mself\u001b[0m\u001b[1;33m.\u001b[0m\u001b[0m_getitem_axis\u001b[0m\u001b[1;33m(\u001b[0m\u001b[0mkey\u001b[0m\u001b[1;33m,\u001b[0m \u001b[0maxis\u001b[0m\u001b[1;33m=\u001b[0m\u001b[1;36m0\u001b[0m\u001b[1;33m)\u001b[0m\u001b[1;33m\u001b[0m\u001b[0m\n\u001b[0m\u001b[0;32m   1145\u001b[0m \u001b[1;33m\u001b[0m\u001b[0m\n\u001b[0;32m   1146\u001b[0m     \u001b[1;32mdef\u001b[0m \u001b[0m_getitem_axis\u001b[0m\u001b[1;33m(\u001b[0m\u001b[0mself\u001b[0m\u001b[1;33m,\u001b[0m \u001b[0mkey\u001b[0m\u001b[1;33m,\u001b[0m \u001b[0maxis\u001b[0m\u001b[1;33m=\u001b[0m\u001b[1;36m0\u001b[0m\u001b[1;33m,\u001b[0m \u001b[0mvalidate_iterable\u001b[0m\u001b[1;33m=\u001b[0m\u001b[1;32mFalse\u001b[0m\u001b[1;33m)\u001b[0m\u001b[1;33m:\u001b[0m\u001b[1;33m\u001b[0m\u001b[0m\n",
        "\u001b[1;32mC:\\Anaconda\\envs\\py33\\lib\\site-packages\\pandas\\core\\indexing.py\u001b[0m in \u001b[0;36m_getitem_axis\u001b[1;34m(self, key, axis, validate_iterable)\u001b[0m\n\u001b[0;32m   1415\u001b[0m                 \u001b[0mself\u001b[0m\u001b[1;33m.\u001b[0m\u001b[0m_is_valid_integer\u001b[0m\u001b[1;33m(\u001b[0m\u001b[0mkey\u001b[0m\u001b[1;33m,\u001b[0m \u001b[0maxis\u001b[0m\u001b[1;33m)\u001b[0m\u001b[1;33m\u001b[0m\u001b[0m\n\u001b[0;32m   1416\u001b[0m \u001b[1;33m\u001b[0m\u001b[0m\n\u001b[1;32m-> 1417\u001b[1;33m             \u001b[1;32mreturn\u001b[0m \u001b[0mself\u001b[0m\u001b[1;33m.\u001b[0m\u001b[0m_get_loc\u001b[0m\u001b[1;33m(\u001b[0m\u001b[0mkey\u001b[0m\u001b[1;33m,\u001b[0m \u001b[0maxis\u001b[0m\u001b[1;33m=\u001b[0m\u001b[0maxis\u001b[0m\u001b[1;33m)\u001b[0m\u001b[1;33m\u001b[0m\u001b[0m\n\u001b[0m\u001b[0;32m   1418\u001b[0m \u001b[1;33m\u001b[0m\u001b[0m\n\u001b[0;32m   1419\u001b[0m     \u001b[1;32mdef\u001b[0m \u001b[0m_convert_to_indexer\u001b[0m\u001b[1;33m(\u001b[0m\u001b[0mself\u001b[0m\u001b[1;33m,\u001b[0m \u001b[0mobj\u001b[0m\u001b[1;33m,\u001b[0m \u001b[0maxis\u001b[0m\u001b[1;33m=\u001b[0m\u001b[1;36m0\u001b[0m\u001b[1;33m,\u001b[0m \u001b[0mis_setter\u001b[0m\u001b[1;33m=\u001b[0m\u001b[1;32mFalse\u001b[0m\u001b[1;33m)\u001b[0m\u001b[1;33m:\u001b[0m\u001b[1;33m\u001b[0m\u001b[0m\n",
        "\u001b[1;32mC:\\Anaconda\\envs\\py33\\lib\\site-packages\\pandas\\core\\indexing.py\u001b[0m in \u001b[0;36m_get_loc\u001b[1;34m(self, key, axis)\u001b[0m\n\u001b[0;32m     88\u001b[0m \u001b[1;33m\u001b[0m\u001b[0m\n\u001b[0;32m     89\u001b[0m     \u001b[1;32mdef\u001b[0m \u001b[0m_get_loc\u001b[0m\u001b[1;33m(\u001b[0m\u001b[0mself\u001b[0m\u001b[1;33m,\u001b[0m \u001b[0mkey\u001b[0m\u001b[1;33m,\u001b[0m \u001b[0maxis\u001b[0m\u001b[1;33m=\u001b[0m\u001b[1;36m0\u001b[0m\u001b[1;33m)\u001b[0m\u001b[1;33m:\u001b[0m\u001b[1;33m\u001b[0m\u001b[0m\n\u001b[1;32m---> 90\u001b[1;33m         \u001b[1;32mreturn\u001b[0m \u001b[0mself\u001b[0m\u001b[1;33m.\u001b[0m\u001b[0mobj\u001b[0m\u001b[1;33m.\u001b[0m\u001b[0m_ixs\u001b[0m\u001b[1;33m(\u001b[0m\u001b[0mkey\u001b[0m\u001b[1;33m,\u001b[0m \u001b[0maxis\u001b[0m\u001b[1;33m=\u001b[0m\u001b[0maxis\u001b[0m\u001b[1;33m)\u001b[0m\u001b[1;33m\u001b[0m\u001b[0m\n\u001b[0m\u001b[0;32m     91\u001b[0m \u001b[1;33m\u001b[0m\u001b[0m\n\u001b[0;32m     92\u001b[0m     \u001b[1;32mdef\u001b[0m \u001b[0m_slice\u001b[0m\u001b[1;33m(\u001b[0m\u001b[0mself\u001b[0m\u001b[1;33m,\u001b[0m \u001b[0mobj\u001b[0m\u001b[1;33m,\u001b[0m \u001b[0maxis\u001b[0m\u001b[1;33m=\u001b[0m\u001b[1;36m0\u001b[0m\u001b[1;33m,\u001b[0m \u001b[0mtyp\u001b[0m\u001b[1;33m=\u001b[0m\u001b[1;32mNone\u001b[0m\u001b[1;33m)\u001b[0m\u001b[1;33m:\u001b[0m\u001b[1;33m\u001b[0m\u001b[0m\n",
        "\u001b[1;32mC:\\Anaconda\\envs\\py33\\lib\\site-packages\\pandas\\core\\frame.py\u001b[0m in \u001b[0;36m_ixs\u001b[1;34m(self, i, axis)\u001b[0m\n\u001b[0;32m   1600\u001b[0m                 \u001b[1;32mreturn\u001b[0m \u001b[0mself\u001b[0m\u001b[1;33m[\u001b[0m\u001b[0mi\u001b[0m\u001b[1;33m]\u001b[0m\u001b[1;33m\u001b[0m\u001b[0m\n\u001b[0;32m   1601\u001b[0m             \u001b[1;32melse\u001b[0m\u001b[1;33m:\u001b[0m\u001b[1;33m\u001b[0m\u001b[0m\n\u001b[1;32m-> 1602\u001b[1;33m                 \u001b[0mlabel\u001b[0m \u001b[1;33m=\u001b[0m \u001b[0mself\u001b[0m\u001b[1;33m.\u001b[0m\u001b[0mindex\u001b[0m\u001b[1;33m[\u001b[0m\u001b[0mi\u001b[0m\u001b[1;33m]\u001b[0m\u001b[1;33m\u001b[0m\u001b[0m\n\u001b[0m\u001b[0;32m   1603\u001b[0m                 \u001b[1;32mif\u001b[0m \u001b[0misinstance\u001b[0m\u001b[1;33m(\u001b[0m\u001b[0mlabel\u001b[0m\u001b[1;33m,\u001b[0m \u001b[0mIndex\u001b[0m\u001b[1;33m)\u001b[0m\u001b[1;33m:\u001b[0m\u001b[1;33m\u001b[0m\u001b[0m\n\u001b[0;32m   1604\u001b[0m                     \u001b[1;31m# a location index by definition\u001b[0m\u001b[1;33m\u001b[0m\u001b[1;33m\u001b[0m\u001b[0m\n",
        "\u001b[1;32mC:\\Anaconda\\envs\\py33\\lib\\site-packages\\pandas\\core\\index.py\u001b[0m in \u001b[0;36m__getitem__\u001b[1;34m(self, key)\u001b[0m\n\u001b[0;32m    722\u001b[0m         \u001b[0m__getitem__\u001b[0m \u001b[1;33m=\u001b[0m \u001b[0msuper\u001b[0m\u001b[1;33m(\u001b[0m\u001b[0mIndex\u001b[0m\u001b[1;33m,\u001b[0m \u001b[0mself\u001b[0m\u001b[1;33m)\u001b[0m\u001b[1;33m.\u001b[0m\u001b[0m__getitem__\u001b[0m\u001b[1;33m\u001b[0m\u001b[0m\n\u001b[0;32m    723\u001b[0m         \u001b[1;32mif\u001b[0m \u001b[0mnp\u001b[0m\u001b[1;33m.\u001b[0m\u001b[0misscalar\u001b[0m\u001b[1;33m(\u001b[0m\u001b[0mkey\u001b[0m\u001b[1;33m)\u001b[0m\u001b[1;33m:\u001b[0m\u001b[1;33m\u001b[0m\u001b[0m\n\u001b[1;32m--> 724\u001b[1;33m             \u001b[1;32mreturn\u001b[0m \u001b[0m__getitem__\u001b[0m\u001b[1;33m(\u001b[0m\u001b[0mkey\u001b[0m\u001b[1;33m)\u001b[0m\u001b[1;33m\u001b[0m\u001b[0m\n\u001b[0m\u001b[0;32m    725\u001b[0m \u001b[1;33m\u001b[0m\u001b[0m\n\u001b[0;32m    726\u001b[0m         \u001b[1;32mif\u001b[0m \u001b[0misinstance\u001b[0m\u001b[1;33m(\u001b[0m\u001b[0mkey\u001b[0m\u001b[1;33m,\u001b[0m \u001b[0mslice\u001b[0m\u001b[1;33m)\u001b[0m\u001b[1;33m:\u001b[0m\u001b[1;33m\u001b[0m\u001b[0m\n",
        "\u001b[1;31mIndexError\u001b[0m: index 0 is out of bounds for axis 0 with size 0"
       ]
      }
     ],
     "prompt_number": 106
    },
    {
     "cell_type": "code",
     "collapsed": false,
     "input": [
      "max([len(x) for x in followers_map.values()])"
     ],
     "language": "python",
     "metadata": {},
     "outputs": [
      {
       "metadata": {},
       "output_type": "pyout",
       "prompt_number": 108,
       "text": [
        "2692231"
       ]
      }
     ],
     "prompt_number": 108
    },
    {
     "cell_type": "code",
     "collapsed": false,
     "input": [
      "pycharm_id = 107032314\n",
      "first_level_sample = followees_set - set([pycharm_id])\n",
      "second_level_sample = account_ids - first_level_sample - set([pycharm_id])"
     ],
     "language": "python",
     "metadata": {},
     "outputs": [],
     "prompt_number": 109
    },
    {
     "cell_type": "code",
     "collapsed": false,
     "input": [
      "print(len(account_ids), len(first_level_sample), len(second_level_sample))"
     ],
     "language": "python",
     "metadata": {},
     "outputs": [
      {
       "output_type": "stream",
       "stream": "stdout",
       "text": [
        "124888 938 123968\n"
       ]
      }
     ],
     "prompt_number": 110
    },
    {
     "cell_type": "code",
     "collapsed": false,
     "input": [
      "len(pycharm_as_followee & account_ids)"
     ],
     "language": "python",
     "metadata": {},
     "outputs": [
      {
       "metadata": {},
       "output_type": "pyout",
       "prompt_number": 112,
       "text": [
        "2270"
       ]
      }
     ],
     "prompt_number": 112
    },
    {
     "cell_type": "code",
     "collapsed": false,
     "input": [
      "50703014 in first_level_sample"
     ],
     "language": "python",
     "metadata": {},
     "outputs": [
      {
       "metadata": {},
       "output_type": "pyout",
       "prompt_number": 120,
       "text": [
        "True"
       ]
      }
     ],
     "prompt_number": 120
    },
    {
     "cell_type": "code",
     "collapsed": false,
     "input": [
      "50703014 in account_ids"
     ],
     "language": "python",
     "metadata": {},
     "outputs": [
      {
       "ename": "NameError",
       "evalue": "name 'account_ids' is not defined",
       "output_type": "pyerr",
       "traceback": [
        "\u001b[1;31m---------------------------------------------------------------------------\u001b[0m\n\u001b[1;31mNameError\u001b[0m                                 Traceback (most recent call last)",
        "\u001b[1;32m<ipython-input-1-d14c1bb6c480>\u001b[0m in \u001b[0;36m<module>\u001b[1;34m()\u001b[0m\n\u001b[1;32m----> 1\u001b[1;33m \u001b[1;36m50703014\u001b[0m \u001b[1;32min\u001b[0m \u001b[0maccount_ids\u001b[0m\u001b[1;33m\u001b[0m\u001b[0m\n\u001b[0m",
        "\u001b[1;31mNameError\u001b[0m: name 'account_ids' is not defined"
       ]
      }
     ],
     "prompt_number": 1
    },
    {
     "cell_type": "code",
     "collapsed": false,
     "input": [],
     "language": "python",
     "metadata": {},
     "outputs": []
    },
    {
     "cell_type": "code",
     "collapsed": false,
     "input": [
      "with open('pycharm_as_followee.txt', 'wb') as f:\n",
      "    pickle.dump(pycharm_as_followee, f)"
     ],
     "language": "python",
     "metadata": {},
     "outputs": [],
     "prompt_number": 87
    },
    {
     "cell_type": "code",
     "collapsed": false,
     "input": [
      "with open('first_level_sample.txt', 'wb') as f:\n",
      "    pickle.dump(first_level_sample, f)"
     ],
     "language": "python",
     "metadata": {},
     "outputs": [],
     "prompt_number": 121
    },
    {
     "cell_type": "code",
     "collapsed": false,
     "input": [
      "np.savetxt(\"second_level_sample.txt\", list(second_level_sample))"
     ],
     "language": "python",
     "metadata": {},
     "outputs": [],
     "prompt_number": 78
    },
    {
     "cell_type": "code",
     "collapsed": false,
     "input": [
      "np.savetxt(\"account_ids.txt\", list(account_ids))"
     ],
     "language": "python",
     "metadata": {},
     "outputs": [],
     "prompt_number": 79
    },
    {
     "cell_type": "code",
     "collapsed": false,
     "input": [
      "import pickle"
     ],
     "language": "python",
     "metadata": {},
     "outputs": [],
     "prompt_number": 80
    },
    {
     "cell_type": "code",
     "collapsed": false,
     "input": [
      "with open('followers_map.txt', 'wb') as f:\n",
      "    pickle.dump(followers_map, f)"
     ],
     "language": "python",
     "metadata": {},
     "outputs": [],
     "prompt_number": 83
    },
    {
     "cell_type": "markdown",
     "metadata": {},
     "source": [
      "Unique followees > 1000. \u0417\u043d\u0430\u0447\u0438\u0442 \u043c\u044b \u0443\u0436\u0435 \u0441\u043e\u0431\u0438\u0440\u0430\u0435\u043c \u0432\u0442\u043e\u0440\u043e\u0439 \u0443\u0440\u043e\u0432\u0435\u043d\u044c. \u041d\u0435 \u043c\u043e\u0433\u0443 \u043f\u043e\u0434\u0442\u0432\u0435\u0440\u0434\u0438\u0442\u044c \u044d\u0442\u043e, \u043f\u043e\u043a\u0430 \u043d\u0435 \u043f\u043e\u043b\u0443\u0447\u0443 \u0441\u043f\u0438\u0441\u043e\u043a, \u043f\u043e \u043a\u043e\u0442\u043e\u0440\u043e\u043c\u0443 \u043c\u044b \u0441\u044d\u043c\u043f\u043b\u0438\u0440\u0443\u0435\u043c."
     ]
    },
    {
     "cell_type": "code",
     "collapsed": false,
     "input": [
      "accounts_df[accounts_df['id'] == list(pycharm_as_follower)[0]][look_at]"
     ],
     "language": "python",
     "metadata": {},
     "outputs": [
      {
       "html": [
        "<div style=\"max-height:1000px;max-width:1500px;overflow:auto;\">\n",
        "<table border=\"1\" class=\"dataframe\">\n",
        "  <thead>\n",
        "    <tr style=\"text-align: right;\">\n",
        "      <th></th>\n",
        "      <th>created_at</th>\n",
        "      <th>favourites_count</th>\n",
        "      <th>followers_count</th>\n",
        "      <th>friends_count</th>\n",
        "      <th>lang</th>\n",
        "      <th>listed_count</th>\n",
        "      <th>location</th>\n",
        "      <th>statuses_count</th>\n",
        "      <th>verified</th>\n",
        "      <th>description</th>\n",
        "      <th>id</th>\n",
        "      <th>name</th>\n",
        "      <th>screen_name</th>\n",
        "    </tr>\n",
        "  </thead>\n",
        "  <tbody>\n",
        "    <tr>\n",
        "      <th>129</th>\n",
        "      <td> Wed Mar 27 15:30:07 +0000 2013</td>\n",
        "      <td> 425</td>\n",
        "      <td> 8740</td>\n",
        "      <td> 14</td>\n",
        "      <td> en</td>\n",
        "      <td> 292</td>\n",
        "      <td> JetBrains s.r.o.</td>\n",
        "      <td> 4088</td>\n",
        "      <td> False</td>\n",
        "      <td> WebStorm is a lightweight and intelligent IDE ...</td>\n",
        "      <td> 1307796572</td>\n",
        "      <td> JetBrains WebStorm</td>\n",
        "      <td> WebStormIDE</td>\n",
        "    </tr>\n",
        "  </tbody>\n",
        "</table>\n",
        "</div>"
       ],
       "metadata": {},
       "output_type": "pyout",
       "prompt_number": 24,
       "text": [
        "                         created_at  favourites_count  followers_count  \\\n",
        "129  Wed Mar 27 15:30:07 +0000 2013               425             8740   \n",
        "\n",
        "     friends_count lang  listed_count          location  statuses_count  \\\n",
        "129             14   en           292  JetBrains s.r.o.            4088   \n",
        "\n",
        "    verified                                        description          id  \\\n",
        "129    False  WebStorm is a lightweight and intelligent IDE ...  1307796572   \n",
        "\n",
        "                   name  screen_name  \n",
        "129  JetBrains WebStorm  WebStormIDE  "
       ]
      }
     ],
     "prompt_number": 24
    },
    {
     "cell_type": "code",
     "collapsed": false,
     "input": [],
     "language": "python",
     "metadata": {},
     "outputs": []
    },
    {
     "cell_type": "code",
     "collapsed": false,
     "input": [
      "sub_list = np.array([x for x in as_followee_count.values()])\n",
      "sub_list = sub_list[sub_list < np.percentile(sub_list, 95)]\n",
      "plt.hist(sub_list)"
     ],
     "language": "python",
     "metadata": {},
     "outputs": [
      {
       "metadata": {},
       "output_type": "pyout",
       "prompt_number": 375,
       "text": [
        "(array([ 1208.,   357.,   236.,   141.,    87.,    65.,    58.,    28.,\n",
        "           21.,    15.]),\n",
        " array([   1. ,   88.6,  176.2,  263.8,  351.4,  439. ,  526.6,  614.2,\n",
        "         701.8,  789.4,  877. ]),\n",
        " <a list of 10 Patch objects>)"
       ]
      },
      {
       "metadata": {},
       "output_type": "display_data",
       "png": "[encoded data removed]",
       "text": [
        "<matplotlib.figure.Figure at 0x734fc1d0>"
       ]
      }
     ],
     "prompt_number": 375
    },
    {
     "cell_type": "code",
     "collapsed": false,
     "input": [
      "max(np.array([x for x in as_followee_count.values()]))"
     ],
     "language": "python",
     "metadata": {},
     "outputs": [
      {
       "metadata": {},
       "output_type": "pyout",
       "prompt_number": 395,
       "text": [
        "30246"
       ]
      }
     ],
     "prompt_number": 395
    },
    {
     "cell_type": "code",
     "collapsed": false,
     "input": [],
     "language": "python",
     "metadata": {},
     "outputs": [],
     "prompt_number": 366
    },
    {
     "cell_type": "code",
     "collapsed": false,
     "input": [],
     "language": "python",
     "metadata": {},
     "outputs": [],
     "prompt_number": 366
    },
    {
     "cell_type": "code",
     "collapsed": false,
     "input": [
      "#as_followee_count"
     ],
     "language": "python",
     "metadata": {},
     "outputs": [],
     "prompt_number": 358
    },
    {
     "cell_type": "code",
     "collapsed": false,
     "input": [
      "fig, axes = plt.subplots(nrows=1, ncols=2, sharex=True, sharey=True, figsize=(20, 5))\n",
      "sub_list = np.array([x for x in as_followee_count.values()])\n",
      "sub_list = sub_list[sub_list < np.percentile(sub_list, 95)]\n",
      "axes[0].hist(sub_list)\n",
      "axes[0].set_title('Follower links gathered')\n",
      "sub_list = accounts_df['followers_count'][accounts_df['followers_count'] < np.percentile(accounts_df['followers_count'], 95)]\n",
      "axes[1].hist(sub_list)\n",
      "axes[1].set_title('Follower links account described')"
     ],
     "language": "python",
     "metadata": {},
     "outputs": [
      {
       "metadata": {},
       "output_type": "pyout",
       "prompt_number": 25,
       "text": [
        "<matplotlib.text.Text at 0x29bfcac8>"
       ]
      },
      {
       "metadata": {},
       "output_type": "display_data",
       "png": "[encoded data removed]",
       "text": [
        "<matplotlib.figure.Figure at 0x28bb27f0>"
       ]
      }
     ],
     "prompt_number": 25
    },
    {
     "cell_type": "markdown",
     "metadata": {},
     "source": [
      "\u041f\u043e\u0445\u043e\u0436\u0435 \u043d\u0430 \u0434\u043e\u0441\u0442\u0430\u0442\u043e\u0447\u043d\u043e \u0440\u0430\u0432\u043d\u043e\u043c\u0435\u0440\u043d\u0443\u044e \u0432\u044b\u0431\u043e\u0440\u043a\u0443 (\u0441 \u0432\u044b\u0431\u0440\u043e\u0441\u0430\u043c\u0438? \u043d\u0435\u043c\u043d\u043e\u0433\u043e - \u0445\u0437 \u0445\u043e\u0440\u043e\u0448\u043e \u043b\u0438 \u044d\u0442\u043e)"
     ]
    },
    {
     "cell_type": "code",
     "collapsed": false,
     "input": [
      "sub_list = np.array([x for x in as_follower_count.values()])\n",
      "sub_list = sub_list[sub_list < np.percentile(sub_list, 95)]\n",
      "plt.hist(sub_list)\n",
      "plt.title('Our account as follower')"
     ],
     "language": "python",
     "metadata": {},
     "outputs": [
      {
       "metadata": {},
       "output_type": "pyout",
       "prompt_number": 26,
       "text": [
        "<matplotlib.text.Text at 0x29fca278>"
       ]
      },
      {
       "metadata": {},
       "output_type": "display_data",
       "png": "[encoded data removed]",
       "text": [
        "<matplotlib.figure.Figure at 0x28bb2f60>"
       ]
      }
     ],
     "prompt_number": 26
    },
    {
     "cell_type": "markdown",
     "metadata": {},
     "source": [
      "\u042d\u0442\u043e \u0433\u043e\u0432\u043e\u0440\u0438\u0442 \u043d\u0430\u043c \u043e \u0441\u043b\u0430\u0431\u043e\u0439 \u0441\u0432\u044f\u0437\u0430\u043d\u043d\u043e\u0441\u0442\u0438 \u0444\u043e\u043b\u043e\u0432\u0435\u0440\u043e\u0432 \u043d\u0430\u0448\u0435\u0439 \u0433\u0440\u0443\u043f\u043f\u044b"
     ]
    },
    {
     "cell_type": "heading",
     "level": 1,
     "metadata": {},
     "source": [
      "Friends"
     ]
    },
    {
     "cell_type": "code",
     "collapsed": false,
     "input": [
      "fileName = \"C:/Users/dkorolev/Downloads/twitter-analysis_last/twitter-analysis2/Friends.bson\"\n",
      "count = 0\n",
      "friends_followers_set = set()\n",
      "friends_followees_set = set()\n",
      "friends_as_follower_count = Counter()\n",
      "friends_as_followee_count = Counter()\n",
      "friends_as_pycharm_as_follower = set()\n",
      "friends_as_pycharm_as_followee = set()\n",
      "with open_bson(fileName) as f:\n",
      "    for dict_data in f:\n",
      "        if count % 500000 == 0:\n",
      "            print(count)\n",
      "        count += 1\n",
      "        friends_followers_set.add(dict_data['follower'])\n",
      "        friends_followees_set.add(dict_data['friend'])\n",
      "        if dict_data['follower'] in account_ids:\n",
      "            friends_as_follower_count[dict_data['follower']] += 1\n",
      "        if dict_data['friend'] in account_ids:\n",
      "            friends_as_followee_count[dict_data['friend']] += 1\n",
      "        if dict_data['follower'] == 107032314:\n",
      "            friends_as_pycharm_as_follower.add(dict_data['friend'])\n",
      "        if dict_data['friend'] == 107032314:\n",
      "            friends_as_pycharm_as_followee.add(dict_data['follower'])"
     ],
     "language": "python",
     "metadata": {},
     "outputs": [
      {
       "output_type": "stream",
       "stream": "stdout",
       "text": [
        "0\n",
        "500000"
       ]
      },
      {
       "output_type": "stream",
       "stream": "stdout",
       "text": [
        "\n"
       ]
      }
     ],
     "prompt_number": 27
    },
    {
     "cell_type": "code",
     "collapsed": false,
     "input": [
      "print('Total count:', count)\n",
      "print('Total count of all current friends of followers for Pycharm users:', accounts_df['friends_count'].sum())\n",
      "print('Unique followers:', len(friends_followers_set))\n",
      "print('Unique friends:', len(friends_followees_set))\n",
      "print('Number of friends from our set:', len(friends_followees_set & account_ids))\n",
      "print('Number of followers from our set:', len(friends_followers_set & account_ids))\n",
      "print('Number of friends from followers:', len(friends_followers_set & friends_followees_set))\n",
      "print('Pycharm as follower:', len(friends_as_pycharm_as_follower))\n",
      "print('Pycharm as friend:', len(friends_as_pycharm_as_followee))\n",
      "print('Pycharm as follower with gathered accounts:', len(friends_as_pycharm_as_follower & account_ids))\n",
      "print('Pycharm as friend with gathered accounts:', len(friends_as_pycharm_as_followee & account_ids))"
     ],
     "language": "python",
     "metadata": {},
     "outputs": [
      {
       "output_type": "stream",
       "stream": "stdout",
       "text": [
        "Total count: 621144\n",
        "Total count of all current friends of followers for Pycharm users: 660854267\n",
        "Unique followers: 917\n",
        "Unique friends: 295700\n",
        "Number of friends from our set:"
       ]
      },
      {
       "output_type": "stream",
       "stream": "stdout",
       "text": [
        " 54813\n",
        "Number of followers from our set: 917\n",
        "Number of friends from followers: 107\n",
        "Pycharm as follower: 0\n",
        "Pycharm as friend: 917\n",
        "Pycharm as follower with gathered accounts: 0\n",
        "Pycharm as friend with gathered accounts: 917\n"
       ]
      }
     ],
     "prompt_number": 28
    },
    {
     "cell_type": "markdown",
     "metadata": {},
     "source": [
      "\u041e\u043f\u044f\u0442\u044c \u0436\u0435 > 1000 \u043d\u0430\u043c \u043a\u0430\u043a \u0431\u044b \u0433\u043e\u0432\u043e\u0440\u0438\u0442, \u0447\u0442\u043e \u043c\u044b \u0432\u044b\u0448\u043b\u0438 \u043d\u0430 \u0432\u0442\u043e\u0440\u043e\u0439 \u0443\u0440\u043e\u0432\u0435\u043d\u044c \u0438\u043b\u0438 \u043c\u044b \u0441\u043b\u0438\u0448\u043a\u043e\u043c \u043c\u043d\u043e\u0433\u043e \u0441\u043e\u0431\u0438\u0440\u0430\u0435\u043c..."
     ]
    },
    {
     "cell_type": "code",
     "collapsed": false,
     "input": [
      "sub_list = np.array([x for x in friends_as_follower_count.values()])\n",
      "sub_list = sub_list[sub_list < np.percentile(sub_list, 95)]\n",
      "plt.hist(sub_list)"
     ],
     "language": "python",
     "metadata": {},
     "outputs": [
      {
       "metadata": {},
       "output_type": "pyout",
       "prompt_number": 288,
       "text": [
        "(array([ 1784.,   891.,   464.,   289.,   197.,   138.,   108.,    99.,\n",
        "           76.,    49.]),\n",
        " array([  1.00000000e+00,   1.90600000e+02,   3.80200000e+02,\n",
        "          5.69800000e+02,   7.59400000e+02,   9.49000000e+02,\n",
        "          1.13860000e+03,   1.32820000e+03,   1.51780000e+03,\n",
        "          1.70740000e+03,   1.89700000e+03]),\n",
        " <a list of 10 Patch objects>)"
       ]
      },
      {
       "metadata": {},
       "output_type": "display_data",
       "png": "[encoded data removed]",
       "text": [
        "<matplotlib.figure.Figure at 0x71841b38>"
       ]
      }
     ],
     "prompt_number": 288
    },
    {
     "cell_type": "code",
     "collapsed": false,
     "input": [
      "max(np.array([x for x in friends_as_follower_count.values()]))"
     ],
     "language": "python",
     "metadata": {},
     "outputs": [
      {
       "metadata": {},
       "output_type": "pyout",
       "prompt_number": 396,
       "text": [
        "54037"
       ]
      }
     ],
     "prompt_number": 396
    },
    {
     "cell_type": "code",
     "collapsed": false,
     "input": [],
     "language": "python",
     "metadata": {},
     "outputs": [],
     "prompt_number": 373
    },
    {
     "cell_type": "code",
     "collapsed": false,
     "input": [],
     "language": "python",
     "metadata": {},
     "outputs": [],
     "prompt_number": 373
    },
    {
     "cell_type": "code",
     "collapsed": false,
     "input": [
      "fig, axes = plt.subplots(nrows=1, ncols=2, sharex=True, sharey=True, figsize=(20, 5))\n",
      "sub_list = np.array([x for x in friends_as_follower_count.values()])\n",
      "sub_list = sub_list[sub_list < np.percentile(sub_list, 95)]\n",
      "axes[0].hist(sub_list)\n",
      "axes[0].set_title('Friends links gathered')\n",
      "sub_list = accounts_df['friends_count'][accounts_df['friends_count'] < np.percentile(accounts_df['friends_count'], 95)]\n",
      "axes[1].hist(sub_list)\n",
      "axes[1].set_title('Friends links account described')"
     ],
     "language": "python",
     "metadata": {},
     "outputs": [
      {
       "metadata": {},
       "output_type": "pyout",
       "prompt_number": 182,
       "text": [
        "<matplotlib.text.Text at 0x231e6860>"
       ]
      },
      {
       "metadata": {},
       "output_type": "display_data",
       "png": "[encoded data removed]",
       "text": [
        "<matplotlib.figure.Figure at 0x203dd8d0>"
       ]
      }
     ],
     "prompt_number": 182
    },
    {
     "cell_type": "markdown",
     "metadata": {},
     "source": [
      "\u041e\u043f\u044f\u0442\u044c-\u0442\u0430\u043a\u0438 \u0432\u0438\u0434\u0438\u043c \u0445\u043e\u0440\u043e\u0448\u0438\u0439 \u0441\u044d\u043c\u043f\u043b \u0441 \u0432\u044b\u0431\u0440\u043e\u0441\u044b\u043c\u0438"
     ]
    },
    {
     "cell_type": "code",
     "collapsed": false,
     "input": [
      "sub_list = np.array([x for x in friends_as_followee_count.values()])\n",
      "sub_list = sub_list[sub_list < np.percentile(sub_list, 95)]\n",
      "plt.hist(sub_list)\n",
      "plt.title('Our account as friend')"
     ],
     "language": "python",
     "metadata": {},
     "outputs": [
      {
       "metadata": {},
       "output_type": "pyout",
       "prompt_number": 183,
       "text": [
        "<matplotlib.text.Text at 0x23235320>"
       ]
      },
      {
       "metadata": {},
       "output_type": "display_data",
       "png": "[encoded data removed]",
       "text": [
        "<matplotlib.figure.Figure at 0x203ddba8>"
       ]
      }
     ],
     "prompt_number": 183
    },
    {
     "cell_type": "markdown",
     "metadata": {},
     "source": [
      "\u0417\u0434\u0435\u0441\u044c \u0432\u0438\u0434\u0438\u043c \u0447\u0443\u0442\u044c \u0431\u043e\u043b\u044c\u0448\u0443\u044e \u0441\u0432\u044f\u0437\u0430\u043d\u043d\u043e\u0441\u0442\u044c \u043d\u0430\u0448\u0438\u0445 \u043f\u043e\u043b\u044c\u0437\u043e\u0432\u0430\u0442\u0435\u043b\u0435\u0439... \u0412\u0438\u0434\u0438\u043c\u043e \u0434\u0430\u043c\u043f\u044b \u0431\u0430\u0437 \u0434\u0435\u043b\u0430\u043b\u0438\u0441\u044c \u0441 \u0431\u043e\u043b\u044c\u0448\u043e\u0439 \u0440\u0430\u0437\u043d\u0438\u0446\u0435\u0439 \u0432\u043e \u0432\u0440\u0435\u043c\u0435\u043d\u0438..."
     ]
    },
    {
     "cell_type": "heading",
     "level": 1,
     "metadata": {},
     "source": [
      "Timelines"
     ]
    },
    {
     "cell_type": "code",
     "collapsed": false,
     "input": [
      "fileName = \"C:/Users/dkorolev/Downloads/twitter-analysis_last/twitter-analysis2/Timelines.bson\"\n",
      "count = 0\n",
      "timelines = set()\n",
      "timelines_count = Counter()\n",
      "tweets_set = set()\n",
      "with open_bson(fileName) as f:\n",
      "    for dict_data in f:\n",
      "        count += 1\n",
      "        timelines.add(str(dict_data['_id']))\n",
      "        timelines_count[dict_data['_id']] += len(dict_data['tweets'])\n",
      "        for x in dict_data['tweets']:\n",
      "            tweets_set.add(str(x))"
     ],
     "language": "python",
     "metadata": {},
     "outputs": [],
     "prompt_number": 35
    },
    {
     "cell_type": "code",
     "collapsed": false,
     "input": [
      "print('Timelines count: ', count)\n",
      "print('Unique timelines count: ', len(timelines))\n",
      "print('Tweets count: ', sum(timelines_count.values()))\n",
      "print('Unique tweets count: ', len(tweets_set))"
     ],
     "language": "python",
     "metadata": {},
     "outputs": [
      {
       "output_type": "stream",
       "stream": "stdout",
       "text": [
        "Timelines count:  2401622\n",
        "Unique timelines count:  104286\n",
        "Tweets count:  4062937\n",
        "Unique tweets count:  4062937\n"
       ]
      }
     ],
     "prompt_number": 38
    },
    {
     "cell_type": "code",
     "collapsed": false,
     "input": [
      "print('Timelines in out accounts:', sum([len(x) for x in acc_timelines]))"
     ],
     "language": "python",
     "metadata": {},
     "outputs": [
      {
       "output_type": "stream",
       "stream": "stdout",
       "text": [
        "Timelines in out accounts: 104204\n"
       ]
      }
     ],
     "prompt_number": 39
    },
    {
     "cell_type": "code",
     "collapsed": false,
     "input": [
      "acc_timelines_set = set([str(x) for xs in acc_timelines for x in xs ])"
     ],
     "language": "python",
     "metadata": {},
     "outputs": [],
     "prompt_number": 40
    },
    {
     "cell_type": "code",
     "collapsed": false,
     "input": [
      "print('Our timelines count: ', len(timelines & acc_timelines_set))"
     ],
     "language": "python",
     "metadata": {},
     "outputs": [
      {
       "output_type": "stream",
       "stream": "stdout",
       "text": [
        "Our timelines count:  104204\n"
       ]
      }
     ],
     "prompt_number": 41
    },
    {
     "cell_type": "code",
     "collapsed": false,
     "input": [
      "sub_list = np.array([x for x in timelines_count.values()])\n",
      "sub_list = sub_list[sub_list < np.percentile(sub_list, 95)]\n",
      "a = plt.hist(sub_list)"
     ],
     "language": "python",
     "metadata": {},
     "outputs": [
      {
       "metadata": {},
       "output_type": "display_data",
       "png": "[encoded data removed]",
       "text": [
        "<matplotlib.figure.Figure at 0x29c94e80>"
       ]
      }
     ],
     "prompt_number": 42
    },
    {
     "cell_type": "code",
     "collapsed": false,
     "input": [
      "max(np.array([x for x in timelines_count.values()]))"
     ],
     "language": "python",
     "metadata": {},
     "outputs": [
      {
       "metadata": {},
       "output_type": "pyout",
       "prompt_number": 43,
       "text": [
        "3250"
       ]
      }
     ],
     "prompt_number": 43
    },
    {
     "cell_type": "markdown",
     "metadata": {},
     "source": [
      "\u0421\u0442\u0440\u0430\u043d\u043d\u043e..."
     ]
    },
    {
     "cell_type": "code",
     "collapsed": false,
     "input": [
      "timelines_count.most_common(10)"
     ],
     "language": "python",
     "metadata": {},
     "outputs": [
      {
       "metadata": {},
       "output_type": "pyout",
       "prompt_number": 44,
       "text": [
        "[(ObjectId('570e101220741f0cfa7707df'), 3250),\n",
        " (ObjectId('570e180c20741f0cfa7944fc'), 3246),\n",
        " (ObjectId('570dffa420741f0cfa720eb1'), 3245),\n",
        " (ObjectId('570e12ab20741f0cfa77c81f'), 3242),\n",
        " (ObjectId('570e144020741f0cfa783a72'), 3239),\n",
        " (ObjectId('570e1d9c20741f0cfa7af25c'), 3235),\n",
        " (ObjectId('570e1a0420741f0cfa79ec2b'), 3233),\n",
        " (ObjectId('570e04a320741f0cfa738fe5'), 3232),\n",
        " (ObjectId('570e24eb20741f0cfa7d1393'), 3228),\n",
        " (ObjectId('570e132b20741f0cfa77eafe'), 3228)]"
       ]
      }
     ],
     "prompt_number": 44
    },
    {
     "cell_type": "markdown",
     "metadata": {},
     "source": [
      "\u0412\u0441\u043f\u043b\u0435\u0441\u043a \u043d\u0430 \u043a\u043e\u043d\u0446\u0435 \u043e\u0431\u043e\u0441\u043d\u043e\u0432\u044b\u0432\u0430\u0435\u0442\u0441\u044f \u043b\u0438\u043c\u0438\u0442\u0430\u043c\u0438 \u0430\u043f\u0438 \u0442\u0432\u0438\u0442\u0442\u0435\u0440\u0430. \u0418\u043c\u0435\u0435\u0442 \u0441\u043c\u044b\u0441\u043b \u0431\u0440\u0430\u0442\u044c \u043e\u043f\u0440\u0435\u0434\u0435\u043b\u0435\u043d\u043d\u043e\u0435 \u043a\u043e\u043b\u0438\u0447\u0435\u0441\u0442\u0432\u043e \u0442\u0432\u0438\u0442\u043e\u0432 \u0434\u043b\u044f \u0441\u043e\u0441\u0442\u0430\u0432\u043b\u0435\u043d\u0438\u044f \u043f\u0440\u043e\u0444\u0438\u043b\u044f?"
     ]
    },
    {
     "cell_type": "code",
     "collapsed": false,
     "input": [
      "fig, axes = plt.subplots(nrows=1, ncols=2, sharex=True, sharey=True, figsize=(20, 5))\n",
      "sub_list = np.array([x for x in timelines_count.values()])\n",
      "sub_list = sub_list[sub_list < np.percentile(sub_list, 95)]\n",
      "axes[0].hist(sub_list)\n",
      "axes[0].set_title('Tweets gathered')\n",
      "sub_list = accounts_df['statuses_count'][accounts_df['statuses_count'] < np.percentile(accounts_df['statuses_count'], 95)]\n",
      "axes[1].hist(sub_list)\n",
      "axes[1].set_title('Tweets account described')"
     ],
     "language": "python",
     "metadata": {},
     "outputs": [
      {
       "metadata": {},
       "output_type": "pyout",
       "prompt_number": 45,
       "text": [
        "<matplotlib.text.Text at 0x28c9f0f0>"
       ]
      },
      {
       "metadata": {},
       "output_type": "display_data",
       "png": "[encoded data removed]",
       "text": [
        "<matplotlib.figure.Figure at 0x28da2390>"
       ]
      }
     ],
     "prompt_number": 45
    },
    {
     "cell_type": "markdown",
     "metadata": {},
     "source": [
      "\u0420\u0430\u0432\u043d\u043e\u043c\u0435\u0440\u043d\u043e, \u043b\u043e\u0433\u0438\u0447\u043d\u043e"
     ]
    },
    {
     "cell_type": "code",
     "collapsed": false,
     "input": [
      "tweets_counts = np.array([x for x in timelines_count.values()])\n",
      "len(tweets_counts[tweets_counts == 3500])"
     ],
     "language": "python",
     "metadata": {},
     "outputs": [
      {
       "metadata": {},
       "output_type": "pyout",
       "prompt_number": 46,
       "text": [
        "0"
       ]
      }
     ],
     "prompt_number": 46
    },
    {
     "cell_type": "markdown",
     "metadata": {},
     "source": [
      "\u0421\u0442\u0440\u0430\u043d\u043d\u043e, \u0447\u0442\u043e \u0430\u043d\u043e\u043c\u0430\u043b\u0438\u044f \u043d\u0435 \u043d\u0430 3500..."
     ]
    },
    {
     "cell_type": "code",
     "collapsed": false,
     "input": [
      "tweets_counts = np.array([x for x in timelines_count.values()])\n",
      "tweets_counts = tweets_counts[tweets_counts >= 3000]\n",
      "tweets_counts = tweets_counts[tweets_counts <= 3500]\n",
      "len(tweets_counts)"
     ],
     "language": "python",
     "metadata": {},
     "outputs": [
      {
       "metadata": {},
       "output_type": "pyout",
       "prompt_number": 47,
       "text": [
        "111"
       ]
      }
     ],
     "prompt_number": 47
    },
    {
     "cell_type": "code",
     "collapsed": false,
     "input": [
      "tweets_counts = np.array([x for x in accounts_df['statuses_count']])\n",
      "tweets_counts = tweets_counts[tweets_counts >= 3000]\n",
      "tweets_counts = tweets_counts[tweets_counts <= 3500]\n",
      "len(tweets_counts)"
     ],
     "language": "python",
     "metadata": {},
     "outputs": [
      {
       "metadata": {},
       "output_type": "pyout",
       "prompt_number": 245,
       "text": [
        "211"
       ]
      }
     ],
     "prompt_number": 245
    },
    {
     "cell_type": "code",
     "collapsed": false,
     "input": [
      "accounts_df['timeline_id'] = [str(x[0]) if x else '' for x in acc_timelines]"
     ],
     "language": "python",
     "metadata": {},
     "outputs": [],
     "prompt_number": 282
    },
    {
     "cell_type": "code",
     "collapsed": false,
     "input": [
      "account_ids_gathered = {str(k) for k, v in timelines_count.items()}\n",
      "tweets_counts = accounts_df\n",
      "account_ids_in_acc = {x for x in tweets_counts['timeline_id']}\n",
      "print('Account timelines gathered:', len(account_ids_gathered))\n",
      "print('Account timelines in accs:', len(account_ids_in_acc))\n",
      "print('Account timelines intersaction:', len(account_ids_gathered & account_ids_in_acc))"
     ],
     "language": "python",
     "metadata": {},
     "outputs": [
      {
       "output_type": "stream",
       "stream": "stdout",
       "text": [
        "Account timelines gathered: 6332\n",
        "Account timelines in accs: 6322\n",
        "Account timelines intersaction: 6321\n"
       ]
      }
     ],
     "prompt_number": 283
    },
    {
     "cell_type": "code",
     "collapsed": false,
     "input": [
      "account_ids_3000_3500_gathered = {str(k) for k, v in filter(lambda x: x[1] >= 3000 and x[1] <= 3500, timelines_count.items())}\n",
      "tweets_counts = accounts_df\n",
      "tweets_counts = tweets_counts[tweets_counts['statuses_count'] >= 3000]\n",
      "tweets_counts = tweets_counts[tweets_counts['statuses_count'] <= 3500]\n",
      "account_ids_3000_3500_in_acc = {x for x in tweets_counts['timeline_id']}\n",
      "print('3000 <= x <= 3500')\n",
      "print('Account timelines gathered:', len(account_ids_3000_3500_gathered))\n",
      "print('Account timelines in accs:', len(account_ids_3000_3500_in_acc))\n",
      "print('Account timelines intersaction:', len(account_ids_3000_3500_gathered & account_ids_3000_3500_in_acc))"
     ],
     "language": "python",
     "metadata": {},
     "outputs": [
      {
       "output_type": "stream",
       "stream": "stdout",
       "text": [
        "3000 <= x <= 3500\n",
        "Account timelines gathered: 813\n",
        "Account timelines in accs: 121\n",
        "Account timelines intersaction: 109\n"
       ]
      }
     ],
     "prompt_number": 281
    },
    {
     "cell_type": "code",
     "collapsed": false,
     "input": [],
     "language": "python",
     "metadata": {},
     "outputs": [],
     "prompt_number": 281
    },
    {
     "cell_type": "code",
     "collapsed": false,
     "input": [
      "acc_should_be_less = np.array([x for x in (account_ids_3000_3500_gathered - account_ids_3000_3500_in_acc)])"
     ],
     "language": "python",
     "metadata": {},
     "outputs": [],
     "prompt_number": 271
    },
    {
     "cell_type": "code",
     "collapsed": false,
     "input": [
      "acc_0 = acc_should_be_less[0]\n",
      "accounts_df[accounts_df['timeline_id'] == acc_0][look_at]"
     ],
     "language": "python",
     "metadata": {},
     "outputs": [
      {
       "html": [
        "<div style=\"max-height:1000px;max-width:1500px;overflow:auto;\">\n",
        "<table border=\"1\" class=\"dataframe\">\n",
        "  <thead>\n",
        "    <tr style=\"text-align: right;\">\n",
        "      <th></th>\n",
        "      <th>created_at</th>\n",
        "      <th>favourites_count</th>\n",
        "      <th>followers_count</th>\n",
        "      <th>friends_count</th>\n",
        "      <th>lang</th>\n",
        "      <th>listed_count</th>\n",
        "      <th>location</th>\n",
        "      <th>statuses_count</th>\n",
        "      <th>verified</th>\n",
        "      <th>description</th>\n",
        "      <th>id</th>\n",
        "      <th>name</th>\n",
        "      <th>screen_name</th>\n",
        "    </tr>\n",
        "  </thead>\n",
        "  <tbody>\n",
        "    <tr>\n",
        "      <th>8986</th>\n",
        "      <td> Mon May 19 18:14:25 +0000 2008</td>\n",
        "      <td> 11003</td>\n",
        "      <td> 10011</td>\n",
        "      <td> 948</td>\n",
        "      <td> en</td>\n",
        "      <td> 716</td>\n",
        "      <td> Los Angeles, CA</td>\n",
        "      <td> 38184</td>\n",
        "      <td> False</td>\n",
        "      <td> Co-Author of Two Scoops of Django, open source...</td>\n",
        "      <td> 14835908</td>\n",
        "      <td> Daniel Roy Greenfeld</td>\n",
        "      <td> pydanny</td>\n",
        "    </tr>\n",
        "  </tbody>\n",
        "</table>\n",
        "</div>"
       ],
       "metadata": {},
       "output_type": "pyout",
       "prompt_number": 280,
       "text": [
        "                          created_at  favourites_count  followers_count  \\\n",
        "8986  Mon May 19 18:14:25 +0000 2008             11003            10011   \n",
        "\n",
        "      friends_count lang  listed_count         location  statuses_count  \\\n",
        "8986            948   en           716  Los Angeles, CA           38184   \n",
        "\n",
        "     verified                                        description        id  \\\n",
        "8986    False  Co-Author of Two Scoops of Django, open source...  14835908   \n",
        "\n",
        "                      name screen_name  \n",
        "8986  Daniel Roy Greenfeld     pydanny  "
       ]
      }
     ],
     "prompt_number": 280
    },
    {
     "cell_type": "code",
     "collapsed": false,
     "input": [
      "#acc_should_be_less"
     ],
     "language": "python",
     "metadata": {},
     "outputs": [],
     "prompt_number": 284
    },
    {
     "cell_type": "code",
     "collapsed": false,
     "input": [],
     "language": "python",
     "metadata": {},
     "outputs": [],
     "prompt_number": 284
    },
    {
     "cell_type": "code",
     "collapsed": false,
     "input": [],
     "language": "python",
     "metadata": {},
     "outputs": [],
     "prompt_number": 284
    },
    {
     "cell_type": "code",
     "collapsed": false,
     "input": [],
     "language": "python",
     "metadata": {},
     "outputs": [],
     "prompt_number": 284
    },
    {
     "cell_type": "code",
     "collapsed": false,
     "input": [],
     "language": "python",
     "metadata": {},
     "outputs": [],
     "prompt_number": 284
    },
    {
     "cell_type": "code",
     "collapsed": false,
     "input": [
      "last tweeted"
     ],
     "language": "python",
     "metadata": {},
     "outputs": [],
     "prompt_number": 284
    },
    {
     "cell_type": "heading",
     "level": 1,
     "metadata": {},
     "source": [
      "Tweets"
     ]
    },
    {
     "cell_type": "code",
     "collapsed": false,
     "input": [],
     "language": "python",
     "metadata": {},
     "outputs": [],
     "prompt_number": 285
    },
    {
     "cell_type": "raw",
     "metadata": {},
     "source": [
      "{'tweet_id': 707793160253083649, \n",
      "'_id': ObjectId('56ead02320741f4068cfca2a'), \n",
      "'tweet_object': \n",
      "\t{'in_reply_to_status_id': None, \n",
      "\t'in_reply_to_screen_name': None, \n",
      "\t'id_str': '707793160253083649', \n",
      "\t'entities': \n",
      "\t\t{'symbols': [], \n",
      "\t\t'user_mentions': \n",
      "\t\t\t[{'indices': [10, 19], \n",
      "\t\t\t'screen_name': 'overleaf', \n",
      "\t\t\t'id': 854581958, \n",
      "\t\t\t'name': 'Overleaf', \n",
      "\t\t\t'id_str': '854581958'}], \n",
      "\t\t'hashtags': [], \n",
      "\t\t'urls': \n",
      "\t\t\t[{'url': 'https://t.co/w2X7lj6hJQ', \n",
      "\t\t\t'indices': [96, 119], \n",
      "\t\t\t'expanded_url': 'https://www.overleaf.com/signup?ref=637af14dd7b1', '\n",
      "\t\t\tdisplay_url': 'overleaf.com/signup?ref=637\u2026'}]}, \n",
      "\t'retweet_count': 0, \n",
      "\t'geo': None, \n",
      "\t'in_reply_to_user_id_str': None, \n",
      "\t'favorited': False, \n",
      "\t'possibly_sensitive': False, \n",
      "\t'contributors': None, \n",
      "\t'source': '<a href=\"http://twitter.com\" rel=\"nofollow\">Twitter Web Client</a>', \n",
      "\t'retweeted': False, \n",
      "\t'user': \n",
      "\t\t{'name': 'Mingdong Luo', \n",
      "\t\t'id_str': '2279253800', \n",
      "\t\t'profile_background_color': 'C0DEED', \n",
      "\t\t'entities': \n",
      "\t\t\t{'url': \n",
      "\t\t\t\t{'urls': \n",
      "\t\t\t\t\t[{'url': 'https://t.co/xMyC0H8b9D', \n",
      "\t\t\t\t\t'indices': [0, 23], \n",
      "\t\t\t\t\t'expanded_url': 'https://github.com/mdluo', \n",
      "\t\t\t\t\t'display_url': 'github.com/mdluo'}]}, \n",
      "\t\t\t\t'description': {'urls': []}}, \n",
      "\t\t'following': False, \n",
      "\t\t'default_profile': True, \n",
      "\t\t'url': 'https://t.co/xMyC0H8b9D', \n",
      "\t\t'profile_background_tile': False, \n",
      "\t\t'protected': False, \n",
      "\t\t'favourites_count': 0, \n",
      "\t\t'follow_request_sent': False, \n",
      "\t\t'has_extended_profile': False, \n",
      "\t\t'profile_use_background_image': True, \n",
      "\t\t'profile_image_url_https': 'https://pbs.twimg.com/profile_images/703057261074120704/xo-3spVn_normal.jpg', \n",
      "\t\t'profile_sidebar_fill_color': 'DDEEF6', \n",
      "\t\t'friends_count': 242, \n",
      "\t\t'location': 'Chengdu, China', \n",
      "\t\t'profile_text_color': '333333', \n",
      "\t\t'followers_count': 20, \n",
      "\t\t'profile_sidebar_border_color': 'C0DEED', \n",
      "\t\t'default_profile_image': False, \n",
      "\t\t'time_zone': 'Beijing', \n",
      "\t\t'geo_enabled': False, \n",
      "\t\t'profile_link_color': '0084B4', \n",
      "\t\t'profile_background_image_url_https': 'https://abs.twimg.com/images/themes/theme1/bg.png', \n",
      "\t\t'is_translator': False, \n",
      "\t\t'profile_banner_url': 'https://pbs.twimg.com/profile_banners/2279253800/1456456888', \n",
      "\t\t'id': 2279253800, \n",
      "\t\t'profile_background_image_url': 'http://abs.twimg.com/images/themes/theme1/bg.png', \n",
      "\t\t'listed_count': 1, \n",
      "\t\t'is_translation_enabled': False, \n",
      "\t\t'lang': 'en', \n",
      "\t\t'utc_offset': 28800, \n",
      "\t\t'verified': False, \n",
      "\t\t'description': '', \n",
      "\t\t'statuses_count': 1, \n",
      "\t\t'created_at': 'Mon Jan 06 15:46:18 +0000 2014', \n",
      "\t\t'notifications': False, \n",
      "\t\t'contributors_enabled': False, \n",
      "\t\t'profile_image_url': 'http://pbs.twimg.com/profile_images/703057261074120704/xo-3spVn_normal.jpg', \n",
      "\t\t'screen_name': 'mdluo'}, \n",
      "\t'place': None, \n",
      "\t'is_quote_status': False, \n",
      "\t'in_reply_to_status_id_str': None, \n",
      "\t'in_reply_to_user_id': None, \n",
      "\t'id': 707793160253083649, \n",
      "\t'favorite_count': 2, \n",
      "\t'lang': 'en', \n",
      "\t'truncated': False, \n",
      "\t'text': \"I'm using @overleaf, the free online collaborative LaTeX editor - it's awesome and easy to use! https://t.co/w2X7lj6hJQ\", \n",
      "\t'created_at': 'Thu Mar 10 05:00:14 +0000 2016', \n",
      "\t'coordinates': None}, \n",
      "'ts': 1458229283}"
     ]
    },
    {
     "cell_type": "raw",
     "metadata": {},
     "source": [
      "tweet_object -> entities -> user_mentions -> [id]\n",
      "                            urls -> [expanded_url]\n",
      "                            hashtags -> []\n",
      "                            symbols -> []\n",
      "                retweet_count\n",
      "                retweeted\n",
      "                in_reply_to_user_id\n",
      "                favorite_count\n",
      "                lang\n",
      "                text\n",
      "                created_at"
     ]
    },
    {
     "cell_type": "code",
     "collapsed": false,
     "input": [
      "fileName = \"C:/Users/dkorolev/Downloads/twitter-analysis_last_last/Tweets.bson\"\n",
      "count = 0\n",
      "count_no_tweet = 0\n",
      "has_user_mentions_count = 0\n",
      "has_urls_count = 0\n",
      "has_more_one_urls_count = 0\n",
      "https_urls = 0\n",
      "bitly_urls = 0\n",
      "googl_urls = 0\n",
      "has_hashtags_count = 0\n",
      "has_symbols_count = 0\n",
      "users = Counter()\n",
      "users_in_month = Counter()\n",
      "retweet_count_greater_zero = 0\n",
      "with open_bson(fileName) as f:\n",
      "    for dict_data in f:\n",
      "        if count % 500000 == 0:\n",
      "            print(count)\n",
      "        tweet = dict_data\n",
      "        if 'tweet_object' in dict_data:\n",
      "            tweet = dict_data['tweet_object']\n",
      "        count += 1\n",
      "        #tweet = dict_data['tweet_object']\n",
      "        tweet_entities = tweet['entities']\n",
      "        if tweet_entities['user_mentions']:\n",
      "            has_user_mentions_count += 1\n",
      "        if tweet_entities['urls']:\n",
      "            has_urls_count += 1\n",
      "            if len(tweet_entities['urls']) > 1:\n",
      "                has_more_one_urls_count\n",
      "            url = tweet_entities['urls'][0]['expanded_url']\n",
      "            if 'https' in url:\n",
      "                https_urls += 1\n",
      "            if 'bit.ly' in url:\n",
      "                bitly_urls += 1\n",
      "            if 'goo.gl' in url:\n",
      "                googl_urls += 1\n",
      "        if tweet_entities['hashtags']:\n",
      "            has_hashtags_count += 1\n",
      "        if tweet_entities['symbols']:\n",
      "            has_symbols_count += 1\n",
      "        if tweet['retweet_count'] > 0:\n",
      "            retweet_count_greater_zero += 1\n",
      "\n",
      "        user = tweet['user']\n",
      "        if convert_to_datetime(tweet['created_at']) > baseline_date:\n",
      "            users_in_month[user['id']] += 1\n",
      "        users[user['id']] += 1"
     ],
     "language": "python",
     "metadata": {},
     "outputs": [
      {
       "output_type": "stream",
       "stream": "stdout",
       "text": [
        "0\n",
        "500000"
       ]
      },
      {
       "output_type": "stream",
       "stream": "stdout",
       "text": [
        "\n",
        "1000000"
       ]
      },
      {
       "output_type": "stream",
       "stream": "stdout",
       "text": [
        "\n",
        "1500000"
       ]
      },
      {
       "output_type": "stream",
       "stream": "stdout",
       "text": [
        "\n",
        "2000000"
       ]
      },
      {
       "output_type": "stream",
       "stream": "stdout",
       "text": [
        "\n",
        "2500000"
       ]
      },
      {
       "output_type": "stream",
       "stream": "stdout",
       "text": [
        "\n",
        "3000000"
       ]
      },
      {
       "output_type": "stream",
       "stream": "stdout",
       "text": [
        "\n",
        "3500000"
       ]
      },
      {
       "output_type": "stream",
       "stream": "stdout",
       "text": [
        "\n",
        "4000000"
       ]
      },
      {
       "output_type": "stream",
       "stream": "stdout",
       "text": [
        "\n",
        "4500000"
       ]
      },
      {
       "output_type": "stream",
       "stream": "stdout",
       "text": [
        "\n"
       ]
      }
     ],
     "prompt_number": 62
    },
    {
     "cell_type": "code",
     "collapsed": false,
     "input": [
      "users[15231287]"
     ],
     "language": "python",
     "metadata": {},
     "outputs": [
      {
       "metadata": {},
       "output_type": "pyout",
       "prompt_number": 64,
       "text": [
        "20"
       ]
      }
     ],
     "prompt_number": 64
    },
    {
     "cell_type": "code",
     "collapsed": false,
     "input": [
      "users[18185124]"
     ],
     "language": "python",
     "metadata": {},
     "outputs": [
      {
       "metadata": {},
       "output_type": "pyout",
       "prompt_number": 66,
       "text": [
        "20"
       ]
      }
     ],
     "prompt_number": 66
    },
    {
     "cell_type": "code",
     "collapsed": false,
     "input": [
      "tweet20 = 0\n",
      "for k,v in users.items():\n",
      "    if v == 20:\n",
      "        tweet20 += 1\n",
      "tweet20"
     ],
     "language": "python",
     "metadata": {},
     "outputs": [
      {
       "metadata": {},
       "output_type": "pyout",
       "prompt_number": 67,
       "text": [
        "98479"
       ]
      }
     ],
     "prompt_number": 67
    },
    {
     "cell_type": "code",
     "collapsed": false,
     "input": [],
     "language": "python",
     "metadata": {},
     "outputs": []
    },
    {
     "cell_type": "markdown",
     "metadata": {},
     "source": [
      "\u0417\u0434\u0435\u0441\u044c \u0432\u0441\u0435\u0433\u0434\u0430 \u0445\u0440\u0430\u043d\u0438\u0442\u0441\u044f \u043f\u043e\u043b\u044c\u0437\u043e\u0432\u0430\u0442\u0435\u043b\u044c, \u043a\u043e\u0442\u043e\u0440\u044b\u0439 \u0441\u0434\u0435\u043b\u0430\u043b \u0442\u0432\u0438\u0442! \u0428\u0438\u043a\u0430\u0440\u043d\u043e!"
     ]
    },
    {
     "cell_type": "code",
     "collapsed": false,
     "input": [
      "print('Total count:', count)\n",
      "print('count_no_tweet:', count_no_tweet)\n",
      "print('has_user_mentions_count: ', has_user_mentions_count)\n",
      "print('has_urls_count:', has_urls_count)\n",
      "print('has_more_one_urls_count:', has_more_one_urls_count)\n",
      "print('https_urls:', https_urls)\n",
      "print('bitly_urls:', bitly_urls)\n",
      "print('googl_urls:', googl_urls)\n",
      "print('has_hashtags_count:', has_hashtags_count)\n",
      "print('has_symbols_count:', has_symbols_count)\n",
      "print('retweet_count_greater_zero:', retweet_count_greater_zero)\n",
      "print('Unique users count:', len(users))\n",
      "print('Unique users in month count:', len(users_in_month))"
     ],
     "language": "python",
     "metadata": {},
     "outputs": [
      {
       "output_type": "stream",
       "stream": "stdout",
       "text": [
        "Total count: 4836547\n",
        "count_no_tweet: 0\n",
        "has_user_mentions_count:  2645018\n",
        "has_urls_count: 2292948\n",
        "has_more_one_urls_count: 0\n",
        "https_urls: 481615\n",
        "bitly_urls: 247101\n",
        "googl_urls: 63313\n",
        "has_hashtags_count: 1352633\n",
        "has_symbols_count: 7884\n",
        "retweet_count_greater_zero: 1866689\n",
        "Unique users count: 138165\n",
        "Unique users in month count: 78715\n"
       ]
      }
     ],
     "prompt_number": 123
    },
    {
     "cell_type": "code",
     "collapsed": false,
     "input": [
      "users_gathered_tweets = {x for x in users.keys()}"
     ],
     "language": "python",
     "metadata": {},
     "outputs": [],
     "prompt_number": 124
    },
    {
     "cell_type": "code",
     "collapsed": false,
     "input": [
      "len(users_gathered_tweets & account_ids)"
     ],
     "language": "python",
     "metadata": {},
     "outputs": [
      {
       "ename": "NameError",
       "evalue": "name 'users_gathered_tweets' is not defined",
       "output_type": "pyerr",
       "traceback": [
        "\u001b[1;31m---------------------------------------------------------------------------\u001b[0m\n\u001b[1;31mNameError\u001b[0m                                 Traceback (most recent call last)",
        "\u001b[1;32m<ipython-input-61-c14114da03b1>\u001b[0m in \u001b[0;36m<module>\u001b[1;34m()\u001b[0m\n\u001b[1;32m----> 1\u001b[1;33m \u001b[0mlen\u001b[0m\u001b[1;33m(\u001b[0m\u001b[0musers_gathered_tweets\u001b[0m \u001b[1;33m&\u001b[0m \u001b[0maccount_ids\u001b[0m\u001b[1;33m)\u001b[0m\u001b[1;33m\u001b[0m\u001b[0m\n\u001b[0m",
        "\u001b[1;31mNameError\u001b[0m: name 'users_gathered_tweets' is not defined"
       ]
      }
     ],
     "prompt_number": 61
    },
    {
     "cell_type": "code",
     "collapsed": false,
     "input": [],
     "language": "python",
     "metadata": {},
     "outputs": []
    },
    {
     "cell_type": "code",
     "collapsed": false,
     "input": [
      "len(pycharm_as_followee & users_gathered_tweets)"
     ],
     "language": "python",
     "metadata": {},
     "outputs": [
      {
       "ename": "NameError",
       "evalue": "name 'pycharm_as_followee' is not defined",
       "output_type": "pyerr",
       "traceback": [
        "\u001b[1;31m---------------------------------------------------------------------------\u001b[0m\n\u001b[1;31mNameError\u001b[0m                                 Traceback (most recent call last)",
        "\u001b[1;32m<ipython-input-2-76914dac23a9>\u001b[0m in \u001b[0;36m<module>\u001b[1;34m()\u001b[0m\n\u001b[1;32m----> 1\u001b[1;33m \u001b[0mlen\u001b[0m\u001b[1;33m(\u001b[0m\u001b[0mpycharm_as_followee\u001b[0m \u001b[1;33m&\u001b[0m \u001b[0musers_gathered_tweets\u001b[0m\u001b[1;33m)\u001b[0m\u001b[1;33m\u001b[0m\u001b[0m\n\u001b[0m",
        "\u001b[1;31mNameError\u001b[0m: name 'pycharm_as_followee' is not defined"
       ]
      }
     ],
     "prompt_number": 2
    },
    {
     "cell_type": "code",
     "collapsed": false,
     "input": [
      "len(first_level_sample & users_gathered_tweets)"
     ],
     "language": "python",
     "metadata": {},
     "outputs": [
      {
       "metadata": {},
       "output_type": "pyout",
       "prompt_number": 129,
       "text": [
        "891"
       ]
      }
     ],
     "prompt_number": 129
    },
    {
     "cell_type": "code",
     "collapsed": false,
     "input": [
      "len(first_level_sample)"
     ],
     "language": "python",
     "metadata": {},
     "outputs": [
      {
       "metadata": {},
       "output_type": "pyout",
       "prompt_number": 130,
       "text": [
        "938"
       ]
      }
     ],
     "prompt_number": 130
    },
    {
     "cell_type": "code",
     "collapsed": false,
     "input": [
      "#238541848 in (first_level_sample & users_gathered_tweets)"
     ],
     "language": "python",
     "metadata": {},
     "outputs": [],
     "prompt_number": 134
    },
    {
     "cell_type": "markdown",
     "metadata": {},
     "source": [
      "\u041c\u043d\u043e\u0433\u043e \u0443\u043f\u043e\u043c\u0438\u043d\u0430\u043d\u0438\u0439, \u0441\u0442\u043e\u0438\u0442 \u043f\u043e\u0441\u043c\u043e\u0442\u0440\u0435\u0442\u044c \u043d\u0430 \u043d\u0438\u0445"
     ]
    },
    {
     "cell_type": "markdown",
     "metadata": {},
     "source": [
      "\u041c\u043d\u043e\u0433\u043e \u043b\u0438\u043d\u043a\u043e\u0432 - \u043d\u0443\u0436\u043d\u043e \u0438\u0441\u043f\u043e\u043b\u044c\u0437\u043e\u0432\u0430\u0442\u044c \u0438\u043d\u0444\u043e\u0440\u043c\u0430\u0446\u0438\u044e, \u0434\u043e \u043a\u043e\u0442\u043e\u0440\u043e\u0439 \u0441\u0443\u043c\u0435\u0435\u043c \u0434\u043e\u0442\u044f\u043d\u0443\u0442\u044c\u0441\u044f"
     ]
    },
    {
     "cell_type": "markdown",
     "metadata": {},
     "source": [
      "\u041b\u0438\u043d\u043a \u0432\u0441\u0435\u0433\u0434\u0430 \u043e\u0434\u0438\u043d!"
     ]
    },
    {
     "cell_type": "markdown",
     "metadata": {},
     "source": [
      "\u0422\u043e\u043b\u044c\u043a\u043e 1/8 \u0447\u0430\u0441\u0442\u044c \u043b\u0438\u043d\u043a\u043e\u0432 bitly \u0438\u043b\u0438 googl."
     ]
    },
    {
     "cell_type": "markdown",
     "metadata": {},
     "source": [
      "\u041c\u043d\u043e\u0433\u043e \u0445\u044d\u0448\u0442\u044d\u0433\u043e\u0432, \u043d\u0443\u0436\u043d\u043e \u043f\u043e\u0441\u043c\u043e\u0442\u0440\u0435\u0442\u044c \u043d\u0430 \u0438\u0445 \u0443\u043d\u0438\u043a\u0430\u043b\u044c\u043d\u043e\u0441\u0442\u044c \u0438 \u0432\u043c\u0435\u043d\u044f\u0435\u043c\u043e\u0441\u0442\u044c"
     ]
    },
    {
     "cell_type": "markdown",
     "metadata": {},
     "source": [
      "\u0425\u0437 \u0447\u0442\u043e \u0442\u0430\u043a\u043e\u0435 symbols... \u0418\u0445 \u0432\u0441\u0435 \u0440\u0430\u0432\u043d\u043e \u043c\u0430\u043b\u043e"
     ]
    },
    {
     "cell_type": "markdown",
     "metadata": {},
     "source": [
      "\u041a\u043e\u043b\u0438\u0447\u0435\u0441\u0442\u0432\u043e \u0443\u043d\u0438\u043a\u0430\u043b\u044c\u043d\u044b\u0445 \u043f\u043e\u043b\u044c\u0437\u043e\u0432\u0430\u0442\u0435\u043b\u0435\u0439 \u0441\u043e\u0432\u043f\u0430\u0434\u0430\u0435\u0442 \u0441 \u043a\u043e\u043b\u0438\u0447\u0435\u0441\u0442\u0432\u043e\u043c timeline'\u043e\u0432."
     ]
    },
    {
     "cell_type": "markdown",
     "metadata": {},
     "source": [
      "\u041a\u043e\u043b\u0438\u0438\u0447\u0435\u0441\u0442\u0432\u043e \u0430\u043a\u0442\u0438\u0432\u043d\u044b\u0445 \u043f\u043e\u043b\u044c\u0437\u043e\u0432\u0430\u0442\u0435\u043b\u0435\u0439 \u0432 \u0442\u0435\u0447\u0435\u043d\u0438\u0438 \u043c\u0435\u0441\u044f\u0446\u0430 \u043d\u0435\u0432\u0435\u043b\u0438\u043a\u043e"
     ]
    },
    {
     "cell_type": "code",
     "collapsed": false,
     "input": [
      "sub_list = np.array([x for x in users.values()])\n",
      "sub_list = sub_list[sub_list < np.percentile(sub_list, 95)]\n",
      "plt.hist(sub_list)"
     ],
     "language": "python",
     "metadata": {},
     "outputs": [
      {
       "metadata": {},
       "output_type": "pyout",
       "prompt_number": 64,
       "text": [
        "(array([ 92097.,    742.,    466.,    325.,    291.,    267.,    231.,\n",
        "           215.,    229.,   2195.]),\n",
        " array([   1. ,   20.8,   40.6,   60.4,   80.2,  100. ,  119.8,  139.6,\n",
        "         159.4,  179.2,  199. ]),\n",
        " <a list of 10 Patch objects>)"
       ]
      },
      {
       "metadata": {},
       "output_type": "display_data",
       "png": "[encoded data removed]",
       "text": [
        "<matplotlib.figure.Figure at 0x4ef73e10>"
       ]
      }
     ],
     "prompt_number": 64
    },
    {
     "cell_type": "code",
     "collapsed": false,
     "input": [],
     "language": "python",
     "metadata": {},
     "outputs": []
    },
    {
     "cell_type": "code",
     "collapsed": false,
     "input": [
      "max(np.array([x for x in users.values()]))"
     ],
     "language": "python",
     "metadata": {},
     "outputs": [
      {
       "metadata": {},
       "output_type": "pyout",
       "prompt_number": 394,
       "text": [
        "8033"
       ]
      }
     ],
     "prompt_number": 394
    },
    {
     "cell_type": "markdown",
     "metadata": {},
     "source": [
      "\u0431\u043e\u043b\u044c\u0448\u0435 3500 - \u043e\u043f\u044f\u0442\u044c-\u0442\u0430\u043a\u0438 \u0441\u0442\u0440\u0430\u043d\u043d\u043e..."
     ]
    },
    {
     "cell_type": "code",
     "collapsed": false,
     "input": [
      "users.most_common(10)"
     ],
     "language": "python",
     "metadata": {},
     "outputs": [
      {
       "metadata": {},
       "output_type": "pyout",
       "prompt_number": 61,
       "text": [
        "[(102937620, 3504),\n",
        " (240658783, 3324),\n",
        " (15290567, 3318),\n",
        " (250273994, 3315),\n",
        " (4915391, 3303),\n",
        " (198754719, 3302),\n",
        " (105233803, 3302),\n",
        " (30317032, 3298),\n",
        " (14486047, 3296),\n",
        " (227381114, 3290)]"
       ]
      }
     ],
     "prompt_number": 61
    },
    {
     "cell_type": "code",
     "collapsed": false,
     "input": [
      "sub_list = np.array([x for x in users_in_month.values()])\n",
      "sub_list = sub_list[sub_list < np.percentile(sub_list, 95)]\n",
      "plt.hist(sub_list)"
     ],
     "language": "python",
     "metadata": {},
     "outputs": [
      {
       "metadata": {},
       "output_type": "pyout",
       "prompt_number": 343,
       "text": [
        "(array([ 2393.,   457.,   188.,   137.,    75.,    54.,    34.,    31.,\n",
        "           23.,    25.]),\n",
        " array([   1.,   16.,   31.,   46.,   61.,   76.,   91.,  106.,  121.,\n",
        "         136.,  151.]),\n",
        " <a list of 10 Patch objects>)"
       ]
      },
      {
       "metadata": {},
       "output_type": "display_data",
       "png": "[encoded data removed]",
       "text": [
        "<matplotlib.figure.Figure at 0x75ab4b70>"
       ]
      }
     ],
     "prompt_number": 343
    },
    {
     "cell_type": "code",
     "collapsed": false,
     "input": [
      "max(np.array([x for x in users_in_month.values()]))"
     ],
     "language": "python",
     "metadata": {},
     "outputs": [
      {
       "metadata": {},
       "output_type": "pyout",
       "prompt_number": 400,
       "text": [
        "3246"
       ]
      }
     ],
     "prompt_number": 400
    },
    {
     "cell_type": "code",
     "collapsed": false,
     "input": [
      "users_in_month.most_common(10)"
     ],
     "language": "python",
     "metadata": {},
     "outputs": [
      {
       "metadata": {},
       "output_type": "pyout",
       "prompt_number": 62,
       "text": [
        "[(129248147, 3276),\n",
        " (18920834, 2092),\n",
        " (227381114, 1381),\n",
        " (753834229, 1175),\n",
        " (14367689, 1110),\n",
        " (3018841323, 1105),\n",
        " (2893396954, 1051),\n",
        " (5121031, 909),\n",
        " (137722850, 870),\n",
        " (97741578, 787)]"
       ]
      }
     ],
     "prompt_number": 62
    },
    {
     "cell_type": "markdown",
     "metadata": {},
     "source": [
      "\u041d\u0438\u0447\u0435\u0433\u043e \u0441\u0435\u0431\u0435 \u043e\u043d\u0438 \u0441\u043f\u0430\u043c\u044f\u0442!)"
     ]
    },
    {
     "cell_type": "code",
     "collapsed": false,
     "input": [],
     "language": "python",
     "metadata": {},
     "outputs": []
    }
   ],
   "metadata": {}
  }
 ]
}